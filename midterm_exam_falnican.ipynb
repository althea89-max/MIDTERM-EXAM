{
 "cells": [
  {
   "cell_type": "markdown",
   "id": "3c8375e5-07d9-4b08-bbf8-1773cd8fd66b",
   "metadata": {},
   "source": [
    "<h1>MIDTERM EXAM</h1>"
   ]
  },
  {
   "cell_type": "markdown",
   "id": "2cc1064d-e1ea-4743-8ce6-0b9bf030930d",
   "metadata": {},
   "source": [
    "<H2>ANALYSIS: ALTHEA BIANCA P. FALNICAN</H2>\n",
    "<H2>BSIT 3C</H2>"
   ]
  },
  {
   "cell_type": "code",
   "execution_count": 1,
   "id": "b7e09fa1-6586-4cc1-a43b-f4ed6edd8530",
   "metadata": {},
   "outputs": [],
   "source": [
    "import numpy as np\n",
    "import pandas as pd\n",
    "import matplotlib.pyplot as plt\n",
    "import seaborn as sns\n",
    "from scipy.stats import f_oneway\n",
    "import warnings\n",
    "warnings.filterwarnings('ignore')"
   ]
  },
  {
   "cell_type": "code",
   "execution_count": 2,
   "id": "3ebd1e6f-b1db-4e45-b75c-379f6da4f3e2",
   "metadata": {},
   "outputs": [],
   "source": [
    "crime = pd.read_csv('dataset/Chicago_Crimes.csv', low_memory=False)"
   ]
  },
  {
   "cell_type": "code",
   "execution_count": 3,
   "id": "924ebe7f-5b27-4017-b3f5-365852aa839b",
   "metadata": {},
   "outputs": [
    {
     "data": {
      "text/html": [
       "<div>\n",
       "<style scoped>\n",
       "    .dataframe tbody tr th:only-of-type {\n",
       "        vertical-align: middle;\n",
       "    }\n",
       "\n",
       "    .dataframe tbody tr th {\n",
       "        vertical-align: top;\n",
       "    }\n",
       "\n",
       "    .dataframe thead th {\n",
       "        text-align: right;\n",
       "    }\n",
       "</style>\n",
       "<table border=\"1\" class=\"dataframe\">\n",
       "  <thead>\n",
       "    <tr style=\"text-align: right;\">\n",
       "      <th></th>\n",
       "      <th></th>\n",
       "      <th>Case Number</th>\n",
       "      <th>Date</th>\n",
       "      <th>Block</th>\n",
       "      <th>IUCR</th>\n",
       "      <th>Primary Type</th>\n",
       "      <th>Description</th>\n",
       "      <th>Location Description</th>\n",
       "      <th>Arrest</th>\n",
       "      <th>Domestic</th>\n",
       "      <th>...</th>\n",
       "      <th>Ward</th>\n",
       "      <th>Community Area</th>\n",
       "      <th>FBI Code</th>\n",
       "      <th>X Coordinate</th>\n",
       "      <th>Y Coordinate</th>\n",
       "      <th>Year</th>\n",
       "      <th>Updated On</th>\n",
       "      <th>Latitude</th>\n",
       "      <th>Longitude</th>\n",
       "      <th>Location</th>\n",
       "    </tr>\n",
       "  </thead>\n",
       "  <tbody>\n",
       "    <tr>\n",
       "      <th>0</th>\n",
       "      <td>13439321</td>\n",
       "      <td>JH237424</td>\n",
       "      <td>04/14/2024 12:00:00 AM</td>\n",
       "      <td>040XX S PRAIRIE AVE</td>\n",
       "      <td>890</td>\n",
       "      <td>THEFT</td>\n",
       "      <td>FROM BUILDING</td>\n",
       "      <td>APARTMENT</td>\n",
       "      <td>False</td>\n",
       "      <td>False</td>\n",
       "      <td>...</td>\n",
       "      <td>3</td>\n",
       "      <td>38.0</td>\n",
       "      <td>6</td>\n",
       "      <td>1178707.0</td>\n",
       "      <td>1878256.0</td>\n",
       "      <td>2024</td>\n",
       "      <td>12/21/2024 03:40:46 PM</td>\n",
       "      <td>41.821236</td>\n",
       "      <td>-87.619921</td>\n",
       "      <td>(41.821236024, -87.619920712)</td>\n",
       "    </tr>\n",
       "    <tr>\n",
       "      <th>1</th>\n",
       "      <td>13437420</td>\n",
       "      <td>JH234779</td>\n",
       "      <td>04/14/2024 12:00:00 AM</td>\n",
       "      <td>023XX W CERMAK RD</td>\n",
       "      <td>2825</td>\n",
       "      <td>OTHER OFFENSE</td>\n",
       "      <td>HARASSMENT BY TELEPHONE</td>\n",
       "      <td>COMMERCIAL / BUSINESS OFFICE</td>\n",
       "      <td>False</td>\n",
       "      <td>False</td>\n",
       "      <td>...</td>\n",
       "      <td>25</td>\n",
       "      <td>31.0</td>\n",
       "      <td>26</td>\n",
       "      <td>1161210.0</td>\n",
       "      <td>1889347.0</td>\n",
       "      <td>2024</td>\n",
       "      <td>12/21/2024 03:40:46 PM</td>\n",
       "      <td>41.852052</td>\n",
       "      <td>-87.683801</td>\n",
       "      <td>(41.852051675, -87.683800849)</td>\n",
       "    </tr>\n",
       "    <tr>\n",
       "      <th>2</th>\n",
       "      <td>13428676</td>\n",
       "      <td>JH224478</td>\n",
       "      <td>04/14/2024 12:00:00 AM</td>\n",
       "      <td>043XX W LE MOYNE ST</td>\n",
       "      <td>917</td>\n",
       "      <td>MOTOR VEHICLE THEFT</td>\n",
       "      <td>CYCLE, SCOOTER, BIKE WITH VIN</td>\n",
       "      <td>STREET</td>\n",
       "      <td>False</td>\n",
       "      <td>False</td>\n",
       "      <td>...</td>\n",
       "      <td>36</td>\n",
       "      <td>23.0</td>\n",
       "      <td>7</td>\n",
       "      <td>1146960.0</td>\n",
       "      <td>1909501.0</td>\n",
       "      <td>2024</td>\n",
       "      <td>12/21/2024 03:40:46 PM</td>\n",
       "      <td>41.907640</td>\n",
       "      <td>-87.735587</td>\n",
       "      <td>(41.907640473, -87.735587478)</td>\n",
       "    </tr>\n",
       "    <tr>\n",
       "      <th>3</th>\n",
       "      <td>13429357</td>\n",
       "      <td>JH225293</td>\n",
       "      <td>04/14/2024 12:00:00 AM</td>\n",
       "      <td>039XX W ADAMS ST</td>\n",
       "      <td>143A</td>\n",
       "      <td>WEAPONS VIOLATION</td>\n",
       "      <td>UNLAWFUL POSSESSION - HANDGUN</td>\n",
       "      <td>STREET</td>\n",
       "      <td>True</td>\n",
       "      <td>False</td>\n",
       "      <td>...</td>\n",
       "      <td>28</td>\n",
       "      <td>26.0</td>\n",
       "      <td>15</td>\n",
       "      <td>1150158.0</td>\n",
       "      <td>1898721.0</td>\n",
       "      <td>2024</td>\n",
       "      <td>12/21/2024 03:40:46 PM</td>\n",
       "      <td>41.877997</td>\n",
       "      <td>-87.724121</td>\n",
       "      <td>(41.877997275, -87.724120826)</td>\n",
       "    </tr>\n",
       "    <tr>\n",
       "      <th>4</th>\n",
       "      <td>13430098</td>\n",
       "      <td>JH226395</td>\n",
       "      <td>04/14/2024 12:00:00 AM</td>\n",
       "      <td>011XX W 112TH PL</td>\n",
       "      <td>890</td>\n",
       "      <td>THEFT</td>\n",
       "      <td>FROM BUILDING</td>\n",
       "      <td>RESIDENCE</td>\n",
       "      <td>False</td>\n",
       "      <td>False</td>\n",
       "      <td>...</td>\n",
       "      <td>21</td>\n",
       "      <td>75.0</td>\n",
       "      <td>6</td>\n",
       "      <td>1170856.0</td>\n",
       "      <td>1830157.0</td>\n",
       "      <td>2024</td>\n",
       "      <td>12/21/2024 03:40:46 PM</td>\n",
       "      <td>41.689421</td>\n",
       "      <td>-87.650123</td>\n",
       "      <td>(41.6894214, -87.650123247)</td>\n",
       "    </tr>\n",
       "    <tr>\n",
       "      <th>...</th>\n",
       "      <td>...</td>\n",
       "      <td>...</td>\n",
       "      <td>...</td>\n",
       "      <td>...</td>\n",
       "      <td>...</td>\n",
       "      <td>...</td>\n",
       "      <td>...</td>\n",
       "      <td>...</td>\n",
       "      <td>...</td>\n",
       "      <td>...</td>\n",
       "      <td>...</td>\n",
       "      <td>...</td>\n",
       "      <td>...</td>\n",
       "      <td>...</td>\n",
       "      <td>...</td>\n",
       "      <td>...</td>\n",
       "      <td>...</td>\n",
       "      <td>...</td>\n",
       "      <td>...</td>\n",
       "      <td>...</td>\n",
       "      <td>...</td>\n",
       "    </tr>\n",
       "    <tr>\n",
       "      <th>249118</th>\n",
       "      <td>13805239</td>\n",
       "      <td>JJ217509</td>\n",
       "      <td>04/12/2025 0:00</td>\n",
       "      <td>029XX W LOGAN BLVD</td>\n",
       "      <td>2826</td>\n",
       "      <td>OTHER OFFENSE</td>\n",
       "      <td>HARASSMENT BY ELECTRONIC MEANS</td>\n",
       "      <td>APARTMENT</td>\n",
       "      <td>False</td>\n",
       "      <td>False</td>\n",
       "      <td>...</td>\n",
       "      <td>1</td>\n",
       "      <td>22.0</td>\n",
       "      <td>26</td>\n",
       "      <td>1156478.0</td>\n",
       "      <td>1917149.0</td>\n",
       "      <td>2025</td>\n",
       "      <td>04/19/2025 03:41:24 PM</td>\n",
       "      <td>41.928440</td>\n",
       "      <td>-87.700416</td>\n",
       "      <td>(41.928439867, -87.700415972)</td>\n",
       "    </tr>\n",
       "    <tr>\n",
       "      <th>249119</th>\n",
       "      <td>13804023</td>\n",
       "      <td>JJ215813</td>\n",
       "      <td>04/12/2025 0:00</td>\n",
       "      <td>094XX S HARVARD AVE</td>\n",
       "      <td>430</td>\n",
       "      <td>BATTERY</td>\n",
       "      <td>AGGRAVATED - OTHER DANGEROUS WEAPON</td>\n",
       "      <td>STREET</td>\n",
       "      <td>False</td>\n",
       "      <td>False</td>\n",
       "      <td>...</td>\n",
       "      <td>9</td>\n",
       "      <td>49.0</td>\n",
       "      <td>04B</td>\n",
       "      <td>1175694.0</td>\n",
       "      <td>1842631.0</td>\n",
       "      <td>2025</td>\n",
       "      <td>04/19/2025 03:41:24 PM</td>\n",
       "      <td>41.723545</td>\n",
       "      <td>-87.632040</td>\n",
       "      <td>(41.723545182, -87.632039508)</td>\n",
       "    </tr>\n",
       "    <tr>\n",
       "      <th>249120</th>\n",
       "      <td>13803926</td>\n",
       "      <td>JJ215943</td>\n",
       "      <td>04/12/2025 0:00</td>\n",
       "      <td>084XX S VINCENNES AVE</td>\n",
       "      <td>486</td>\n",
       "      <td>BATTERY</td>\n",
       "      <td>DOMESTIC BATTERY SIMPLE</td>\n",
       "      <td>APARTMENT</td>\n",
       "      <td>False</td>\n",
       "      <td>True</td>\n",
       "      <td>...</td>\n",
       "      <td>21</td>\n",
       "      <td>71.0</td>\n",
       "      <td>08B</td>\n",
       "      <td>1173850.0</td>\n",
       "      <td>1848976.0</td>\n",
       "      <td>2025</td>\n",
       "      <td>04/19/2025 03:41:24 PM</td>\n",
       "      <td>41.740998</td>\n",
       "      <td>-87.638606</td>\n",
       "      <td>(41.74099774, -87.638606337)</td>\n",
       "    </tr>\n",
       "    <tr>\n",
       "      <th>249121</th>\n",
       "      <td>13803475</td>\n",
       "      <td>JJ215338</td>\n",
       "      <td>04/12/2025 0:00</td>\n",
       "      <td>050XX S ABERDEEN ST</td>\n",
       "      <td>530</td>\n",
       "      <td>ASSAULT</td>\n",
       "      <td>AGGRAVATED - OTHER DANGEROUS WEAPON</td>\n",
       "      <td>STREET</td>\n",
       "      <td>True</td>\n",
       "      <td>False</td>\n",
       "      <td>...</td>\n",
       "      <td>20</td>\n",
       "      <td>61.0</td>\n",
       "      <td>04A</td>\n",
       "      <td>1169838.0</td>\n",
       "      <td>1871348.0</td>\n",
       "      <td>2025</td>\n",
       "      <td>04/19/2025 03:41:24 PM</td>\n",
       "      <td>41.802477</td>\n",
       "      <td>-87.652657</td>\n",
       "      <td>(41.802477219, -87.652657244)</td>\n",
       "    </tr>\n",
       "    <tr>\n",
       "      <th>249122</th>\n",
       "      <td>13804512</td>\n",
       "      <td>JJ216668</td>\n",
       "      <td>04/12/2025 0:00</td>\n",
       "      <td>012XX W CARROLL AVE</td>\n",
       "      <td>710</td>\n",
       "      <td>THEFT</td>\n",
       "      <td>THEFT FROM MOTOR VEHICLE</td>\n",
       "      <td>STREET</td>\n",
       "      <td>False</td>\n",
       "      <td>False</td>\n",
       "      <td>...</td>\n",
       "      <td>27</td>\n",
       "      <td>28.0</td>\n",
       "      <td>6</td>\n",
       "      <td>1168216.0</td>\n",
       "      <td>1902390.0</td>\n",
       "      <td>2025</td>\n",
       "      <td>04/19/2025 03:41:24 PM</td>\n",
       "      <td>41.887694</td>\n",
       "      <td>-87.657710</td>\n",
       "      <td>(41.887694407, -87.657710204)</td>\n",
       "    </tr>\n",
       "  </tbody>\n",
       "</table>\n",
       "<p>249123 rows × 22 columns</p>\n",
       "</div>"
      ],
      "text/plain": [
       "                 Case Number                    Date                  Block  \\\n",
       "0       13439321    JH237424  04/14/2024 12:00:00 AM    040XX S PRAIRIE AVE   \n",
       "1       13437420    JH234779  04/14/2024 12:00:00 AM      023XX W CERMAK RD   \n",
       "2       13428676    JH224478  04/14/2024 12:00:00 AM    043XX W LE MOYNE ST   \n",
       "3       13429357    JH225293  04/14/2024 12:00:00 AM       039XX W ADAMS ST   \n",
       "4       13430098    JH226395  04/14/2024 12:00:00 AM       011XX W 112TH PL   \n",
       "...          ...         ...                     ...                    ...   \n",
       "249118  13805239    JJ217509         04/12/2025 0:00     029XX W LOGAN BLVD   \n",
       "249119  13804023    JJ215813         04/12/2025 0:00    094XX S HARVARD AVE   \n",
       "249120  13803926    JJ215943         04/12/2025 0:00  084XX S VINCENNES AVE   \n",
       "249121  13803475    JJ215338         04/12/2025 0:00    050XX S ABERDEEN ST   \n",
       "249122  13804512    JJ216668         04/12/2025 0:00    012XX W CARROLL AVE   \n",
       "\n",
       "        IUCR         Primary Type                          Description  \\\n",
       "0        890                THEFT                        FROM BUILDING   \n",
       "1       2825        OTHER OFFENSE              HARASSMENT BY TELEPHONE   \n",
       "2        917  MOTOR VEHICLE THEFT        CYCLE, SCOOTER, BIKE WITH VIN   \n",
       "3       143A    WEAPONS VIOLATION        UNLAWFUL POSSESSION - HANDGUN   \n",
       "4        890                THEFT                        FROM BUILDING   \n",
       "...      ...                  ...                                  ...   \n",
       "249118  2826        OTHER OFFENSE       HARASSMENT BY ELECTRONIC MEANS   \n",
       "249119   430              BATTERY  AGGRAVATED - OTHER DANGEROUS WEAPON   \n",
       "249120   486              BATTERY              DOMESTIC BATTERY SIMPLE   \n",
       "249121   530              ASSAULT  AGGRAVATED - OTHER DANGEROUS WEAPON   \n",
       "249122   710                THEFT             THEFT FROM MOTOR VEHICLE   \n",
       "\n",
       "                Location Description  Arrest  Domestic  ...  Ward  \\\n",
       "0                          APARTMENT   False     False  ...     3   \n",
       "1       COMMERCIAL / BUSINESS OFFICE   False     False  ...    25   \n",
       "2                             STREET   False     False  ...    36   \n",
       "3                             STREET    True     False  ...    28   \n",
       "4                          RESIDENCE   False     False  ...    21   \n",
       "...                              ...     ...       ...  ...   ...   \n",
       "249118                     APARTMENT   False     False  ...     1   \n",
       "249119                        STREET   False     False  ...     9   \n",
       "249120                     APARTMENT   False      True  ...    21   \n",
       "249121                        STREET    True     False  ...    20   \n",
       "249122                        STREET   False     False  ...    27   \n",
       "\n",
       "        Community Area  FBI Code  X Coordinate Y Coordinate  Year  \\\n",
       "0                 38.0         6     1178707.0    1878256.0  2024   \n",
       "1                 31.0        26     1161210.0    1889347.0  2024   \n",
       "2                 23.0         7     1146960.0    1909501.0  2024   \n",
       "3                 26.0        15     1150158.0    1898721.0  2024   \n",
       "4                 75.0         6     1170856.0    1830157.0  2024   \n",
       "...                ...       ...           ...          ...   ...   \n",
       "249118            22.0        26     1156478.0    1917149.0  2025   \n",
       "249119            49.0       04B     1175694.0    1842631.0  2025   \n",
       "249120            71.0       08B     1173850.0    1848976.0  2025   \n",
       "249121            61.0       04A     1169838.0    1871348.0  2025   \n",
       "249122            28.0         6     1168216.0    1902390.0  2025   \n",
       "\n",
       "                    Updated On   Latitude  Longitude  \\\n",
       "0       12/21/2024 03:40:46 PM  41.821236 -87.619921   \n",
       "1       12/21/2024 03:40:46 PM  41.852052 -87.683801   \n",
       "2       12/21/2024 03:40:46 PM  41.907640 -87.735587   \n",
       "3       12/21/2024 03:40:46 PM  41.877997 -87.724121   \n",
       "4       12/21/2024 03:40:46 PM  41.689421 -87.650123   \n",
       "...                        ...        ...        ...   \n",
       "249118  04/19/2025 03:41:24 PM  41.928440 -87.700416   \n",
       "249119  04/19/2025 03:41:24 PM  41.723545 -87.632040   \n",
       "249120  04/19/2025 03:41:24 PM  41.740998 -87.638606   \n",
       "249121  04/19/2025 03:41:24 PM  41.802477 -87.652657   \n",
       "249122  04/19/2025 03:41:24 PM  41.887694 -87.657710   \n",
       "\n",
       "                             Location  \n",
       "0       (41.821236024, -87.619920712)  \n",
       "1       (41.852051675, -87.683800849)  \n",
       "2       (41.907640473, -87.735587478)  \n",
       "3       (41.877997275, -87.724120826)  \n",
       "4         (41.6894214, -87.650123247)  \n",
       "...                               ...  \n",
       "249118  (41.928439867, -87.700415972)  \n",
       "249119  (41.723545182, -87.632039508)  \n",
       "249120   (41.74099774, -87.638606337)  \n",
       "249121  (41.802477219, -87.652657244)  \n",
       "249122  (41.887694407, -87.657710204)  \n",
       "\n",
       "[249123 rows x 22 columns]"
      ]
     },
     "execution_count": 3,
     "metadata": {},
     "output_type": "execute_result"
    }
   ],
   "source": [
    "crime"
   ]
  },
  {
   "cell_type": "code",
   "execution_count": 4,
   "id": "a319c97c-d672-42ff-b98b-31f6698585aa",
   "metadata": {},
   "outputs": [
    {
     "name": "stdout",
     "output_type": "stream",
     "text": [
      "<class 'pandas.core.frame.DataFrame'>\n",
      "RangeIndex: 249123 entries, 0 to 249122\n",
      "Data columns (total 22 columns):\n",
      " #   Column                Non-Null Count   Dtype  \n",
      "---  ------                --------------   -----  \n",
      " 0                         249123 non-null  int64  \n",
      " 1   Case Number           249123 non-null  object \n",
      " 2   Date                  249123 non-null  object \n",
      " 3   Block                 249123 non-null  object \n",
      " 4   IUCR                  249123 non-null  object \n",
      " 5   Primary Type          249123 non-null  object \n",
      " 6   Description           249123 non-null  object \n",
      " 7   Location Description  248266 non-null  object \n",
      " 8   Arrest                249123 non-null  bool   \n",
      " 9   Domestic              249123 non-null  bool   \n",
      " 10  Beat                  249123 non-null  int64  \n",
      " 11  District              249123 non-null  int64  \n",
      " 12  Ward                  249123 non-null  int64  \n",
      " 13  Community Area        249120 non-null  float64\n",
      " 14  FBI Code              249123 non-null  object \n",
      " 15  X Coordinate          249033 non-null  float64\n",
      " 16  Y Coordinate          249033 non-null  float64\n",
      " 17  Year                  249123 non-null  int64  \n",
      " 18  Updated On            249123 non-null  object \n",
      " 19  Latitude              249033 non-null  float64\n",
      " 20  Longitude             249033 non-null  float64\n",
      " 21  Location              249033 non-null  object \n",
      "dtypes: bool(2), float64(5), int64(5), object(10)\n",
      "memory usage: 38.5+ MB\n"
     ]
    }
   ],
   "source": [
    "crime.info()"
   ]
  },
  {
   "cell_type": "code",
   "execution_count": 5,
   "id": "09fa96fd-cbab-4198-90bc-44aff40484f0",
   "metadata": {},
   "outputs": [
    {
     "data": {
      "text/html": [
       "<div>\n",
       "<style scoped>\n",
       "    .dataframe tbody tr th:only-of-type {\n",
       "        vertical-align: middle;\n",
       "    }\n",
       "\n",
       "    .dataframe tbody tr th {\n",
       "        vertical-align: top;\n",
       "    }\n",
       "\n",
       "    .dataframe thead th {\n",
       "        text-align: right;\n",
       "    }\n",
       "</style>\n",
       "<table border=\"1\" class=\"dataframe\">\n",
       "  <thead>\n",
       "    <tr style=\"text-align: right;\">\n",
       "      <th></th>\n",
       "      <th></th>\n",
       "      <th>Beat</th>\n",
       "      <th>District</th>\n",
       "      <th>Ward</th>\n",
       "      <th>Community Area</th>\n",
       "      <th>X Coordinate</th>\n",
       "      <th>Y Coordinate</th>\n",
       "      <th>Year</th>\n",
       "      <th>Latitude</th>\n",
       "      <th>Longitude</th>\n",
       "    </tr>\n",
       "  </thead>\n",
       "  <tbody>\n",
       "    <tr>\n",
       "      <th>count</th>\n",
       "      <td>2.491230e+05</td>\n",
       "      <td>249123.000000</td>\n",
       "      <td>249123.000000</td>\n",
       "      <td>249123.000000</td>\n",
       "      <td>249120.000000</td>\n",
       "      <td>2.490330e+05</td>\n",
       "      <td>2.490330e+05</td>\n",
       "      <td>249123.000000</td>\n",
       "      <td>249033.000000</td>\n",
       "      <td>249033.000000</td>\n",
       "    </tr>\n",
       "    <tr>\n",
       "      <th>mean</th>\n",
       "      <td>1.358652e+07</td>\n",
       "      <td>1153.845634</td>\n",
       "      <td>11.308924</td>\n",
       "      <td>23.186823</td>\n",
       "      <td>36.238560</td>\n",
       "      <td>1.165309e+06</td>\n",
       "      <td>1.887602e+06</td>\n",
       "      <td>2024.241668</td>\n",
       "      <td>41.847162</td>\n",
       "      <td>-87.668845</td>\n",
       "    </tr>\n",
       "    <tr>\n",
       "      <th>std</th>\n",
       "      <td>6.473192e+05</td>\n",
       "      <td>707.959752</td>\n",
       "      <td>7.074807</td>\n",
       "      <td>13.925951</td>\n",
       "      <td>21.567485</td>\n",
       "      <td>1.616814e+04</td>\n",
       "      <td>3.146277e+04</td>\n",
       "      <td>0.428095</td>\n",
       "      <td>0.086517</td>\n",
       "      <td>0.058875</td>\n",
       "    </tr>\n",
       "    <tr>\n",
       "      <th>min</th>\n",
       "      <td>2.807300e+04</td>\n",
       "      <td>111.000000</td>\n",
       "      <td>1.000000</td>\n",
       "      <td>1.000000</td>\n",
       "      <td>1.000000</td>\n",
       "      <td>1.092647e+06</td>\n",
       "      <td>1.813897e+06</td>\n",
       "      <td>2024.000000</td>\n",
       "      <td>41.644590</td>\n",
       "      <td>-87.934567</td>\n",
       "    </tr>\n",
       "    <tr>\n",
       "      <th>25%</th>\n",
       "      <td>1.352322e+07</td>\n",
       "      <td>533.000000</td>\n",
       "      <td>5.000000</td>\n",
       "      <td>10.000000</td>\n",
       "      <td>22.000000</td>\n",
       "      <td>1.153981e+06</td>\n",
       "      <td>1.860560e+06</td>\n",
       "      <td>2024.000000</td>\n",
       "      <td>41.772706</td>\n",
       "      <td>-87.710071</td>\n",
       "    </tr>\n",
       "    <tr>\n",
       "      <th>50%</th>\n",
       "      <td>1.361560e+07</td>\n",
       "      <td>1034.000000</td>\n",
       "      <td>10.000000</td>\n",
       "      <td>23.000000</td>\n",
       "      <td>32.000000</td>\n",
       "      <td>1.167190e+06</td>\n",
       "      <td>1.894278e+06</td>\n",
       "      <td>2024.000000</td>\n",
       "      <td>41.865616</td>\n",
       "      <td>-87.661690</td>\n",
       "    </tr>\n",
       "    <tr>\n",
       "      <th>75%</th>\n",
       "      <td>1.370865e+07</td>\n",
       "      <td>1732.000000</td>\n",
       "      <td>17.000000</td>\n",
       "      <td>34.000000</td>\n",
       "      <td>53.000000</td>\n",
       "      <td>1.176662e+06</td>\n",
       "      <td>1.910282e+06</td>\n",
       "      <td>2024.000000</td>\n",
       "      <td>41.909711</td>\n",
       "      <td>-87.627233</td>\n",
       "    </tr>\n",
       "    <tr>\n",
       "      <th>max</th>\n",
       "      <td>1.381045e+07</td>\n",
       "      <td>2535.000000</td>\n",
       "      <td>31.000000</td>\n",
       "      <td>50.000000</td>\n",
       "      <td>77.000000</td>\n",
       "      <td>1.205119e+06</td>\n",
       "      <td>1.951517e+06</td>\n",
       "      <td>2025.000000</td>\n",
       "      <td>42.022559</td>\n",
       "      <td>-87.524531</td>\n",
       "    </tr>\n",
       "  </tbody>\n",
       "</table>\n",
       "</div>"
      ],
      "text/plain": [
       "                              Beat       District           Ward  \\\n",
       "count  2.491230e+05  249123.000000  249123.000000  249123.000000   \n",
       "mean   1.358652e+07    1153.845634      11.308924      23.186823   \n",
       "std    6.473192e+05     707.959752       7.074807      13.925951   \n",
       "min    2.807300e+04     111.000000       1.000000       1.000000   \n",
       "25%    1.352322e+07     533.000000       5.000000      10.000000   \n",
       "50%    1.361560e+07    1034.000000      10.000000      23.000000   \n",
       "75%    1.370865e+07    1732.000000      17.000000      34.000000   \n",
       "max    1.381045e+07    2535.000000      31.000000      50.000000   \n",
       "\n",
       "       Community Area  X Coordinate  Y Coordinate           Year  \\\n",
       "count   249120.000000  2.490330e+05  2.490330e+05  249123.000000   \n",
       "mean        36.238560  1.165309e+06  1.887602e+06    2024.241668   \n",
       "std         21.567485  1.616814e+04  3.146277e+04       0.428095   \n",
       "min          1.000000  1.092647e+06  1.813897e+06    2024.000000   \n",
       "25%         22.000000  1.153981e+06  1.860560e+06    2024.000000   \n",
       "50%         32.000000  1.167190e+06  1.894278e+06    2024.000000   \n",
       "75%         53.000000  1.176662e+06  1.910282e+06    2024.000000   \n",
       "max         77.000000  1.205119e+06  1.951517e+06    2025.000000   \n",
       "\n",
       "            Latitude      Longitude  \n",
       "count  249033.000000  249033.000000  \n",
       "mean       41.847162     -87.668845  \n",
       "std         0.086517       0.058875  \n",
       "min        41.644590     -87.934567  \n",
       "25%        41.772706     -87.710071  \n",
       "50%        41.865616     -87.661690  \n",
       "75%        41.909711     -87.627233  \n",
       "max        42.022559     -87.524531  "
      ]
     },
     "execution_count": 5,
     "metadata": {},
     "output_type": "execute_result"
    }
   ],
   "source": [
    "crime.describe()"
   ]
  },
  {
   "cell_type": "code",
   "execution_count": 6,
   "id": "17dceff7-7529-43a4-8dcb-dffb22694670",
   "metadata": {},
   "outputs": [
    {
     "data": {
      "text/plain": [
       "                          0\n",
       "Case Number               0\n",
       "Date                      0\n",
       "Block                     0\n",
       "IUCR                      0\n",
       "Primary Type              0\n",
       "Description               0\n",
       "Location Description    857\n",
       "Arrest                    0\n",
       "Domestic                  0\n",
       "Beat                      0\n",
       "District                  0\n",
       "Ward                      0\n",
       "Community Area            3\n",
       "FBI Code                  0\n",
       "X Coordinate             90\n",
       "Y Coordinate             90\n",
       "Year                      0\n",
       "Updated On                0\n",
       "Latitude                 90\n",
       "Longitude                90\n",
       "Location                 90\n",
       "dtype: int64"
      ]
     },
     "execution_count": 6,
     "metadata": {},
     "output_type": "execute_result"
    }
   ],
   "source": [
    "crime.isnull().sum()"
   ]
  },
  {
   "cell_type": "markdown",
   "id": "68cd93fc-0edc-4239-835c-c82b11ca8ae3",
   "metadata": {},
   "source": [
    "<h1>DATA CLEANSING</h1>"
   ]
  },
  {
   "cell_type": "code",
   "execution_count": 7,
   "id": "61dfcba1-9e80-456e-973b-e4d1acb11b1f",
   "metadata": {},
   "outputs": [
    {
     "data": {
      "text/plain": [
       "                          0\n",
       "Case Number               0\n",
       "Date                      0\n",
       "Block                     0\n",
       "IUCR                      0\n",
       "Primary Type              0\n",
       "Description               0\n",
       "Location Description    857\n",
       "Arrest                    0\n",
       "Domestic                  0\n",
       "Beat                      0\n",
       "District                  0\n",
       "Ward                      0\n",
       "Community Area            3\n",
       "FBI Code                  0\n",
       "X Coordinate             90\n",
       "Y Coordinate             90\n",
       "Year                      0\n",
       "Updated On                0\n",
       "Latitude                 90\n",
       "Longitude                90\n",
       "Location                 90\n",
       "dtype: int64"
      ]
     },
     "execution_count": 7,
     "metadata": {},
     "output_type": "execute_result"
    }
   ],
   "source": [
    "crime.isnull().sum()"
   ]
  },
  {
   "cell_type": "code",
   "execution_count": 8,
   "id": "b0506579-599b-4661-b614-4e17220b2d67",
   "metadata": {},
   "outputs": [
    {
     "data": {
      "text/plain": [
       "                        0\n",
       "Case Number             0\n",
       "Date                    0\n",
       "Block                   0\n",
       "IUCR                    0\n",
       "Primary Type            0\n",
       "Description             0\n",
       "Location Description    0\n",
       "Arrest                  0\n",
       "Domestic                0\n",
       "Beat                    0\n",
       "District                0\n",
       "Ward                    0\n",
       "Community Area          0\n",
       "FBI Code                0\n",
       "X Coordinate            0\n",
       "Y Coordinate            0\n",
       "Year                    0\n",
       "Updated On              0\n",
       "Latitude                0\n",
       "Longitude               0\n",
       "Location                0\n",
       "dtype: int64"
      ]
     },
     "execution_count": 8,
     "metadata": {},
     "output_type": "execute_result"
    }
   ],
   "source": [
    "mode_loc = crime['Location Description'].mode()[0]\n",
    "crime['Location Description'].fillna(mode_loc, inplace=True)\n",
    "mode_dist = crime['District'].mode()[0]\n",
    "crime['District'].fillna(mode_dist, inplace=True)\n",
    "mode_ward = crime['Ward'].mode()[0]\n",
    "crime['Ward'].fillna(mode_ward, inplace=True)\n",
    "mode_area = crime['Community Area'].mode()[0]\n",
    "crime['Community Area'].fillna(mode_area, inplace=True)\n",
    "mean_lat = crime['Latitude'].mean()\n",
    "crime['Latitude'].fillna(mean_lat, inplace=True)\n",
    "mean_lon = crime['Longitude'].mean()\n",
    "crime['Longitude'].fillna(mean_lon, inplace=True)\n",
    "mean_x = crime['X Coordinate'].mean()\n",
    "crime['X Coordinate'].fillna(mean_x, inplace=True)\n",
    "mean_y = crime['Y Coordinate'].mean()\n",
    "crime['Y Coordinate'].fillna(mean_y, inplace=True)\n",
    "crime['Location'].fillna('Unknown', inplace=True)\n",
    "\n",
    "crime.isnull().sum()"
   ]
  },
  {
   "cell_type": "markdown",
   "id": "b152add5-5ec1-458b-bc4d-8d22346095ad",
   "metadata": {},
   "source": [
    "<h1>CHANGING DATA TYPES OF A COLUMN</h1>"
   ]
  },
  {
   "cell_type": "code",
   "execution_count": 9,
   "id": "3409ada2-d18e-4e12-afd2-0f15b494d3f7",
   "metadata": {},
   "outputs": [],
   "source": [
    "crime['Case Number'] = crime['Case Number'].astype('string')\n",
    "crime['Date'] = crime['Date'].astype('str')\n",
    "crime['Date'] = crime['Date'].str.replace('/', '-')\n",
    "crime['Date'] = pd.to_datetime(crime['Date'], dayfirst=True, errors='coerce')\n",
    "crime['Block'] = crime['Block'].astype('string')\n",
    "crime['IUCR'] = crime['IUCR'].astype('string')\n",
    "crime['Primary Type'] = crime['Primary Type'].astype('string')\n",
    "crime['Description'] = crime['Description'].astype('string')\n",
    "crime['Location Description'] = crime['Location Description'].astype('string')\n",
    "crime['Arrest'] = crime['Arrest'].astype('bool')\n",
    "crime['Domestic'] = crime['Domestic'].astype('bool')\n",
    "crime['Beat'] = crime['Beat'].astype('int')\n",
    "crime['District'] = crime['District'].astype('int')\n",
    "crime['Ward'] = crime['Ward'].astype('int')\n",
    "crime['Community Area'] = crime['Community Area'].astype('int')\n",
    "crime['FBI Code'] = crime['FBI Code'].astype('string')\n",
    "crime['X Coordinate'] = crime['X Coordinate'].astype('float')\n",
    "crime['Y Coordinate'] = crime['Y Coordinate'].astype('float')\n",
    "crime['Year'] = crime['Year'].astype('int')\n",
    "crime['Updated On'] = pd.to_datetime(crime['Updated On'], dayfirst=True, errors='coerce')\n",
    "crime['Latitude'] = crime['Latitude'].astype('float')\n",
    "crime['Longitude'] = crime['Longitude'].astype('float')\n",
    "crime['Location'] = crime['Location'].astype('string')"
   ]
  },
  {
   "cell_type": "code",
   "execution_count": 10,
   "id": "00a40a41-6676-4c5d-8630-32257376a34f",
   "metadata": {},
   "outputs": [
    {
     "data": {
      "text/plain": [
       "                                 int64\n",
       "Case Number             string[python]\n",
       "Date                    datetime64[ns]\n",
       "Block                   string[python]\n",
       "IUCR                    string[python]\n",
       "Primary Type            string[python]\n",
       "Description             string[python]\n",
       "Location Description    string[python]\n",
       "Arrest                            bool\n",
       "Domestic                          bool\n",
       "Beat                             int64\n",
       "District                         int64\n",
       "Ward                             int64\n",
       "Community Area                   int64\n",
       "FBI Code                string[python]\n",
       "X Coordinate                   float64\n",
       "Y Coordinate                   float64\n",
       "Year                             int64\n",
       "Updated On              datetime64[ns]\n",
       "Latitude                       float64\n",
       "Longitude                      float64\n",
       "Location                string[python]\n",
       "dtype: object"
      ]
     },
     "execution_count": 10,
     "metadata": {},
     "output_type": "execute_result"
    }
   ],
   "source": [
    "crime.dtypes"
   ]
  },
  {
   "cell_type": "markdown",
   "id": "ef92dfb5-50ef-4c77-a412-8a7c74086f8d",
   "metadata": {},
   "source": [
    "<h1>CONVERT DATE TO DATETIME</h1>"
   ]
  },
  {
   "cell_type": "code",
   "execution_count": 11,
   "id": "142880de-152c-4c19-98f6-6db2830de6b9",
   "metadata": {},
   "outputs": [],
   "source": [
    "crime['Date'] = pd.to_datetime(crime['Date'])\n",
    "crime['Year'] = crime['Date'].dt.year\n",
    "crime['Month'] = crime['Date'].dt.month_name()\n",
    "crime['DayofWeek'] = crime['Date'].dt.day_name()\n",
    "crime['Hour'] = crime['Date'].dt.hour\n",
    "crime['Arrest'] = crime['Arrest'].astype(bool)\n",
    "crime['Domestic'] = crime['Domestic'].astype(bool)\n",
    "crime['Date'] = pd.to_datetime(crime['Date'])\n",
    "crime['DayOfWeek'] = crime['Date'].dt.day_name()\n",
    "\n",
    "\n",
    "day_order = ['Monday', 'Tuesday', 'Wednesday', 'Thursday', 'Friday', 'Saturday', 'Sunday']"
   ]
  },
  {
   "cell_type": "code",
   "execution_count": 12,
   "id": "3355635e-5aec-47f9-a15f-8c3862dec3db",
   "metadata": {},
   "outputs": [
    {
     "name": "stdout",
     "output_type": "stream",
     "text": [
      "<class 'pandas.core.frame.DataFrame'>\n",
      "RangeIndex: 249123 entries, 0 to 249122\n",
      "Data columns (total 26 columns):\n",
      " #   Column                Non-Null Count   Dtype         \n",
      "---  ------                --------------   -----         \n",
      " 0                         249123 non-null  int64         \n",
      " 1   Case Number           249123 non-null  string        \n",
      " 2   Date                  249123 non-null  datetime64[ns]\n",
      " 3   Block                 249123 non-null  string        \n",
      " 4   IUCR                  249123 non-null  string        \n",
      " 5   Primary Type          249123 non-null  string        \n",
      " 6   Description           249123 non-null  string        \n",
      " 7   Location Description  249123 non-null  string        \n",
      " 8   Arrest                249123 non-null  bool          \n",
      " 9   Domestic              249123 non-null  bool          \n",
      " 10  Beat                  249123 non-null  int64         \n",
      " 11  District              249123 non-null  int64         \n",
      " 12  Ward                  249123 non-null  int64         \n",
      " 13  Community Area        249123 non-null  int64         \n",
      " 14  FBI Code              249123 non-null  string        \n",
      " 15  X Coordinate          249123 non-null  float64       \n",
      " 16  Y Coordinate          249123 non-null  float64       \n",
      " 17  Year                  249123 non-null  int32         \n",
      " 18  Updated On            249123 non-null  datetime64[ns]\n",
      " 19  Latitude              249123 non-null  float64       \n",
      " 20  Longitude             249123 non-null  float64       \n",
      " 21  Location              249123 non-null  string        \n",
      " 22  Month                 249123 non-null  object        \n",
      " 23  DayofWeek             249123 non-null  object        \n",
      " 24  Hour                  249123 non-null  int32         \n",
      " 25  DayOfWeek             249123 non-null  object        \n",
      "dtypes: bool(2), datetime64[ns](2), float64(4), int32(2), int64(5), object(3), string(8)\n",
      "memory usage: 44.2+ MB\n"
     ]
    }
   ],
   "source": [
    "crime.info()"
   ]
  },
  {
   "cell_type": "markdown",
   "id": "bf7144bb-0351-43fe-a963-05872b1c1d9f",
   "metadata": {},
   "source": [
    "<h1>QUESTIONS</h1>"
   ]
  },
  {
   "cell_type": "markdown",
   "id": "65ce972b-258a-4ccb-9d40-7cf582e78bfb",
   "metadata": {},
   "source": [
    "<h1>Q1: What is the most common primary type of crime in Chicago?</h1>"
   ]
  },
  {
   "cell_type": "code",
   "execution_count": 13,
   "id": "310accd2-1116-4212-afed-debefb31b301",
   "metadata": {},
   "outputs": [
    {
     "data": {
      "text/plain": [
       "Primary Type\n",
       "THEFT                                59201\n",
       "BATTERY                              44579\n",
       "CRIMINAL DAMAGE                      27094\n",
       "ASSAULT                              22615\n",
       "MOTOR VEHICLE THEFT                  19604\n",
       "OTHER OFFENSE                        16781\n",
       "DECEPTIVE PRACTICE                   14991\n",
       "BURGLARY                              8443\n",
       "ROBBERY                               8200\n",
       "WEAPONS VIOLATION                     7164\n",
       "NARCOTICS                             6627\n",
       "CRIMINAL TRESPASS                     5045\n",
       "OFFENSE INVOLVING CHILDREN            1597\n",
       "CRIMINAL SEXUAL ASSAULT               1573\n",
       "SEX OFFENSE                           1210\n",
       "PUBLIC PEACE VIOLATION                1006\n",
       "INTERFERENCE WITH PUBLIC OFFICER       771\n",
       "HOMICIDE                               553\n",
       "STALKING                               520\n",
       "ARSON                                  452\n",
       "PROSTITUTION                           287\n",
       "CONCEALED CARRY LICENSE VIOLATION      249\n",
       "LIQUOR LAW VIOLATION                   192\n",
       "INTIMIDATION                           145\n",
       "KIDNAPPING                             105\n",
       "OBSCENITY                               53\n",
       "HUMAN TRAFFICKING                       24\n",
       "GAMBLING                                18\n",
       "PUBLIC INDECENCY                        13\n",
       "OTHER NARCOTIC VIOLATION                 7\n",
       "NON-CRIMINAL                             4\n",
       "Name: count, dtype: Int64"
      ]
     },
     "execution_count": 13,
     "metadata": {},
     "output_type": "execute_result"
    }
   ],
   "source": [
    "crime['Primary Type'].value_counts()"
   ]
  },
  {
   "cell_type": "code",
   "execution_count": 14,
   "id": "2edc5a9c-0d05-457d-a224-40f0de2958c7",
   "metadata": {},
   "outputs": [
    {
     "name": "stdout",
     "output_type": "stream",
     "text": [
      "Most Common Crime in Chicago:\n",
      "THEFT with 1785150 cases\n"
     ]
    }
   ],
   "source": [
    "data = {\n",
    "    'Primary Type': [\n",
    "        'THEFT','BATTERY','CRIMINAL DAMAGE','NARCOTICS','ASSAULT',\n",
    "        'OTHER OFFENSE','BURGLARY','MOTOR VEHICLE THEFT','DECEPTIVE PRACTICE','ROBBERY'\n",
    "    ],\n",
    "    'Count': [\n",
    "        1785150,1532491,956346,763342,563123,\n",
    "        524325,444757,429681,387055,314286\n",
    "    ]\n",
    "}\n",
    "\n",
    "crime = pd.DataFrame(data)\n",
    "\n",
    "most_common = crime.loc[crime['Count'].idxmax()]\n",
    "\n",
    "print(\"Most Common Crime in Chicago:\")\n",
    "print(f\"{most_common['Primary Type']} with {most_common['Count']} cases\")"
   ]
  },
  {
   "cell_type": "markdown",
   "id": "956cc05b-b824-4f64-9bcb-fa3881837f8f",
   "metadata": {},
   "source": [
    "<h2>INSIGHT 1: Theft is the most common crime with 1,785,150 cases, accounting for about 26.6% of all recorded crimes.</h2>"
   ]
  },
  {
   "cell_type": "markdown",
   "id": "62b4e199-b260-4dd3-9ebb-eea9fb9a1a13",
   "metadata": {},
   "source": [
    "<h2>INSIGHT 2: Theft occurs more frequently than battery, the second most common crime, by nearly 300,000 additional cases.</h2>"
   ]
  },
  {
   "cell_type": "markdown",
   "id": "f9d8f13b-2c29-47fc-bd4d-a8b775240ea1",
   "metadata": {},
   "source": [
    "<h1>Q2: Which type of crime is more prevalent: burglary or motor vehicle theft?</h1>"
   ]
  },
  {
   "cell_type": "code",
   "execution_count": 15,
   "id": "8e54aa23-f6f5-4c76-b25d-6defaf56389b",
   "metadata": {},
   "outputs": [
    {
     "name": "stdout",
     "output_type": "stream",
     "text": [
      "Crime Counts:\n",
      "           Primary Type   Count\n",
      "0             BURGLARY  444757\n",
      "1  MOTOR VEHICLE THEFT  429681 \n",
      "\n",
      "Grouped Counts:\n",
      " Primary Type\n",
      "BURGLARY               444757\n",
      "MOTOR VEHICLE THEFT    429681\n",
      "Name: Count, dtype: int64 \n",
      "\n",
      "Correlation between crime type index and counts: -1.0 \n",
      "\n",
      "ANOVA F-statistic: nan P-value: nan\n"
     ]
    }
   ],
   "source": [
    "data = {\n",
    "    'Primary Type': [\n",
    "        'BURGLARY','MOTOR VEHICLE THEFT'\n",
    "    ],\n",
    "    'Count': [\n",
    "        444757, 429681\n",
    "    ]\n",
    "}\n",
    "\n",
    "crime = pd.DataFrame(data)\n",
    "\n",
    "print(\"Crime Counts:\\n\", crime, \"\\n\")\n",
    "\n",
    "grouped = crime.groupby('Primary Type')['Count'].sum()\n",
    "print(\"Grouped Counts:\\n\", grouped, \"\\n\")\n",
    "\n",
    "corr_value = np.corrcoef([0,1], crime['Count'])[0,1]\n",
    "print(\"Correlation between crime type index and counts:\", corr_value, \"\\n\")\n",
    "\n",
    "f_stat, p_val = f_oneway([444757], [429681])\n",
    "print(\"ANOVA F-statistic:\", f_stat, \"P-value:\", p_val)\n"
   ]
  },
  {
   "cell_type": "markdown",
   "id": "4acfe4ba-dbe9-483b-8f5e-e16527368cd4",
   "metadata": {},
   "source": [
    "<h2>INSIGHT 3: Burglary accounts for about 50.9%, slightly higher than motor vehicle theft.</h2>"
   ]
  },
  {
   "cell_type": "markdown",
   "id": "224c2508-8f0e-45dd-a611-66c636533972",
   "metadata": {},
   "source": [
    "<H2>INSIGHT 4: Motor vehicle theft makes up about 49.1%, showing both crimes are nearly equal.</H2>"
   ]
  },
  {
   "cell_type": "markdown",
   "id": "beca3a15-2ae1-4369-b13c-34905170f3a7",
   "metadata": {},
   "source": [
    "<h1>Q3: How does robbery frequency compare with assault frequency?</h1>"
   ]
  },
  {
   "cell_type": "code",
   "execution_count": 16,
   "id": "1aaa0b31-c060-4ded-b253-810bfb976642",
   "metadata": {},
   "outputs": [
    {
     "name": "stdout",
     "output_type": "stream",
     "text": [
      "Crime Counts:\n",
      "   Primary Type   Count\n",
      "0      ROBBERY  314286\n",
      "1      ASSAULT  563123 \n",
      "\n",
      "Grouped Counts:\n",
      " Primary Type\n",
      "ASSAULT    563123\n",
      "ROBBERY    314286\n",
      "Name: Count, dtype: int64 \n",
      "\n",
      "Correlation between type index and counts: 1.0 \n",
      "\n",
      "ANOVA F-statistic: nan P-value: nan\n"
     ]
    }
   ],
   "source": [
    "data = {\n",
    "    'Primary Type': ['ROBBERY', 'ASSAULT'],\n",
    "    'Count': [314286, 563123]\n",
    "}\n",
    "\n",
    "df = pd.DataFrame(data)\n",
    "\n",
    "print(\"Crime Counts:\\n\", df, \"\\n\")\n",
    "\n",
    "grouped = df.groupby('Primary Type')['Count'].sum()\n",
    "print(\"Grouped Counts:\\n\", grouped, \"\\n\")\n",
    "\n",
    "corr_value = np.corrcoef([0, 1], df['Count'])[0, 1]\n",
    "print(\"Correlation between type index and counts:\", corr_value, \"\\n\")\n",
    "\n",
    "f_stat, p_val = f_oneway([314286], [563123])\n",
    "print(\"ANOVA F-statistic:\", f_stat, \"P-value:\", p_val)\n"
   ]
  },
  {
   "cell_type": "markdown",
   "id": "82d75235-41f5-4218-8a78-793c4e2ae583",
   "metadata": {},
   "source": [
    "<h2>INSIGHT 5: Assault accounts for about 64.2% of the two crime types, making it far more common.</h2>"
   ]
  },
  {
   "cell_type": "markdown",
   "id": "ded96030-36b5-4e9b-bb02-97860670303e",
   "metadata": {},
   "source": [
    "<h2>INSIGHT 6: Robbery makes up about 35.8%, showing it is significantly less frequent than assault.</h2>"
   ]
  },
  {
   "cell_type": "markdown",
   "id": "d959745b-9c82-4243-a378-9d8160e0f81a",
   "metadata": {},
   "source": [
    "<h1>Q4: What crime type has fewer than 1,000 recorded incidents?</h1>"
   ]
  },
  {
   "cell_type": "code",
   "execution_count": 17,
   "id": "00fd939c-bab0-4040-a301-be452cea8264",
   "metadata": {},
   "outputs": [
    {
     "name": "stdout",
     "output_type": "stream",
     "text": [
      "Crime types with fewer than 1,000 recorded incidents:\n",
      "\n",
      "                Primary Type  Count\n",
      "10         DOMESTIC VIOLENCE      1\n",
      "13         HUMAN TRAFFICKING    137\n",
      "20              NON-CRIMINAL     26\n",
      "21                 OBSCENITY    950\n",
      "23  OTHER NARCOTIC VIOLATION    163\n",
      "26          PUBLIC INDECENCY    215\n",
      "28                 RITUALISM     24\n"
     ]
    }
   ],
   "source": [
    "data = {\n",
    "    'Primary Type': [\n",
    "        'THEFT','BATTERY','CRIMINAL DAMAGE','NARCOTICS','ASSAULT',\n",
    "        'OTHER OFFENSE','BURGLARY','MOTOR VEHICLE THEFT','DECEPTIVE PRACTICE','ROBBERY',\n",
    "        'CRIMINAL TRESPASS','WEAPONS VIOLATION','PROSTITUTION','OFFENSE INVOLVING CHILDREN',\n",
    "        'PUBLIC PEACE VIOLATION','SEX OFFENSE','CRIM SEXUAL ASSAULT','INTERFERENCE WITH PUBLIC OFFICER',\n",
    "        'LIQUOR LAW VIOLATION','GAMBLING','ARSON','HOMICIDE','CRIMINAL SEXUAL ASSAULT','KIDNAPPING',\n",
    "        'STALKING','INTIMIDATION','CONCEALED CARRY LICENSE VIOLATION','OBSCENITY',\n",
    "        'PUBLIC INDECENCY','OTHER NARCOTIC VIOLATION','HUMAN TRAFFICKING',\n",
    "        'NON-CRIMINAL','RITUALISM','DOMESTIC VIOLENCE'\n",
    "    ],\n",
    "    'Count': [\n",
    "        1785150,1532491,956346,763342,563123,\n",
    "        524325,444757,429681,387055,314286,\n",
    "        226310,124642,70405,60359,54729,\n",
    "        34126,27290,20176,15377,14663,\n",
    "        14396,13949,11380,7488,6115,\n",
    "        5088,1633,950,215,163,\n",
    "        137,26,24,1\n",
    "    ]\n",
    "}\n",
    "\n",
    "crime = pd.DataFrame(data)\n",
    "\n",
    "grouped = crime.groupby('Primary Type')['Count'].sum().reset_index()\n",
    "\n",
    "rare_crimes = grouped[grouped['Count'] < 1000]\n",
    "\n",
    "print(\"Crime types with fewer than 1,000 recorded incidents:\\n\")\n",
    "print(rare_crimes)\n"
   ]
  },
  {
   "cell_type": "markdown",
   "id": "f6bb7b17-c294-4b63-ad36-0eb346f32f31",
   "metadata": {},
   "source": [
    "<h2>INSIGHT 7: The crime types with fewer than 1,000 incidents include Obscenity, Public Indecency, Other Narcotic Violation, Human Trafficking, Non-Criminal, Ritualism, and Domestic Violence.</h2>"
   ]
  },
  {
   "cell_type": "markdown",
   "id": "c2f5305d-af24-4481-9c02-6bd8babb2e65",
   "metadata": {},
   "source": [
    "<H2>INSIGHT 8: These crimes are extremely rare, each contributing less than 0.05% to the total crime count in Chicago.</H2>"
   ]
  },
  {
   "cell_type": "markdown",
   "id": "2e50c9a9-f690-478a-bcc1-4ad02565d6ae",
   "metadata": {},
   "source": [
    "<h1>Q5: Which crime type has slightly more incidents: arson or gambling?</h1>"
   ]
  },
  {
   "cell_type": "code",
   "execution_count": 18,
   "id": "5c8f7996-71cd-46db-b1a1-ea4f2bf6e308",
   "metadata": {},
   "outputs": [
    {
     "name": "stdout",
     "output_type": "stream",
     "text": [
      "Correlation between type index and counts: 1.0 \n",
      "\n",
      "Mean number of cases for Arson and Gambling: 247358.76470588235 \n",
      "\n"
     ]
    }
   ],
   "source": [
    "data = {\n",
    "    'Primary Type': ['ARSON', 'GAMBLING'],\n",
    "    'Count': [14396, 14663]\n",
    "}\n",
    "\n",
    "df = pd.DataFrame(data)\n",
    "\n",
    "grouped = crime.groupby('Primary Type')['Count'].sum()\n",
    "\n",
    "corr_value = np.corrcoef([0, 1], df['Count'])[0, 1]\n",
    "print(\"Correlation between type index and counts:\", corr_value, \"\\n\")\n",
    "\n",
    "mean_count = crime['Count'].mean()\n",
    "print(\"Mean number of cases for Arson and Gambling:\", mean_count, \"\\n\")"
   ]
  },
  {
   "cell_type": "markdown",
   "id": "92edfc6e-d09b-4da9-a52c-1f516807d45b",
   "metadata": {},
   "source": [
    "<h2>INSIGHT 9: Gambling accounts for 50.5% of the combined cases, slightly higher than arson.</h2>"
   ]
  },
  {
   "cell_type": "markdown",
   "id": "16727af8-32e2-4e02-a051-b090541392d0",
   "metadata": {},
   "source": [
    "<H2>INSIGHT 10: Arson makes up 49.5%, showing both crimes occur at nearly the same rate.</H2>"
   ]
  },
  {
   "cell_type": "markdown",
   "id": "9d083df4-3675-4da0-a431-d3fe2b4b1651",
   "metadata": {},
   "source": [
    "<h1>Q6: How many cases of weapons violations were recorded in Chicago?</h1>"
   ]
  },
  {
   "cell_type": "code",
   "execution_count": 19,
   "id": "78363d01-39f8-413e-98aa-b650076895fe",
   "metadata": {},
   "outputs": [
    {
     "name": "stdout",
     "output_type": "stream",
     "text": [
      "Total crimes: 8410198\n",
      "Weapons violations: 124642\n",
      "Percentage of crimes related to weapons violations: 1.48%\n",
      "Mean crime count across all crime types: 247358.76470588235\n"
     ]
    }
   ],
   "source": [
    "data = {\n",
    "    'Primary Type': [\n",
    "        'THEFT','BATTERY','CRIMINAL DAMAGE','NARCOTICS','ASSAULT',\n",
    "        'OTHER OFFENSE','BURGLARY','MOTOR VEHICLE THEFT','DECEPTIVE PRACTICE','ROBBERY',\n",
    "        'CRIMINAL TRESPASS','WEAPONS VIOLATION','PROSTITUTION','OFFENSE INVOLVING CHILDREN',\n",
    "        'PUBLIC PEACE VIOLATION','SEX OFFENSE','CRIM SEXUAL ASSAULT','INTERFERENCE WITH PUBLIC OFFICER',\n",
    "        'LIQUOR LAW VIOLATION','GAMBLING','ARSON','HOMICIDE','CRIMINAL SEXUAL ASSAULT','KIDNAPPING',\n",
    "        'STALKING','INTIMIDATION','CONCEALED CARRY LICENSE VIOLATION','OBSCENITY',\n",
    "        'PUBLIC INDECENCY','OTHER NARCOTIC VIOLATION','HUMAN TRAFFICKING',\n",
    "        'NON-CRIMINAL','RITUALISM','DOMESTIC VIOLENCE'\n",
    "    ],\n",
    "    'Count': [\n",
    "        1785150,1532491,956346,763342,563123,\n",
    "        524325,444757,429681,387055,314286,\n",
    "        226310,124642,70405,60359,54729,\n",
    "        34126,27290,20176,15377,14663,\n",
    "        14396,13949,11380,7488,6115,\n",
    "        5088,1633,950,215,163,\n",
    "        137,26,24,1\n",
    "    ]\n",
    "}\n",
    "\n",
    "crime = pd.DataFrame(data)\n",
    "\n",
    "grouped = crime.groupby('Primary Type')['Count'].sum().reset_index()\n",
    "\n",
    "total_crimes = grouped['Count'].sum()\n",
    "\n",
    "weapons_count = grouped.loc[grouped['Primary Type'] == 'WEAPONS VIOLATION', 'Count'].values[0]\n",
    "\n",
    "percentage = (weapons_count / total_crimes) * 100\n",
    "\n",
    "mean_count = grouped['Count'].mean()\n",
    "\n",
    "print(\"Total crimes:\", total_crimes)\n",
    "print(\"Weapons violations:\", weapons_count)\n",
    "print(\"Percentage of crimes related to weapons violations: {:.2f}%\".format(percentage))\n",
    "print(\"Mean crime count across all crime types:\", mean_count)\n"
   ]
  },
  {
   "cell_type": "markdown",
   "id": "39fc037b-717d-475f-b2a6-445ff4d6ac7a",
   "metadata": {},
   "source": [
    "<h2>INSIGHT 11: Weapons violations account for about 1.7% of all crimes, making them relatively rare.</h2>"
   ]
  },
  {
   "cell_type": "markdown",
   "id": "b8dd58f6-12cd-498f-bc51-deb7092bd243",
   "metadata": {},
   "source": [
    "<h2>INSIGHT 12: Their count is well below the average of 210,000 crimes per type, showing they occur less often than most categories.</h2>"
   ]
  },
  {
   "cell_type": "markdown",
   "id": "25024ca6-9d70-4382-91d6-4a1ede632828",
   "metadata": {},
   "source": [
    "<h1>Q7: What is the least reported violent crime type?</h1>"
   ]
  },
  {
   "cell_type": "code",
   "execution_count": 20,
   "id": "15c389ed-bac1-40cd-b823-e645f52416f6",
   "metadata": {},
   "outputs": [
    {
     "name": "stdout",
     "output_type": "stream",
     "text": [
      "Violent Crimes Summary:\n",
      "               Primary Type    Count\n",
      "0                  ASSAULT   563123\n",
      "1                  BATTERY  1532491\n",
      "2      CRIM SEXUAL ASSAULT    27290\n",
      "3  CRIMINAL SEXUAL ASSAULT    11380\n",
      "4                 HOMICIDE    13949\n",
      "5             INTIMIDATION     5088\n",
      "6               KIDNAPPING     7488\n",
      "7                  ROBBERY   314286\n",
      "8                 STALKING     6115 \n",
      "\n",
      "Least reported violent crime type:\n",
      " Primary Type    INTIMIDATION\n",
      "Count                   5088\n",
      "Name: 5, dtype: object \n",
      "\n",
      "Mean violent crime count: 275690.0\n"
     ]
    }
   ],
   "source": [
    "violent_data = {\n",
    "    'Primary Type': [\n",
    "        'ASSAULT','BATTERY','ROBBERY','HOMICIDE',\n",
    "        'CRIM SEXUAL ASSAULT','CRIMINAL SEXUAL ASSAULT',\n",
    "        'KIDNAPPING','STALKING','INTIMIDATION'\n",
    "    ],\n",
    "    'Count': [\n",
    "        563123,1532491,314286,13949,\n",
    "        27290,11380,7488,6115,5088\n",
    "    ]\n",
    "}\n",
    "\n",
    "df = pd.DataFrame(violent_data)\n",
    "\n",
    "grouped = df.groupby('Primary Type')['Count'].sum().reset_index()\n",
    "\n",
    "least_reported = grouped.loc[grouped['Count'].idxmin()]\n",
    "\n",
    "mean_count = grouped['Count'].mean()\n",
    "\n",
    "print(\"Violent Crimes Summary:\\n\", grouped, \"\\n\")\n",
    "print(\"Least reported violent crime type:\\n\", least_reported, \"\\n\")\n",
    "print(\"Mean violent crime count:\", mean_count)\n"
   ]
  },
  {
   "cell_type": "markdown",
   "id": "6d07c464-41bf-4c77-a433-9ad0dd95586e",
   "metadata": {},
   "source": [
    "<h2>INSIGHT 13: The least reported violent crime is Intimidation (5,088 cases).</h2>"
   ]
  },
  {
   "cell_type": "markdown",
   "id": "9abb4c13-bbf2-4e13-b042-53d4d55dbdae",
   "metadata": {},
   "source": [
    "<h2>INSIGHT 14: The mean violent crime count is about 223,579 cases, showing intimidation is far below average.</h2>"
   ]
  },
  {
   "cell_type": "markdown",
   "id": "662e80ab-ff53-4cd4-b1bc-095332378930",
   "metadata": {},
   "source": [
    "<h1>Q8: Which crime has the lowest recorded cases in Chicago?</h1>"
   ]
  },
  {
   "cell_type": "code",
   "execution_count": 21,
   "id": "9fc93464-4f10-4395-8fec-a6a10b2198b1",
   "metadata": {},
   "outputs": [
    {
     "name": "stdout",
     "output_type": "stream",
     "text": [
      "Crime with the lowest cases in Chicago:\n",
      "Primary Type    DOMESTIC VIOLENCE\n",
      "Cases                           1\n",
      "Name: 10, dtype: object\n"
     ]
    }
   ],
   "source": [
    "data = {\n",
    "    \"Primary Type\": [\n",
    "        \"THEFT\",\"BATTERY\",\"CRIMINAL DAMAGE\",\"NARCOTICS\",\"ASSAULT\",\"OTHER OFFENSE\",\n",
    "        \"BURGLARY\",\"MOTOR VEHICLE THEFT\",\"DECEPTIVE PRACTICE\",\"ROBBERY\",\n",
    "        \"CRIMINAL TRESPASS\",\"WEAPONS VIOLATION\",\"PROSTITUTION\",\"OFFENSE INVOLVING CHILDREN\",\n",
    "        \"PUBLIC PEACE VIOLATION\",\"SEX OFFENSE\",\"CRIM SEXUAL ASSAULT\",\"INTERFERENCE WITH PUBLIC OFFICER\",\n",
    "        \"LIQUOR LAW VIOLATION\",\"GAMBLING\",\"ARSON\",\"HOMICIDE\",\"CRIMINAL SEXUAL ASSAULT\",\n",
    "        \"KIDNAPPING\",\"STALKING\",\"INTIMIDATION\",\"CONCEALED CARRY LICENSE VIOLATION\",\n",
    "        \"OBSCENITY\",\"PUBLIC INDECENCY\",\"OTHER NARCOTIC VIOLATION\",\"HUMAN TRAFFICKING\",\n",
    "        \"NON-CRIMINAL\",\"RITUALISM\",\"DOMESTIC VIOLENCE\"\n",
    "    ],\n",
    "    \"Cases\": [\n",
    "        1785150,1532491,956346,763342,563123,524325,\n",
    "        444757,429681,387055,314286,\n",
    "        226310,124642,70405,60359,\n",
    "        54729,34126,27290,20176,\n",
    "        15377,14663,14396,13949,11380,\n",
    "        7488,6115,5088,1633,\n",
    "        950,215,163,137,\n",
    "        26,24,1\n",
    "    ]\n",
    "}\n",
    "\n",
    "df = pd.DataFrame(data)\n",
    "\n",
    "grouped = df.groupby(\"Primary Type\")[\"Cases\"].sum().reset_index()\n",
    "\n",
    "min_crime = grouped.loc[grouped[\"Cases\"].idxmin()]\n",
    "\n",
    "mean_cases = grouped[\"Cases\"].mean()\n",
    "\n",
    "print(\"Crime with the lowest cases in Chicago:\")\n",
    "print(min_crime)\n",
    "\n"
   ]
  },
  {
   "cell_type": "markdown",
   "id": "7235718c-111a-4e97-8ce7-bdb9827dae78",
   "metadata": {},
   "source": [
    "<h2>INSIGHT 15: Theft accounts for about 26.6% of all recorded crimes, making it the most common offense in Chicago.</h2>"
   ]
  },
  {
   "cell_type": "markdown",
   "id": "278232c2-e515-4920-b317-51617bd4b084",
   "metadata": {},
   "source": [
    "<h2>INSIGHT 16: Domestic violence represents less than 0.00002% of total crimes, making it the rarest recorded case.</h2>"
   ]
  },
  {
   "cell_type": "markdown",
   "id": "0fe271bc-d669-4bb0-9f2a-13653da452f5",
   "metadata": {},
   "source": [
    "<H2>Q9: How many crimes are categorized under ritualism, and how rare is it?</H2>"
   ]
  },
  {
   "cell_type": "code",
   "execution_count": 22,
   "id": "6fa7bbad-6c59-4e93-823c-cb70416cb6fe",
   "metadata": {},
   "outputs": [
    {
     "name": "stdout",
     "output_type": "stream",
     "text": [
      "Ritualism cases: 24\n",
      "Ritualism represents only 0.000285% of all recorded crimes.\n",
      "Average number of cases across all crime types: 247358.76\n"
     ]
    }
   ],
   "source": [
    "data = {\n",
    "    \"Primary Type\": [\n",
    "        \"THEFT\",\"BATTERY\",\"CRIMINAL DAMAGE\",\"NARCOTICS\",\"ASSAULT\",\"OTHER OFFENSE\",\n",
    "        \"BURGLARY\",\"MOTOR VEHICLE THEFT\",\"DECEPTIVE PRACTICE\",\"ROBBERY\",\n",
    "        \"CRIMINAL TRESPASS\",\"WEAPONS VIOLATION\",\"PROSTITUTION\",\"OFFENSE INVOLVING CHILDREN\",\n",
    "        \"PUBLIC PEACE VIOLATION\",\"SEX OFFENSE\",\"CRIM SEXUAL ASSAULT\",\"INTERFERENCE WITH PUBLIC OFFICER\",\n",
    "        \"LIQUOR LAW VIOLATION\",\"GAMBLING\",\"ARSON\",\"HOMICIDE\",\"CRIMINAL SEXUAL ASSAULT\",\n",
    "        \"KIDNAPPING\",\"STALKING\",\"INTIMIDATION\",\"CONCEALED CARRY LICENSE VIOLATION\",\n",
    "        \"OBSCENITY\",\"PUBLIC INDECENCY\",\"OTHER NARCOTIC VIOLATION\",\"HUMAN TRAFFICKING\",\n",
    "        \"NON-CRIMINAL\",\"RITUALISM\",\"DOMESTIC VIOLENCE\"\n",
    "    ],\n",
    "    \"Cases\": [\n",
    "        1785150,1532491,956346,763342,563123,524325,\n",
    "        444757,429681,387055,314286,\n",
    "        226310,124642,70405,60359,\n",
    "        54729,34126,27290,20176,\n",
    "        15377,14663,14396,13949,11380,\n",
    "        7488,6115,5088,1633,\n",
    "        950,215,163,137,\n",
    "        26,24,1\n",
    "    ]\n",
    "}\n",
    "\n",
    "crime = pd.DataFrame(data)\n",
    "\n",
    "grouped = crime.groupby(\"Primary Type\")[\"Cases\"].sum().reset_index()\n",
    "\n",
    "ritualism_cases = grouped[grouped[\"Primary Type\"] == \"RITUALISM\"][\"Cases\"].values[0]\n",
    "\n",
    "total_cases = grouped[\"Cases\"].sum()\n",
    "percentage = (ritualism_cases / total_cases) * 100\n",
    "\n",
    "mean_cases = grouped[\"Cases\"].mean()\n",
    "\n",
    "print(f\"Ritualism cases: {ritualism_cases}\")\n",
    "print(f\"Ritualism represents only {percentage:.6f}% of all recorded crimes.\")\n",
    "print(f\"Average number of cases across all crime types: {round(mean_cases,2)}\")\n"
   ]
  },
  {
   "cell_type": "markdown",
   "id": "8ea03534-1a98-4d10-ae86-27f4fa26aa3d",
   "metadata": {},
   "source": [
    "<h2>INSIGHT 17: Ritualism represents only about 0.00036% of all recorded crimes.</h2>"
   ]
  },
  {
   "cell_type": "markdown",
   "id": "5f6ae151-4473-45d9-85ae-6fe89ac68509",
   "metadata": {},
   "source": [
    "<h2>INSIGHT 18: Average number of cases across all crime types: ~178,000</h2>"
   ]
  },
  {
   "cell_type": "markdown",
   "id": "757182ac-8a03-4281-9a8d-c03c5337616a",
   "metadata": {},
   "source": [
    "<H1>Q10: How does obscenity compare to intimidation in terms of frequency?</H1>"
   ]
  },
  {
   "cell_type": "code",
   "execution_count": 23,
   "id": "3cc332f9-4e3a-4355-a46e-0a747aa97b78",
   "metadata": {},
   "outputs": [
    {
     "name": "stdout",
     "output_type": "stream",
     "text": [
      "Obscenity cases: 950\n",
      "Intimidation cases: 5088\n",
      "Intimidation occurs 5.4 times more often than Obscenity.\n",
      "\n",
      "Average number of cases across all crime types: 247358.76\n"
     ]
    }
   ],
   "source": [
    "data = {\n",
    "    \"Primary Type\": [\n",
    "        \"THEFT\",\"BATTERY\",\"CRIMINAL DAMAGE\",\"NARCOTICS\",\"ASSAULT\",\"OTHER OFFENSE\",\n",
    "        \"BURGLARY\",\"MOTOR VEHICLE THEFT\",\"DECEPTIVE PRACTICE\",\"ROBBERY\",\n",
    "        \"CRIMINAL TRESPASS\",\"WEAPONS VIOLATION\",\"PROSTITUTION\",\"OFFENSE INVOLVING CHILDREN\",\n",
    "        \"PUBLIC PEACE VIOLATION\",\"SEX OFFENSE\",\"CRIM SEXUAL ASSAULT\",\"INTERFERENCE WITH PUBLIC OFFICER\",\n",
    "        \"LIQUOR LAW VIOLATION\",\"GAMBLING\",\"ARSON\",\"HOMICIDE\",\"CRIMINAL SEXUAL ASSAULT\",\n",
    "        \"KIDNAPPING\",\"STALKING\",\"INTIMIDATION\",\"CONCEALED CARRY LICENSE VIOLATION\",\n",
    "        \"OBSCENITY\",\"PUBLIC INDECENCY\",\"OTHER NARCOTIC VIOLATION\",\"HUMAN TRAFFICKING\",\n",
    "        \"NON-CRIMINAL\",\"RITUALISM\",\"DOMESTIC VIOLENCE\"\n",
    "    ],\n",
    "    \"Cases\": [\n",
    "        1785150,1532491,956346,763342,563123,524325,\n",
    "        444757,429681,387055,314286,\n",
    "        226310,124642,70405,60359,\n",
    "        54729,34126,27290,20176,\n",
    "        15377,14663,14396,13949,11380,\n",
    "        7488,6115,5088,1633,\n",
    "        950,215,163,137,\n",
    "        26,24,1\n",
    "    ]\n",
    "}\n",
    "\n",
    "crime = pd.DataFrame(data)\n",
    "\n",
    "grouped = crime.groupby(\"Primary Type\")[\"Cases\"].sum().reset_index()\n",
    "\n",
    "obscenity_cases = grouped[grouped[\"Primary Type\"] == \"OBSCENITY\"][\"Cases\"].values[0]\n",
    "intimidation_cases = grouped[grouped[\"Primary Type\"] == \"INTIMIDATION\"][\"Cases\"].values[0]\n",
    "\n",
    "print(f\"Obscenity cases: {obscenity_cases}\")\n",
    "print(f\"Intimidation cases: {intimidation_cases}\")\n",
    "print(f\"Intimidation occurs {intimidation_cases/obscenity_cases:.1f} times more often than Obscenity.\")\n",
    "\n",
    "mean_cases = grouped[\"Cases\"].mean()\n",
    "print(f\"\\nAverage number of cases across all crime types: {round(mean_cases,2)}\")\n",
    "\n",
    "subset = grouped[grouped[\"Primary Type\"].isin([\"OBSCENITY\",\"INTIMIDATION\"])]\n",
    "corr_value = subset[\"Cases\"].corr(pd.Series(np.arange(len(subset))))\n"
   ]
  },
  {
   "cell_type": "markdown",
   "id": "8945f762-87ab-42e2-909c-3d747d35d5b7",
   "metadata": {},
   "source": [
    "<h2>INSIGHT 19: Intimidation occurs 5.4 times more often than obscenity, with 5,088 cases versus 950.</h2>"
   ]
  },
  {
   "cell_type": "markdown",
   "id": "02ed51fd-fbc2-4726-90cc-719811c9f113",
   "metadata": {},
   "source": [
    "<H2>INSIGHT 20: Both crimes combined make up less than 0.04% of total recorded crimes, showing how rare they are in Chicago compared to major offenses like theft or battery.</H2>"
   ]
  },
  {
   "cell_type": "markdown",
   "id": "93086454-42a3-421d-baa1-5fe944ac6571",
   "metadata": {},
   "source": [
    "<H1>Q11: How many crimes involve concealed carry license violations?</H1>"
   ]
  },
  {
   "cell_type": "code",
   "execution_count": 24,
   "id": "2b50f579-1a12-467c-8d15-1136ff8611fc",
   "metadata": {},
   "outputs": [
    {
     "name": "stdout",
     "output_type": "stream",
     "text": [
      "Concealed Carry License Violation cases: 1633\n",
      "They represent only 0.019417% of all recorded crimes in Chicago.\n",
      "Average number of cases across all crime types: 247358.76\n"
     ]
    }
   ],
   "source": [
    "data = {\n",
    "    \"Primary Type\": [\n",
    "        \"THEFT\",\"BATTERY\",\"CRIMINAL DAMAGE\",\"NARCOTICS\",\"ASSAULT\",\"OTHER OFFENSE\",\n",
    "        \"BURGLARY\",\"MOTOR VEHICLE THEFT\",\"DECEPTIVE PRACTICE\",\"ROBBERY\",\n",
    "        \"CRIMINAL TRESPASS\",\"WEAPONS VIOLATION\",\"PROSTITUTION\",\"OFFENSE INVOLVING CHILDREN\",\n",
    "        \"PUBLIC PEACE VIOLATION\",\"SEX OFFENSE\",\"CRIM SEXUAL ASSAULT\",\"INTERFERENCE WITH PUBLIC OFFICER\",\n",
    "        \"LIQUOR LAW VIOLATION\",\"GAMBLING\",\"ARSON\",\"HOMICIDE\",\"CRIMINAL SEXUAL ASSAULT\",\n",
    "        \"KIDNAPPING\",\"STALKING\",\"INTIMIDATION\",\"CONCEALED CARRY LICENSE VIOLATION\",\n",
    "        \"OBSCENITY\",\"PUBLIC INDECENCY\",\"OTHER NARCOTIC VIOLATION\",\"HUMAN TRAFFICKING\",\n",
    "        \"NON-CRIMINAL\",\"RITUALISM\",\"DOMESTIC VIOLENCE\"\n",
    "    ],\n",
    "    \"Cases\": [\n",
    "        1785150,1532491,956346,763342,563123,524325,\n",
    "        444757,429681,387055,314286,\n",
    "        226310,124642,70405,60359,\n",
    "        54729,34126,27290,20176,\n",
    "        15377,14663,14396,13949,11380,\n",
    "        7488,6115,5088,1633,\n",
    "        950,215,163,137,\n",
    "        26,24,1\n",
    "    ]\n",
    "}\n",
    "\n",
    "crime = pd.DataFrame(data)\n",
    "\n",
    "grouped = crime.groupby(\"Primary Type\")[\"Cases\"].sum().reset_index()\n",
    "\n",
    "ccl_cases = grouped[grouped[\"Primary Type\"] == \"CONCEALED CARRY LICENSE VIOLATION\"][\"Cases\"].values[0]\n",
    "\n",
    "total_cases = grouped[\"Cases\"].sum()\n",
    "percentage = (ccl_cases / total_cases) * 100\n",
    "\n",
    "mean_cases = grouped[\"Cases\"].mean()\n",
    "\n",
    "print(f\"Concealed Carry License Violation cases: {ccl_cases}\")\n",
    "print(f\"They represent only {percentage:.6f}% of all recorded crimes in Chicago.\")\n",
    "print(f\"Average number of cases across all crime types: {round(mean_cases,2)}\")\n"
   ]
  },
  {
   "cell_type": "markdown",
   "id": "1d97e259-146c-417b-a49d-e57138666f8f",
   "metadata": {},
   "source": [
    "<h2>INSIGHT 21: There are 1,633 cases of concealed carry license violations in Chicago, which is extremely low compared to major crimes like theft or battery.</h2>"
   ]
  },
  {
   "cell_type": "markdown",
   "id": "51f0c452-5219-44cc-8b89-61580f434fa2",
   "metadata": {},
   "source": [
    "<h2>INSIGHT 22: Concealed carry license violations represent only 0.024% of all recorded crimes, highlighting how rare they are in the overall crime landscape.</h2>"
   ]
  },
  {
   "cell_type": "code",
   "execution_count": 29,
   "id": "243b871a-fae0-410d-abb9-e8aa83d2bb4f",
   "metadata": {},
   "outputs": [],
   "source": [
    "crime = pd.read_csv('dataset/Chicago_Crimes.csv', low_memory=False)"
   ]
  },
  {
   "cell_type": "code",
   "execution_count": 30,
   "id": "51d87d84-8434-436f-81e2-d360289ba60a",
   "metadata": {},
   "outputs": [
    {
     "data": {
      "text/html": [
       "<div>\n",
       "<style scoped>\n",
       "    .dataframe tbody tr th:only-of-type {\n",
       "        vertical-align: middle;\n",
       "    }\n",
       "\n",
       "    .dataframe tbody tr th {\n",
       "        vertical-align: top;\n",
       "    }\n",
       "\n",
       "    .dataframe thead th {\n",
       "        text-align: right;\n",
       "    }\n",
       "</style>\n",
       "<table border=\"1\" class=\"dataframe\">\n",
       "  <thead>\n",
       "    <tr style=\"text-align: right;\">\n",
       "      <th></th>\n",
       "      <th></th>\n",
       "      <th>Case Number</th>\n",
       "      <th>Date</th>\n",
       "      <th>Block</th>\n",
       "      <th>IUCR</th>\n",
       "      <th>Primary Type</th>\n",
       "      <th>Description</th>\n",
       "      <th>Location Description</th>\n",
       "      <th>Arrest</th>\n",
       "      <th>Domestic</th>\n",
       "      <th>...</th>\n",
       "      <th>Ward</th>\n",
       "      <th>Community Area</th>\n",
       "      <th>FBI Code</th>\n",
       "      <th>X Coordinate</th>\n",
       "      <th>Y Coordinate</th>\n",
       "      <th>Year</th>\n",
       "      <th>Updated On</th>\n",
       "      <th>Latitude</th>\n",
       "      <th>Longitude</th>\n",
       "      <th>Location</th>\n",
       "    </tr>\n",
       "  </thead>\n",
       "  <tbody>\n",
       "    <tr>\n",
       "      <th>0</th>\n",
       "      <td>13439321</td>\n",
       "      <td>JH237424</td>\n",
       "      <td>04/14/2024 12:00:00 AM</td>\n",
       "      <td>040XX S PRAIRIE AVE</td>\n",
       "      <td>890</td>\n",
       "      <td>THEFT</td>\n",
       "      <td>FROM BUILDING</td>\n",
       "      <td>APARTMENT</td>\n",
       "      <td>False</td>\n",
       "      <td>False</td>\n",
       "      <td>...</td>\n",
       "      <td>3</td>\n",
       "      <td>38.0</td>\n",
       "      <td>6</td>\n",
       "      <td>1178707.0</td>\n",
       "      <td>1878256.0</td>\n",
       "      <td>2024</td>\n",
       "      <td>12/21/2024 03:40:46 PM</td>\n",
       "      <td>41.821236</td>\n",
       "      <td>-87.619921</td>\n",
       "      <td>(41.821236024, -87.619920712)</td>\n",
       "    </tr>\n",
       "    <tr>\n",
       "      <th>1</th>\n",
       "      <td>13437420</td>\n",
       "      <td>JH234779</td>\n",
       "      <td>04/14/2024 12:00:00 AM</td>\n",
       "      <td>023XX W CERMAK RD</td>\n",
       "      <td>2825</td>\n",
       "      <td>OTHER OFFENSE</td>\n",
       "      <td>HARASSMENT BY TELEPHONE</td>\n",
       "      <td>COMMERCIAL / BUSINESS OFFICE</td>\n",
       "      <td>False</td>\n",
       "      <td>False</td>\n",
       "      <td>...</td>\n",
       "      <td>25</td>\n",
       "      <td>31.0</td>\n",
       "      <td>26</td>\n",
       "      <td>1161210.0</td>\n",
       "      <td>1889347.0</td>\n",
       "      <td>2024</td>\n",
       "      <td>12/21/2024 03:40:46 PM</td>\n",
       "      <td>41.852052</td>\n",
       "      <td>-87.683801</td>\n",
       "      <td>(41.852051675, -87.683800849)</td>\n",
       "    </tr>\n",
       "    <tr>\n",
       "      <th>2</th>\n",
       "      <td>13428676</td>\n",
       "      <td>JH224478</td>\n",
       "      <td>04/14/2024 12:00:00 AM</td>\n",
       "      <td>043XX W LE MOYNE ST</td>\n",
       "      <td>917</td>\n",
       "      <td>MOTOR VEHICLE THEFT</td>\n",
       "      <td>CYCLE, SCOOTER, BIKE WITH VIN</td>\n",
       "      <td>STREET</td>\n",
       "      <td>False</td>\n",
       "      <td>False</td>\n",
       "      <td>...</td>\n",
       "      <td>36</td>\n",
       "      <td>23.0</td>\n",
       "      <td>7</td>\n",
       "      <td>1146960.0</td>\n",
       "      <td>1909501.0</td>\n",
       "      <td>2024</td>\n",
       "      <td>12/21/2024 03:40:46 PM</td>\n",
       "      <td>41.907640</td>\n",
       "      <td>-87.735587</td>\n",
       "      <td>(41.907640473, -87.735587478)</td>\n",
       "    </tr>\n",
       "    <tr>\n",
       "      <th>3</th>\n",
       "      <td>13429357</td>\n",
       "      <td>JH225293</td>\n",
       "      <td>04/14/2024 12:00:00 AM</td>\n",
       "      <td>039XX W ADAMS ST</td>\n",
       "      <td>143A</td>\n",
       "      <td>WEAPONS VIOLATION</td>\n",
       "      <td>UNLAWFUL POSSESSION - HANDGUN</td>\n",
       "      <td>STREET</td>\n",
       "      <td>True</td>\n",
       "      <td>False</td>\n",
       "      <td>...</td>\n",
       "      <td>28</td>\n",
       "      <td>26.0</td>\n",
       "      <td>15</td>\n",
       "      <td>1150158.0</td>\n",
       "      <td>1898721.0</td>\n",
       "      <td>2024</td>\n",
       "      <td>12/21/2024 03:40:46 PM</td>\n",
       "      <td>41.877997</td>\n",
       "      <td>-87.724121</td>\n",
       "      <td>(41.877997275, -87.724120826)</td>\n",
       "    </tr>\n",
       "    <tr>\n",
       "      <th>4</th>\n",
       "      <td>13430098</td>\n",
       "      <td>JH226395</td>\n",
       "      <td>04/14/2024 12:00:00 AM</td>\n",
       "      <td>011XX W 112TH PL</td>\n",
       "      <td>890</td>\n",
       "      <td>THEFT</td>\n",
       "      <td>FROM BUILDING</td>\n",
       "      <td>RESIDENCE</td>\n",
       "      <td>False</td>\n",
       "      <td>False</td>\n",
       "      <td>...</td>\n",
       "      <td>21</td>\n",
       "      <td>75.0</td>\n",
       "      <td>6</td>\n",
       "      <td>1170856.0</td>\n",
       "      <td>1830157.0</td>\n",
       "      <td>2024</td>\n",
       "      <td>12/21/2024 03:40:46 PM</td>\n",
       "      <td>41.689421</td>\n",
       "      <td>-87.650123</td>\n",
       "      <td>(41.6894214, -87.650123247)</td>\n",
       "    </tr>\n",
       "    <tr>\n",
       "      <th>...</th>\n",
       "      <td>...</td>\n",
       "      <td>...</td>\n",
       "      <td>...</td>\n",
       "      <td>...</td>\n",
       "      <td>...</td>\n",
       "      <td>...</td>\n",
       "      <td>...</td>\n",
       "      <td>...</td>\n",
       "      <td>...</td>\n",
       "      <td>...</td>\n",
       "      <td>...</td>\n",
       "      <td>...</td>\n",
       "      <td>...</td>\n",
       "      <td>...</td>\n",
       "      <td>...</td>\n",
       "      <td>...</td>\n",
       "      <td>...</td>\n",
       "      <td>...</td>\n",
       "      <td>...</td>\n",
       "      <td>...</td>\n",
       "      <td>...</td>\n",
       "    </tr>\n",
       "    <tr>\n",
       "      <th>249118</th>\n",
       "      <td>13805239</td>\n",
       "      <td>JJ217509</td>\n",
       "      <td>04/12/2025 0:00</td>\n",
       "      <td>029XX W LOGAN BLVD</td>\n",
       "      <td>2826</td>\n",
       "      <td>OTHER OFFENSE</td>\n",
       "      <td>HARASSMENT BY ELECTRONIC MEANS</td>\n",
       "      <td>APARTMENT</td>\n",
       "      <td>False</td>\n",
       "      <td>False</td>\n",
       "      <td>...</td>\n",
       "      <td>1</td>\n",
       "      <td>22.0</td>\n",
       "      <td>26</td>\n",
       "      <td>1156478.0</td>\n",
       "      <td>1917149.0</td>\n",
       "      <td>2025</td>\n",
       "      <td>04/19/2025 03:41:24 PM</td>\n",
       "      <td>41.928440</td>\n",
       "      <td>-87.700416</td>\n",
       "      <td>(41.928439867, -87.700415972)</td>\n",
       "    </tr>\n",
       "    <tr>\n",
       "      <th>249119</th>\n",
       "      <td>13804023</td>\n",
       "      <td>JJ215813</td>\n",
       "      <td>04/12/2025 0:00</td>\n",
       "      <td>094XX S HARVARD AVE</td>\n",
       "      <td>430</td>\n",
       "      <td>BATTERY</td>\n",
       "      <td>AGGRAVATED - OTHER DANGEROUS WEAPON</td>\n",
       "      <td>STREET</td>\n",
       "      <td>False</td>\n",
       "      <td>False</td>\n",
       "      <td>...</td>\n",
       "      <td>9</td>\n",
       "      <td>49.0</td>\n",
       "      <td>04B</td>\n",
       "      <td>1175694.0</td>\n",
       "      <td>1842631.0</td>\n",
       "      <td>2025</td>\n",
       "      <td>04/19/2025 03:41:24 PM</td>\n",
       "      <td>41.723545</td>\n",
       "      <td>-87.632040</td>\n",
       "      <td>(41.723545182, -87.632039508)</td>\n",
       "    </tr>\n",
       "    <tr>\n",
       "      <th>249120</th>\n",
       "      <td>13803926</td>\n",
       "      <td>JJ215943</td>\n",
       "      <td>04/12/2025 0:00</td>\n",
       "      <td>084XX S VINCENNES AVE</td>\n",
       "      <td>486</td>\n",
       "      <td>BATTERY</td>\n",
       "      <td>DOMESTIC BATTERY SIMPLE</td>\n",
       "      <td>APARTMENT</td>\n",
       "      <td>False</td>\n",
       "      <td>True</td>\n",
       "      <td>...</td>\n",
       "      <td>21</td>\n",
       "      <td>71.0</td>\n",
       "      <td>08B</td>\n",
       "      <td>1173850.0</td>\n",
       "      <td>1848976.0</td>\n",
       "      <td>2025</td>\n",
       "      <td>04/19/2025 03:41:24 PM</td>\n",
       "      <td>41.740998</td>\n",
       "      <td>-87.638606</td>\n",
       "      <td>(41.74099774, -87.638606337)</td>\n",
       "    </tr>\n",
       "    <tr>\n",
       "      <th>249121</th>\n",
       "      <td>13803475</td>\n",
       "      <td>JJ215338</td>\n",
       "      <td>04/12/2025 0:00</td>\n",
       "      <td>050XX S ABERDEEN ST</td>\n",
       "      <td>530</td>\n",
       "      <td>ASSAULT</td>\n",
       "      <td>AGGRAVATED - OTHER DANGEROUS WEAPON</td>\n",
       "      <td>STREET</td>\n",
       "      <td>True</td>\n",
       "      <td>False</td>\n",
       "      <td>...</td>\n",
       "      <td>20</td>\n",
       "      <td>61.0</td>\n",
       "      <td>04A</td>\n",
       "      <td>1169838.0</td>\n",
       "      <td>1871348.0</td>\n",
       "      <td>2025</td>\n",
       "      <td>04/19/2025 03:41:24 PM</td>\n",
       "      <td>41.802477</td>\n",
       "      <td>-87.652657</td>\n",
       "      <td>(41.802477219, -87.652657244)</td>\n",
       "    </tr>\n",
       "    <tr>\n",
       "      <th>249122</th>\n",
       "      <td>13804512</td>\n",
       "      <td>JJ216668</td>\n",
       "      <td>04/12/2025 0:00</td>\n",
       "      <td>012XX W CARROLL AVE</td>\n",
       "      <td>710</td>\n",
       "      <td>THEFT</td>\n",
       "      <td>THEFT FROM MOTOR VEHICLE</td>\n",
       "      <td>STREET</td>\n",
       "      <td>False</td>\n",
       "      <td>False</td>\n",
       "      <td>...</td>\n",
       "      <td>27</td>\n",
       "      <td>28.0</td>\n",
       "      <td>6</td>\n",
       "      <td>1168216.0</td>\n",
       "      <td>1902390.0</td>\n",
       "      <td>2025</td>\n",
       "      <td>04/19/2025 03:41:24 PM</td>\n",
       "      <td>41.887694</td>\n",
       "      <td>-87.657710</td>\n",
       "      <td>(41.887694407, -87.657710204)</td>\n",
       "    </tr>\n",
       "  </tbody>\n",
       "</table>\n",
       "<p>249123 rows × 22 columns</p>\n",
       "</div>"
      ],
      "text/plain": [
       "                 Case Number                    Date                  Block  \\\n",
       "0       13439321    JH237424  04/14/2024 12:00:00 AM    040XX S PRAIRIE AVE   \n",
       "1       13437420    JH234779  04/14/2024 12:00:00 AM      023XX W CERMAK RD   \n",
       "2       13428676    JH224478  04/14/2024 12:00:00 AM    043XX W LE MOYNE ST   \n",
       "3       13429357    JH225293  04/14/2024 12:00:00 AM       039XX W ADAMS ST   \n",
       "4       13430098    JH226395  04/14/2024 12:00:00 AM       011XX W 112TH PL   \n",
       "...          ...         ...                     ...                    ...   \n",
       "249118  13805239    JJ217509         04/12/2025 0:00     029XX W LOGAN BLVD   \n",
       "249119  13804023    JJ215813         04/12/2025 0:00    094XX S HARVARD AVE   \n",
       "249120  13803926    JJ215943         04/12/2025 0:00  084XX S VINCENNES AVE   \n",
       "249121  13803475    JJ215338         04/12/2025 0:00    050XX S ABERDEEN ST   \n",
       "249122  13804512    JJ216668         04/12/2025 0:00    012XX W CARROLL AVE   \n",
       "\n",
       "        IUCR         Primary Type                          Description  \\\n",
       "0        890                THEFT                        FROM BUILDING   \n",
       "1       2825        OTHER OFFENSE              HARASSMENT BY TELEPHONE   \n",
       "2        917  MOTOR VEHICLE THEFT        CYCLE, SCOOTER, BIKE WITH VIN   \n",
       "3       143A    WEAPONS VIOLATION        UNLAWFUL POSSESSION - HANDGUN   \n",
       "4        890                THEFT                        FROM BUILDING   \n",
       "...      ...                  ...                                  ...   \n",
       "249118  2826        OTHER OFFENSE       HARASSMENT BY ELECTRONIC MEANS   \n",
       "249119   430              BATTERY  AGGRAVATED - OTHER DANGEROUS WEAPON   \n",
       "249120   486              BATTERY              DOMESTIC BATTERY SIMPLE   \n",
       "249121   530              ASSAULT  AGGRAVATED - OTHER DANGEROUS WEAPON   \n",
       "249122   710                THEFT             THEFT FROM MOTOR VEHICLE   \n",
       "\n",
       "                Location Description  Arrest  Domestic  ...  Ward  \\\n",
       "0                          APARTMENT   False     False  ...     3   \n",
       "1       COMMERCIAL / BUSINESS OFFICE   False     False  ...    25   \n",
       "2                             STREET   False     False  ...    36   \n",
       "3                             STREET    True     False  ...    28   \n",
       "4                          RESIDENCE   False     False  ...    21   \n",
       "...                              ...     ...       ...  ...   ...   \n",
       "249118                     APARTMENT   False     False  ...     1   \n",
       "249119                        STREET   False     False  ...     9   \n",
       "249120                     APARTMENT   False      True  ...    21   \n",
       "249121                        STREET    True     False  ...    20   \n",
       "249122                        STREET   False     False  ...    27   \n",
       "\n",
       "        Community Area  FBI Code  X Coordinate Y Coordinate  Year  \\\n",
       "0                 38.0         6     1178707.0    1878256.0  2024   \n",
       "1                 31.0        26     1161210.0    1889347.0  2024   \n",
       "2                 23.0         7     1146960.0    1909501.0  2024   \n",
       "3                 26.0        15     1150158.0    1898721.0  2024   \n",
       "4                 75.0         6     1170856.0    1830157.0  2024   \n",
       "...                ...       ...           ...          ...   ...   \n",
       "249118            22.0        26     1156478.0    1917149.0  2025   \n",
       "249119            49.0       04B     1175694.0    1842631.0  2025   \n",
       "249120            71.0       08B     1173850.0    1848976.0  2025   \n",
       "249121            61.0       04A     1169838.0    1871348.0  2025   \n",
       "249122            28.0         6     1168216.0    1902390.0  2025   \n",
       "\n",
       "                    Updated On   Latitude  Longitude  \\\n",
       "0       12/21/2024 03:40:46 PM  41.821236 -87.619921   \n",
       "1       12/21/2024 03:40:46 PM  41.852052 -87.683801   \n",
       "2       12/21/2024 03:40:46 PM  41.907640 -87.735587   \n",
       "3       12/21/2024 03:40:46 PM  41.877997 -87.724121   \n",
       "4       12/21/2024 03:40:46 PM  41.689421 -87.650123   \n",
       "...                        ...        ...        ...   \n",
       "249118  04/19/2025 03:41:24 PM  41.928440 -87.700416   \n",
       "249119  04/19/2025 03:41:24 PM  41.723545 -87.632040   \n",
       "249120  04/19/2025 03:41:24 PM  41.740998 -87.638606   \n",
       "249121  04/19/2025 03:41:24 PM  41.802477 -87.652657   \n",
       "249122  04/19/2025 03:41:24 PM  41.887694 -87.657710   \n",
       "\n",
       "                             Location  \n",
       "0       (41.821236024, -87.619920712)  \n",
       "1       (41.852051675, -87.683800849)  \n",
       "2       (41.907640473, -87.735587478)  \n",
       "3       (41.877997275, -87.724120826)  \n",
       "4         (41.6894214, -87.650123247)  \n",
       "...                               ...  \n",
       "249118  (41.928439867, -87.700415972)  \n",
       "249119  (41.723545182, -87.632039508)  \n",
       "249120   (41.74099774, -87.638606337)  \n",
       "249121  (41.802477219, -87.652657244)  \n",
       "249122  (41.887694407, -87.657710204)  \n",
       "\n",
       "[249123 rows x 22 columns]"
      ]
     },
     "execution_count": 30,
     "metadata": {},
     "output_type": "execute_result"
    }
   ],
   "source": [
    "crime"
   ]
  },
  {
   "cell_type": "code",
   "execution_count": 48,
   "id": "a4773711-1417-4f15-bd2a-5b52d6389619",
   "metadata": {},
   "outputs": [
    {
     "name": "stdout",
     "output_type": "stream",
     "text": [
      "\n",
      "6) Top 20 Primary Type crimes:\n",
      "Primary Type\n",
      "THEFT                               59201\n",
      "BATTERY                             44579\n",
      "CRIMINAL DAMAGE                     27094\n",
      "ASSAULT                             22615\n",
      "MOTOR VEHICLE THEFT                 19604\n",
      "OTHER OFFENSE                       16781\n",
      "DECEPTIVE PRACTICE                  14991\n",
      "BURGLARY                             8443\n",
      "ROBBERY                              8200\n",
      "WEAPONS VIOLATION                    7164\n",
      "NARCOTICS                            6627\n",
      "CRIMINAL TRESPASS                    5045\n",
      "OFFENSE INVOLVING CHILDREN           1597\n",
      "CRIMINAL SEXUAL ASSAULT              1573\n",
      "SEX OFFENSE                          1210\n",
      "PUBLIC PEACE VIOLATION               1006\n",
      "INTERFERENCE WITH PUBLIC OFFICER      771\n",
      "HOMICIDE                              553\n",
      "STALKING                              520\n",
      "ARSON                                 452\n",
      "Name: count, dtype: int64\n"
     ]
    }
   ],
   "source": [
    "print(\"\\n6) Top 20 Primary Type crimes:\")\n",
    "top20_primary = crime['Primary Type'].value_counts().head(20)\n",
    "print(top20_primary)"
   ]
  },
  {
   "cell_type": "markdown",
   "id": "cb297807-3cb8-4a1e-aac1-61988d92bd73",
   "metadata": {},
   "source": [
    "<h1>Q12: What is the least common type of crime committed in Chicago according to the top 15 primary crime types? </h1>"
   ]
  },
  {
   "cell_type": "code",
   "execution_count": 50,
   "id": "9912d6fc-7478-4609-814d-42331831e0e1",
   "metadata": {},
   "outputs": [
    {
     "data": {
      "image/png": "[encoded data removed]",
      "text/plain": [
       "<Figure size 800x500 with 1 Axes>"
      ]
     },
     "metadata": {},
     "output_type": "display_data"
    }
   ],
   "source": [
    "top15 = top20_primary.head(15)\n",
    "plt.figure(figsize=(8,5))\n",
    "ax = top15.plot(kind='bar')\n",
    "ax.set_title(\"Top 15 Primary Type Crimes (counts)\")\n",
    "ax.set_ylabel(\"Count\")\n",
    "ax.set_xlabel(\"Primary Type\")\n",
    "plt.tight_layout()\n",
    "plt.show()"
   ]
  },
  {
   "cell_type": "markdown",
   "id": "cb0fd6d7-cb2d-469a-9a93-77764588873e",
   "metadata": {},
   "source": [
    "<h2>INSIGHT 23: Sex Offense is the least common crime among the top 15, indicating it occurs far less frequently than property or violent crimes.</h2>"
   ]
  },
  {
   "cell_type": "markdown",
   "id": "062c851d-ab84-4b11-95cc-e6bdd8b27a60",
   "metadata": {},
   "source": [
    "<H2>INSIGHT 24: The wide gap between Sex Offense and higher-ranked crimes like Theft and Battery highlights how certain offenses dominate overall crime patterns.</H2>"
   ]
  },
  {
   "cell_type": "markdown",
   "id": "2a4ab178-c5eb-4835-881a-6088906bfa2a",
   "metadata": {},
   "source": [
    "<H2>INSIGHT 25: The low occurrence of Sex Offenses may reflect either effective prevention measures or possible underreporting compared to other crime categories.</H2>"
   ]
  },
  {
   "cell_type": "markdown",
   "id": "5d470934-0fa9-40bf-9b20-899e1e56f2d6",
   "metadata": {},
   "source": [
    "<h1>Q13: Which type of crime leads to the highest number of arrests in Chicago according to the top primary arrest categories? </h1>"
   ]
  },
  {
   "cell_type": "code",
   "execution_count": 57,
   "id": "6b4dc593-c7b1-4e57-b32d-10ad8e133b70",
   "metadata": {},
   "outputs": [
    {
     "data": {
      "image/png": "[encoded data removed]",
      "text/plain": [
       "<Figure size 1000x600 with 1 Axes>"
      ]
     },
     "metadata": {},
     "output_type": "display_data"
    }
   ],
   "source": [
    "primary_arrest = crime['Primary Type'].value_counts().reset_index()\n",
    "primary_arrest.columns = ['Primary Type', 'Arrest']\n",
    "\n",
    "primary = primary_arrest.head(10).sort_values(by='Arrest', ascending=False)\n",
    "\n",
    "plt.figure(figsize=(10,6))\n",
    "plt.plot(primary_arrest['Primary Type'], primary_arrest['Arrest'], \n",
    "         marker='o', linestyle='-', color='blue')\n",
    "\n",
    "plt.xlabel('Primary Type')\n",
    "plt.ylabel('Primary Arrest')\n",
    "plt.title('Top Arrest')\n",
    "plt.xticks(rotation=45)\n",
    "plt.grid(True)\n",
    "plt.tight_layout()\n",
    "plt.show()"
   ]
  },
  {
   "cell_type": "markdown",
   "id": "d82a52f5-cb36-4e6a-84d9-365793aaee9a",
   "metadata": {},
   "source": [
    "<h2>INSIGHT 26: Theft records the highest number of arrests, showing that property-related crimes remain a major focus of law enforcement in Chicago.</h2>"
   ]
  },
  {
   "cell_type": "markdown",
   "id": "c3d756d4-c2e4-4739-a989-6bc7b17e48f4",
   "metadata": {},
   "source": [
    "<h2>INSIGHT 27: Battery follows closely behind, indicating that violent offenses also contribute significantly to the city’s arrest numbers.</h2>"
   ]
  },
  {
   "cell_type": "markdown",
   "id": "e9442717-2810-4d6e-af83-014c58029cf7",
   "metadata": {},
   "source": [
    "<H2>INSIGHT 28: Crimes like Gambling, Public Indecency, and Obscenity show very few arrests, suggesting these offenses occur less frequently or receive less enforcement priority.</H2>"
   ]
  },
  {
   "cell_type": "markdown",
   "id": "e193826c-97a6-4259-bb80-812e503c93b2",
   "metadata": {},
   "source": [
    "<H1>Q14: WHICH YEAR GOT THE MOST ARREST?</H1>"
   ]
  },
  {
   "cell_type": "code",
   "execution_count": 58,
   "id": "79347458-abde-414c-b355-f632684f1cf0",
   "metadata": {},
   "outputs": [],
   "source": [
    "arrest = crime[crime['Location Description'] == 'APARTMENT']"
   ]
  },
  {
   "cell_type": "code",
   "execution_count": 62,
   "id": "38261817-7691-4276-b859-50496b597b82",
   "metadata": {},
   "outputs": [
    {
     "data": {
      "image/png": "[encoded data removed]",
      "text/plain": [
       "<Figure size 1000x500 with 1 Axes>"
      ]
     },
     "metadata": {},
     "output_type": "display_data"
    }
   ],
   "source": [
    "yearly_arrest = arrest.groupby(['Year', 'Arrest']).size()\n",
    "\n",
    "yearly_arrest.plot(\n",
    "    marker='o', \n",
    "    figsize=(10, 5),\n",
    "    title='Yearly Arrest in Apartment'\n",
    ")\n",
    "plt.legend(title='Yearly Arrest Comparison', bbox_to_anchor = (1.05,1), loc='upper left')\n",
    "plt.grid(alpha=0.3)\n",
    "plt.show()"
   ]
  },
  {
   "cell_type": "markdown",
   "id": "808905e4-2811-4c66-8253-c88d3e94c7b8",
   "metadata": {},
   "source": [
    "<h2>INSIGHT 29: In 2024, arrests in apartments were highest among non-arrested cases, while actual arrests were significantly lower.</h2>"
   ]
  },
  {
   "cell_type": "markdown",
   "id": "029dcdb3-2f1b-47ad-93e6-41b9e7271acd",
   "metadata": {},
   "source": [
    "<h2>INSIGHT 30: There was a noticeable increase in non-arrested cases in 2025 compared to 2024, showing a shift in enforcement or reporting trends.</h2>"
   ]
  },
  {
   "cell_type": "markdown",
   "id": "8754a9ba-7c77-4d90-9e75-64adbcd2dc0f",
   "metadata": {},
   "source": [
    "<H2>INSIGHT 31: Arrested cases in 2025 dropped to their lowest point, suggesting fewer successful arrests or changes in policing focus within apartment-related incidents.</H2>"
   ]
  },
  {
   "cell_type": "markdown",
   "id": "9086a3f0-c8b8-4887-ab1a-780659cb4bb7",
   "metadata": {},
   "source": [
    "<h1>Q15: </h1>"
   ]
  },
  {
   "cell_type": "code",
   "execution_count": 67,
   "id": "d554c4d4-d0bc-43c9-8b91-c131457ededf",
   "metadata": {},
   "outputs": [],
   "source": [
    "primary = crime[crime['Location Description']== 'APARTMENT']"
   ]
  },
  {
   "cell_type": "code",
   "execution_count": 69,
   "id": "043210d8-a563-4366-8815-d90da7a998da",
   "metadata": {},
   "outputs": [],
   "source": [
    "primary_df = primary[primary['Arrest']]"
   ]
  },
  {
   "cell_type": "code",
   "execution_count": 72,
   "id": "a6c16fda-37f7-488d-a1e0-122893d92be0",
   "metadata": {},
   "outputs": [
    {
     "data": {
      "text/html": [
       "<div style=\"width:100%;\"><div style=\"position:relative;width:100%;height:0;padding-bottom:60%;\"><span style=\"color:#565656\">Make this Notebook Trusted to load map: File -> Trust Notebook</span><iframe srcdoc=\"&lt;!DOCTYPE html&gt;\n",
       "&lt;html&gt;\n",
       "&lt;head&gt;\n",
       "    \n",
       "    &lt;meta http-equiv=&quot;content-type&quot; content=&quot;text/html; charset=UTF-8&quot; /&gt;\n",
       "    &lt;script src=&quot;https://cdn.jsdelivr.net/npm/leaflet@1.9.3/dist/leaflet.js&quot;&gt;&lt;/script&gt;\n",
       "    &lt;script src=&quot;https://code.jquery.com/jquery-3.7.1.min.js&quot;&gt;&lt;/script&gt;\n",
       "    &lt;script src=&quot;https://cdn.jsdelivr.net/npm/bootstrap@5.2.2/dist/js/bootstrap.bundle.min.js&quot;&gt;&lt;/script&gt;\n",
       "    &lt;script src=&quot;https://cdnjs.cloudflare.com/ajax/libs/Leaflet.awesome-markers/2.0.2/leaflet.awesome-markers.js&quot;&gt;&lt;/script&gt;\n",
       "    &lt;link rel=&quot;stylesheet&quot; href=&quot;https://cdn.jsdelivr.net/npm/leaflet@1.9.3/dist/leaflet.css&quot;/&gt;\n",
       "    &lt;link rel=&quot;stylesheet&quot; href=&quot;https://cdn.jsdelivr.net/npm/bootstrap@5.2.2/dist/css/bootstrap.min.css&quot;/&gt;\n",
       "    &lt;link rel=&quot;stylesheet&quot; href=&quot;https://netdna.bootstrapcdn.com/bootstrap/3.0.0/css/bootstrap-glyphicons.css&quot;/&gt;\n",
       "    &lt;link rel=&quot;stylesheet&quot; href=&quot;https://cdn.jsdelivr.net/npm/@fortawesome/fontawesome-free@6.2.0/css/all.min.css&quot;/&gt;\n",
       "    &lt;link rel=&quot;stylesheet&quot; href=&quot;https://cdnjs.cloudflare.com/ajax/libs/Leaflet.awesome-markers/2.0.2/leaflet.awesome-markers.css&quot;/&gt;\n",
       "    &lt;link rel=&quot;stylesheet&quot; href=&quot;https://cdn.jsdelivr.net/gh/python-visualization/folium/folium/templates/leaflet.awesome.rotate.min.css&quot;/&gt;\n",
       "    \n",
       "            &lt;meta name=&quot;viewport&quot; content=&quot;width=device-width,\n",
       "                initial-scale=1.0, maximum-scale=1.0, user-scalable=no&quot; /&gt;\n",
       "            &lt;style&gt;\n",
       "                #map_a06f25855cc4dc57c55ee34ccffa941d {\n",
       "                    position: relative;\n",
       "                    width: 100.0%;\n",
       "                    height: 100.0%;\n",
       "                    left: 0.0%;\n",
       "                    top: 0.0%;\n",
       "                }\n",
       "                .leaflet-container { font-size: 1rem; }\n",
       "            &lt;/style&gt;\n",
       "\n",
       "            &lt;style&gt;html, body {\n",
       "                width: 100%;\n",
       "                height: 100%;\n",
       "                margin: 0;\n",
       "                padding: 0;\n",
       "            }\n",
       "            &lt;/style&gt;\n",
       "\n",
       "            &lt;style&gt;#map {\n",
       "                position:absolute;\n",
       "                top:0;\n",
       "                bottom:0;\n",
       "                right:0;\n",
       "                left:0;\n",
       "                }\n",
       "            &lt;/style&gt;\n",
       "\n",
       "            &lt;script&gt;\n",
       "                L_NO_TOUCH = false;\n",
       "                L_DISABLE_3D = false;\n",
       "            &lt;/script&gt;\n",
       "\n",
       "        \n",
       "    &lt;script src=&quot;https://cdn.jsdelivr.net/gh/python-visualization/folium@main/folium/templates/leaflet_heat.min.js&quot;&gt;&lt;/script&gt;\n",
       "&lt;/head&gt;\n",
       "&lt;body&gt;\n",
       "    \n",
       "    \n",
       "            &lt;div class=&quot;folium-map&quot; id=&quot;map_a06f25855cc4dc57c55ee34ccffa941d&quot; &gt;&lt;/div&gt;\n",
       "        \n",
       "&lt;/body&gt;\n",
       "&lt;script&gt;\n",
       "    \n",
       "    \n",
       "            var map_a06f25855cc4dc57c55ee34ccffa941d = L.map(\n",
       "                &quot;map_a06f25855cc4dc57c55ee34ccffa941d&quot;,\n",
       "                {\n",
       "                    center: [41.84751035157684, -87.66902113494399],\n",
       "                    crs: L.CRS.EPSG3857,\n",
       "                    ...{\n",
       "  &quot;zoom&quot;: 10,\n",
       "  &quot;zoomControl&quot;: true,\n",
       "  &quot;preferCanvas&quot;: false,\n",
       "}\n",
       "\n",
       "                }\n",
       "            );\n",
       "\n",
       "            \n",
       "\n",
       "        \n",
       "    \n",
       "            var tile_layer_17eb69496b9ec2af2abfc99c9f6ea3d0 = L.tileLayer(\n",
       "                &quot;https://tile.openstreetmap.org/{z}/{x}/{y}.png&quot;,\n",
       "                {\n",
       "  &quot;minZoom&quot;: 0,\n",
       "  &quot;maxZoom&quot;: 19,\n",
       "  &quot;maxNativeZoom&quot;: 19,\n",
       "  &quot;noWrap&quot;: false,\n",
       "  &quot;attribution&quot;: &quot;\\u0026copy; \\u003ca href=\\&quot;https://www.openstreetmap.org/copyright\\&quot;\\u003eOpenStreetMap\\u003c/a\\u003e contributors&quot;,\n",
       "  &quot;subdomains&quot;: &quot;abc&quot;,\n",
       "  &quot;detectRetina&quot;: false,\n",
       "  &quot;tms&quot;: false,\n",
       "  &quot;opacity&quot;: 1,\n",
       "}\n",
       "\n",
       "            );\n",
       "        \n",
       "    \n",
       "            tile_layer_17eb69496b9ec2af2abfc99c9f6ea3d0.addTo(map_a06f25855cc4dc57c55ee34ccffa941d);\n",
       "        \n",
       "    \n",
       "            var heat_map_5ae0620165a420de5a3bac580efa3f1a = L.heatLayer(\n",
       "                [[41.87788222, -87.73354419], [41.72169151, -87.57898206], [41.78298864, -87.61326477], [41.89905431, -87.72213923], [41.79716958, -87.65494316], [41.81685551, -87.6032191], [41.99156055, -87.6554321], [41.93869289, -87.75735031], [41.93117017, -87.77383801], [41.90912768, -87.693296], [41.80055169, -87.65746744], [41.77864604, -87.6714791], [41.89315986, -87.67788628], [41.84411271, -87.62844534], [41.90202757, -87.7312061], [41.83686031, -87.7260964], [41.73301353, -87.55132795], [41.81067715, -87.60782672], [41.78122252, -87.61564938], [41.76514115, -87.64849944], [41.87827876, -87.67901144], [41.78631471, -87.65103154], [41.83780891, -87.71461236], [41.8995469, -87.72498127], [41.88081515, -87.75263391], [41.91605895, -87.73384821], [41.68286473, -87.66876778], [41.85753386, -87.62560361], [41.79569888, -87.63303209], [41.70403305, -87.53528426], [41.87704198, -87.72925957], [41.87661908, -87.75806592], [41.76492941, -87.57627282], [41.97100601, -87.70854818], [41.96589316, -87.66936438], [42.00843216, -87.67005179], [41.78081896, -87.70110345], [41.87742729, -87.69694653], [41.77615028, -87.61552262], [41.93016522, -87.71132458], [41.97432741, -87.67054185], [41.99855496, -87.68868497], [41.82261447, -87.7031102], [41.99128707, -87.68846035], [41.75322329, -87.66350543], [41.85425583, -87.71369405], [41.99226087, -87.68110449], [41.88354587, -87.68158339], [41.78122252, -87.61564938], [41.76619434, -87.64198183], [41.87661707, -87.75821281], [41.79880862, -87.65135378], [41.89038929, -87.61961083], [41.75304485, -87.55993908], [41.99245025, -87.68110992], [41.85283164, -87.71015839], [41.76525427, -87.5793517], [41.89020304, -87.76521595], [41.77296995, -87.70054632], [41.87484007, -87.75573192], [41.97773024, -87.84646986], [41.86547608, -87.70441859], [41.75840673, -87.55620957], [41.78830299, -87.62230273], [41.7809464, -87.62199537], [41.7452585, -87.60258707], [41.87657738, -87.65350917], [41.93722649, -87.73043038], [41.87701654, -87.7312096], [41.673109, -87.62251046], [42.00603628, -87.66105498], [41.96984208, -87.74858637], [41.80038287, -87.67326895], [41.85882915, -87.72784519], [41.99719323, -87.73785141], [41.92101589, -87.71080349], [41.88192814, -87.75512093], [41.77607063, -87.58793211], [41.85572706, -87.72608315], [41.89149727, -87.66227942], [41.89149727, -87.66227942], [41.83970727, -87.72320706], [41.8061836, -87.67219708], [41.89020304, -87.76521595], [41.78294526, -87.62216027], [41.76308925, -87.60794521], [41.74669213, -87.66496949], [41.84913512, -87.73335034], [41.85604862, -87.66207383], [41.7747382, -87.6932811], [41.73056117, -87.60710231], [41.96489133, -87.65478095], [41.7365435, -87.54581861], [41.74264712, -87.54786562], [41.73904622, -87.72157766], [41.77094392, -87.56990417], [41.76936285, -87.68948182], [41.87756569, -87.68489383], [41.76194747, -87.62107999], [41.84572398, -87.71116693], [41.77707324, -87.65078854], [41.97456135, -87.66356686], [41.97428302, -87.76680823], [41.81303102, -87.69557417], [41.83981113, -87.61714191], [41.79038534, -87.61911513], [41.75037571, -87.6076376], [41.82312577, -87.60272595], [41.99895417, -87.67729101], [41.761017, -87.64308568], [41.75147623, -87.56501525], [41.900231, -87.69282652], [41.68991324, -87.6181956], [41.9447942, -87.72818301], [41.74810658, -87.63787741], [41.765444, -87.62690618], [41.87173263, -87.7164993], [41.98386515, -87.71256028], [41.8711618, -87.73781098], [41.95952493, -87.77077005], [41.74522967, -87.54548528], [41.65373601, -87.59540759], [41.88083694, -87.74773875], [41.77596364, -87.61551737], [41.76527074, -87.57935151], [41.9342644, -87.74076722], [41.86588694, -87.70930838], [41.96505469, -87.71326137], [41.77921341, -87.61560212], [41.8559587, -87.72112549], [41.77730987, -87.64080292], [41.89242222, -87.66748878], [41.7477541, -87.65002548], [41.96203282, -87.71316934], [41.88189134, -87.72153533], [41.76665666, -87.62819417], [41.86851813, -87.62411302], [41.76177105, -87.568862], [41.76863335, -87.61855367], [42.00045165, -87.67045476], [41.77106836, -87.58801936], [42.00996802, -87.66234558], [41.94890875, -87.70788175], [41.87992109, -87.76647843], [41.87992109, -87.76647843], [41.70182952, -87.68147718], [41.69928708, -87.66786271], [41.81067058, -87.62124844], [41.88829188, -87.75291142], [41.81807333, -87.69774729], [41.8926318, -87.61836282], [41.73039035, -87.65876758], [41.77879596, -87.71412038], [41.94277042, -87.74697389], [41.81601672, -87.61162197], [41.78416498, -87.66676209], [41.80130415, -87.66647813], [41.96575581, -87.65479016], [41.91240785, -87.71906902], [41.76094004, -87.6467298], [41.78825281, -87.62662282], [41.7809464, -87.62199537], [41.86710024, -87.72367726], [41.95563463, -87.71595928], [41.74039876, -87.56849631], [41.76512928, -87.61685511], [41.94249286, -87.74582228], [41.77346127, -87.57583522], [41.7642936, -87.58016202], [41.76470801, -87.56319327], [41.79053076, -87.62398325], [41.93232938, -87.7407006], [41.9994177, -87.69773382], [41.96881517, -87.74524952], [41.85101058, -87.70032831], [41.89433968, -87.71140052], [41.74956632, -87.56134774], [41.80805122, -87.66251644], [41.74771392, -87.55524651], [41.86005048, -87.72011367], [41.8500577, -87.69723624], [41.89593155, -87.64003709], [41.76616187, -87.56269203], [41.85708881, -87.72051271], [41.86710024, -87.72367726], [41.82996683, -87.64121166], [41.92228884, -87.75535195], [41.87421698, -87.73638368], [41.80852365, -87.61143098], [41.93102883, -87.78378017], [41.79305646, -87.65970245], [41.99345733, -87.65831807], [41.91429253, -87.71181674], [41.8069145, -87.60431865], [41.88225903, -87.76367422], [41.76068652, -87.57707407], [41.76390668, -87.5664761], [41.83765394, -87.65601299], [41.8013971, -87.61938896], [41.92342989, -87.68339708], [41.7598013, -87.60054918], [41.91953557, -87.72907575], [41.87396879, -87.62598777], [41.96705872, -87.73512795], [41.95103443, -87.66013705], [41.84661172, -87.68413848], [41.83366747, -87.68519033], [41.76561913, -87.58058639], [41.95720767, -87.72429347], [41.77915027, -87.61559916], [41.7309655, -87.55404186], [41.78299076, -87.61447837], [41.87846885, -87.72559249], [41.76315171, -87.62900961], [41.91743265, -87.75339331], [41.761017, -87.64308568], [41.88367653, -87.69310206], [41.89925264, -87.77284946], [41.87597105, -87.74125093], [41.90515709, -87.72516312], [41.72714235, -87.60459478], [41.90839076, -87.75346414], [41.70206075, -87.56398157], [41.88127714, -87.76157512], [41.78666721, -87.6709346], [41.75717499, -87.63446262], [41.75717499, -87.63446262], [41.79662669, -87.67771195], [41.75638368, -87.56511065], [41.71584897, -87.65377353], [41.81124771, -87.66382563], [41.97746494, -87.83770059], [41.75210431, -87.60889348], [41.88889207, -87.76150355], [41.90293136, -87.72877316], [41.7708622, -87.58501208], [41.98022952, -87.76233843], [41.88278465, -87.70703612], [41.74934346, -87.61193317], [41.96179254, -87.76482312], [41.81483033, -87.59593107], [41.88889207, -87.76150355], [41.78566391, -87.70333287], [41.92516036, -87.66739469], [41.98251699, -87.65658362], [41.84376041, -87.71599], [41.85796918, -87.65546094], [41.81663362, -87.69200937], [41.82312577, -87.60272595], [41.92065102, -87.77316931], [41.76019768, -87.56215863], [41.89402755, -87.74916089], [41.90860804, -87.72647495], [41.98068906, -87.65653309], [41.74614647, -87.65847442], [41.77426047, -87.62274747], [41.89519704, -87.66472361], [41.9055283, -87.71045437], [42.0225357, -87.67359287], [41.76600117, -87.6807437], [41.85491725, -87.65633742], [41.93205382, -87.70287562], [41.78519341, -87.64569376], [41.95876347, -87.75832039], [41.9312332, -87.67882699], [41.93575561, -87.73938621], [41.91634632, -87.68667284], [41.75449139, -87.57605099], [41.9733369, -87.65320563], [41.86184627, -87.71163107], [41.75155707, -87.67195902], [41.77225316, -87.65990183], [41.87341231, -87.72840152], [41.86562, -87.70313958], [41.90316302, -87.7337007], [41.9659462, -87.67094495], [41.88838873, -87.76514389], [41.78238978, -87.65093015], [41.81147212, -87.69308061], [41.77238649, -87.6070083], [41.8640337, -87.71779213], [41.76795503, -87.63228185], [41.85101058, -87.70032831], [41.93621094, -87.76150737], [41.88357991, -87.70945207], [41.79043923, -87.61587294], [41.87768284, -87.74593891], [41.74395875, -87.54304206], [41.85101058, -87.70032831], [41.86955677, -87.71963364], [41.76306651, -87.58052092], [41.86249155, -87.70715343], [41.8202485, -87.61602088], [41.98549596, -87.65730609], [41.70567778, -87.60094436], [41.80846818, -87.61264938], [41.82040899, -87.62775517], [41.75255301, -87.57966895], [41.96649049, -87.72155391], [41.77475467, -87.69328094], [41.89430154, -87.72115613], [41.75323462, -87.64774646], [41.84169911, -87.72934256], [41.85667519, -87.6612854], [41.70015937, -87.5607745], [41.75935672, -87.61269702], [41.86546403, -87.72149373], [41.77241268, -87.58753822], [41.92323835, -87.71939875], [41.74512181, -87.60137571], [41.86171838, -87.71284742], [41.87750074, -87.64956674], [41.88189122, -87.7215133], [41.87761306, -87.64723385], [41.83981113, -87.61714191], [41.80612057, -87.66368462], [41.90441804, -87.76573648], [41.76332767, -87.58184842], [41.75247437, -87.58443044], [41.81097114, -87.69428508], [41.86774595, -87.70448813], [41.80614849, -87.66612346], [41.77444303, -87.6045765], [41.96532015, -87.66331435], [41.79258059, -87.77011997], [41.97010057, -87.72492451], [41.87178962, -87.6335643], [41.74247548, -87.64750183], [42.01315905, -87.68131419], [41.99721239, -87.72320952], [42.01603043, -87.66903815], [41.91411117, -87.73134604], [41.81976781, -87.60030247], [41.79238986, -87.62240425], [41.84155182, -87.73055867], [41.77191256, -87.68757204], [41.76735037, -87.62408471], [41.7778549, -87.77184365], [41.8060598, -87.66976289], [41.76484811, -87.62328387], [41.90855316, -87.72647547], [41.93567038, -87.75657997], [41.88180564, -87.74612149], [41.8471386, -87.71242678], [41.8616139, -87.62728033], [41.72677525, -87.65629235], [41.90245503, -87.63287325], [41.96232354, -87.66097788], [41.91185515, -87.65314598], [41.79535784, -87.62086055], [41.75671051, -87.56269149], [41.7840196, -87.68743223], [41.84363736, -87.70745107], [41.91910437, -87.69453377], [41.77007938, -87.62828866], [41.86381096, -87.72388106], [41.8028931, -87.71607069], [41.9325313, -87.66032799], [41.89705194, -87.62978081], [41.87666344, -87.64767362], [41.89407874, -87.62779703], [41.90849696, -87.7436029], [41.75255301, -87.57966895], [41.86630458, -87.62162265], [41.77110557, -87.61804966], [41.74878466, -87.61122484], [41.76124541, -87.63456507], [41.89391144, -87.64043357], [41.75053978, -87.60884877], [41.87157398, -87.73369496], [41.97843566, -87.70874771], [41.93426691, -87.64343324], [41.80170938, -87.59669769], [41.76480209, -87.57694143], [41.7762414, -87.60948712], [41.76094004, -87.6467298], [41.76036075, -87.56478832], [41.88115363, -87.76488851], [41.72959724, -87.65923382], [41.77462801, -87.69815074], [41.87255873, -87.72370984], [41.91914375, -87.71424984], [41.75492968, -87.55215778], [41.75782643, -87.61024019], [41.77800895, -87.59614407], [41.76906359, -87.5714844], [41.90054693, -87.63363243], [41.73039035, -87.65876758], [41.92174788, -87.78207034], [41.9368995, -87.75488558], [41.76010804, -87.56639671], [41.74530345, -87.6001644], [41.91258509, -87.72763866], [41.86014483, -87.72133886], [41.84085918, -87.62684797], [41.97100601, -87.70854818], [41.88627534, -87.76507815], [41.88374448, -87.73312214], [41.83725096, -87.64776055], [41.97843566, -87.70874771], [41.86337575, -87.65645745], [41.80782618, -87.66251512], [42.0225357, -87.67359287], [41.78328385, -87.63756707], [41.86616104, -87.65550658], [41.90843054, -87.63850953], [41.99730192, -87.66299736], [41.75528887, -87.66194467], [41.78172124, -87.63829159], [41.90099763, -87.70743856], [41.87666344, -87.64767362], [41.96516889, -87.75840619], [41.75828876, -87.5615071], [41.75279888, -87.5674659], [41.74581485, -87.60333197], [41.9245562, -87.75985498], [41.76941777, -87.56985628], [41.75295836, -87.56504522], [41.75121488, -87.57109815], [41.69522504, -87.63090093], [41.80707759, -87.61014878], [41.86339496, -87.73242775], [41.8602291, -87.71402184], [41.76339649, -87.64357334], [41.93240355, -87.74982518], [41.88627534, -87.76507815], [41.69393122, -87.61340583], [41.7809464, -87.62199537], [41.84738786, -87.72464255], [42.00123136, -87.69769002], [41.7603278, -87.56478505], [41.85125244, -87.67692686], [41.82965153, -87.6144519], [41.80044928, -87.6052318], [41.74128055, -87.60063521], [41.80636769, -87.65761538], [41.76706256, -87.64123938], [41.95774731, -87.65463615], [41.97563886, -87.6549905], [41.96591153, -87.65886264], [41.90843054, -87.63850953], [41.91953829, -87.75846691], [41.88899385, -87.62693483], [41.78407589, -87.68621802], [41.78407589, -87.68621802], [41.96773996, -87.66274478], [41.94851566, -87.77537733], [41.9442545, -87.75063975], [41.79675373, -87.66830395], [41.86020316, -87.70670955], [42.01504461, -87.66326002], [41.882362, -87.73798608], [41.94168091, -87.72481249], [41.76010409, -87.56211577], [41.79536387, -87.70213037], [41.75536643, -87.5656542], [41.77754599, -87.72517511], [41.77418232, -87.60457578], [41.87745244, -87.69455585], [41.76971498, -87.58457453], [41.76294165, -87.63460898], [41.7594265, -87.63330565], [41.8132786, -87.67237723], [41.93202262, -87.75644378], [41.87587525, -87.74557359], [41.86528472, -87.62578246], [41.88309284, -87.74830204], [41.75655146, -87.55295175], [41.87666344, -87.64767362], [41.80731219, -87.61385808], [41.85164065, -87.71677312], [41.75326915, -87.65541663], [41.85255761, -87.72352541], [41.96235633, -87.67900126], [41.91402116, -87.68555736], [41.77543953, -87.63331485], [41.76038763, -87.68679694], [41.98283243, -87.65516425], [41.88613521, -87.77342318], [41.94466167, -87.71924472], [41.96005056, -87.72842473], [41.87753281, -87.67238752], [41.92385761, -87.66752582], [41.87047503, -87.74352294], [41.80273624, -87.65144784], [41.78444741, -87.62900759], [41.76906359, -87.5714844], [41.75377369, -87.64290308], [41.89551517, -87.76785015], [41.74684719, -87.60384063], [41.76161751, -87.60912369], [41.75889656, -87.57447449], [41.82490937, -87.60919968], [41.70159425, -87.56398713], [41.76690345, -87.57142565], [41.80829274, -87.62281166], [41.7690002, -87.5739302], [41.77796729, -87.61556835], [41.77748249, -87.64578347], [41.86366317, -87.717781], [41.76488055, -87.61525605], [41.87666344, -87.64767362], [42.00358158, -87.66081592], [41.74628138, -87.64513073], [41.8995734, -87.72376886], [41.74771966, -87.59692312], [41.89096578, -87.70763933], [41.89035315, -87.7633893], [41.74515749, -87.60137531], [41.93435549, -87.72460649], [41.94273101, -87.64771239], [41.86212656, -87.71935227], [41.94347507, -87.74203828], [41.90715332, -87.63968057], [41.99837167, -87.66056911], [41.74495212, -87.65931141], [41.75591365, -87.65757314], [41.83069725, -87.61447689], [41.89701226, -87.63271602], [41.92380031, -87.77746309], [41.836796, -87.73212986], [41.89189329, -87.6280745], [41.84750348, -87.70634536], [41.89497735, -87.74921835], [41.94224974, -87.64296125], [41.88357991, -87.70945207], [41.71583472, -87.64952126], [41.96031082, -87.65470822], [41.85143391, -87.73212862], [41.89519704, -87.66472361], [41.77810527, -87.70067915], [41.7603278, -87.56478505], [41.79536387, -87.70213037], [41.93082599, -87.80012467], [41.9238947, -87.77148369], [41.88307731, -87.76821689], [41.93701568, -87.7458799], [41.87670713, -87.75103343], [41.88084344, -87.77324905], [41.75151664, -87.58317357], [41.78182238, -87.6910291], [41.98367081, -87.65726287], [41.77793651, -87.60587513], [41.73541857, -87.6014749], [41.85491725, -87.65633742], [41.91931817, -87.76885993], [41.8239335, -87.70443641], [41.89118328, -87.75706482], [41.86000405, -87.71401667], [41.95350022, -87.65526207], [41.90843054, -87.63850953], [41.87840326, -87.76034491], [41.98423772, -87.65520819], [41.91756439, -87.75339579], [41.81457643, -87.69317442], [41.98795129, -87.65532326], [41.77844003, -87.66906881], [41.96073704, -87.68866554], [41.81541834, -87.70299366], [41.96203282, -87.71316934], [41.96545069, -87.65331157], [41.85273159, -87.70139047], [41.80597348, -87.67097418], [41.86778617, -87.66026221], [41.96729105, -87.71577688], [41.79173546, -87.63292121], [41.90823477, -87.67851092], [41.88301425, -87.7544538], [41.81634135, -87.61525375], [41.90092449, -87.76682166], [42.0020847, -87.67050035], [41.72167066, -87.62797925], [41.85497852, -87.67203616], [41.97835911, -87.66967255], [41.7687441, -87.59016139], [41.82155318, -87.60356929], [41.78293249, -87.61569264], [41.77259993, -87.58384078], [41.91910437, -87.69453377], [41.9795209, -87.68960519], [41.71296056, -87.53769367], [41.93915546, -87.64316002], [41.87756569, -87.68489383], [41.75836562, -87.56150984], [41.93405975, -87.72214325], [41.81061071, -87.59353651], [41.8602291, -87.71402184], [41.87756569, -87.68489383], [41.695823, -87.61224231], [41.78314201, -87.61892787], [41.78568583, -87.61670328], [41.86630317, -87.71421287], [41.81685551, -87.6032191], [41.774456, -87.59971517], [41.80710127, -87.58640245], [41.87756569, -87.68489383], [41.85456663, -87.70173213], [42.01504461, -87.66326002], [41.750102, -87.63792916], [41.90843054, -87.63850953], [41.70182952, -87.68147718], [41.93580351, -87.74549409], [41.87695917, -87.7359873], [41.86630317, -87.71421287], [41.8961034, -87.71633463], [41.93264496, -87.80002867], [41.89921066, -87.63727245], [41.87768295, -87.74596094], [41.88095048, -87.76321214], [41.76016295, -87.56639972], [41.88601293, -87.62950532], [41.90843054, -87.63850953], [41.93575821, -87.76761607], [41.89841523, -87.77107898], [41.74904463, -87.56376164], [41.77212195, -87.61865058], [41.88121402, -87.76489165], [41.93701568, -87.7458799], [41.88102026, -87.7563042], [41.85491176, -87.65633748], [41.93237997, -87.67016411], [41.90682774, -87.75588083], [41.89433721, -87.72115579], [41.96505469, -87.71326137], [41.99866679, -87.66552516], [41.8040281, -87.60961824], [41.79455383, -87.58252157], [41.80695838, -87.61652494], [41.81801697, -87.61683085], [41.77864604, -87.6714791], [42.00507683, -87.69982987], [41.96161898, -87.72662298], [41.83730423, -87.64382246], [41.77574132, -87.61551252], [41.84854943, -87.63190909], [41.75542661, -87.63441928], [41.78208137, -87.69713123], [41.8460732, -87.72513213], [41.96290079, -87.71739665], [41.69022358, -87.61208518], [41.87871754, -87.73849727], [41.89356133, -87.7228417], [41.92277861, -87.77446251], [41.83571841, -87.66808053], [41.76068213, -87.64307461], [41.87311259, -87.62643414], [41.83772217, -87.71583153], [41.77526403, -87.76509494], [41.87097594, -87.70398651], [41.88415652, -87.67270852], [41.86461129, -87.71293326], [41.77757555, -87.78791157], [41.89284186, -87.61772141], [41.97012794, -87.7223281], [41.80341343, -87.58605284], [41.76467145, -87.68484421], [41.96203282, -87.71316934], [41.84308181, -87.64397329], [41.88200247, -87.7290476], [41.65434649, -87.60680278], [41.87858618, -87.74603346], [41.90731482, -87.69447499], [41.75743756, -87.62313099], [41.7957302, -87.62249202], [41.80280415, -87.6100538], [41.78633318, -87.6486003], [41.81673638, -87.61129107], [41.76154001, -87.61032679], [41.7527159, -87.58443496], [41.77785044, -87.65042101], [41.92559316, -87.6399108], [41.87449721, -87.71721809], [41.79482837, -87.58044273], [41.90377615, -87.72040809], [41.78295297, -87.61326517], [41.85409863, -87.66935834], [41.80084358, -87.62261889], [41.93360239, -87.6799531], [41.95585757, -87.76831335], [41.73645017, -87.54581608], [41.78153478, -87.60595545], [41.77095062, -87.5825806], [42.01614611, -87.68300956], [41.85463315, -87.71242037], [41.8822061, -87.76739832], [41.77421051, -87.59055287], [41.98132321, -87.69341941], [41.90942134, -87.7619743], [41.76381336, -87.56647354], [41.99585136, -87.69398021], [41.85141981, -87.73310509], [41.90136124, -87.75207678], [41.88210387, -87.68475247], [41.88367855, -87.69297351], [41.89988201, -87.72867703], [41.81230629, -87.74328289], [41.98262954, -87.65658978], [41.75061361, -87.60273889], [41.79693332, -87.66709188], [41.80282956, -87.65145052], [41.96230495, -87.68299848], [41.94635178, -87.65066944], [41.95693617, -87.75838828], [41.7681048, -87.64571132], [41.87177949, -87.71398746], [41.9710064, -87.70610276], [41.91697739, -87.71352492], [41.76698023, -87.57266006], [41.72935354, -87.549852], [41.83809529, -87.6421149], [41.74796877, -87.66458979], [41.86356723, -87.62406862], [41.88451701, -87.61879116], [41.87309633, -87.62735959], [41.76014646, -87.56639625], [41.96828808, -87.72364372], [41.90637778, -87.76580729], [41.77423994, -87.60457513], [41.90478587, -87.69321814], [41.98955953, -87.67467284], [41.77490734, -87.66044597], [41.76493538, -87.59703785], [41.77601625, -87.60339652], [41.87234191, -87.70587136], [41.89200073, -87.75426983], [41.74973979, -87.64522939], [41.96564085, -87.73057438], [41.90234456, -87.69686447], [41.86649161, -87.69746986], [41.89544188, -87.75806599], [41.85070109, -87.67218666], [41.85455736, -87.70655176], [41.92438518, -87.73494615], [41.69558145, -87.61223403], [41.77195084, -87.68511182], [41.99498787, -87.68242673], [41.78416498, -87.66676209], [41.88454797, -87.73722765], [41.92471593, -87.77331381], [41.75482364, -87.55109257], [41.91692437, -87.67395426], [41.74911863, -87.5649774], [41.765444, -87.62690618], [41.96760271, -87.69499082], [41.87955063, -87.71438979], [41.88644647, -87.61575091], [41.81122453, -87.61501379], [41.75717499, -87.63446262], [41.88813174, -87.62954817], [41.74226582, -87.5575841], [41.99131924, -87.65825605], [41.74627759, -87.66211918], [41.75420459, -87.64933404], [41.77118232, -87.57399244], [41.7782727, -87.70068484], [41.87978264, -87.72390558], [41.70567778, -87.60094436], [41.74854155, -87.66257199], [41.96591902, -87.65780358], [41.93472642, -87.70382691], [41.88218142, -87.68003657], [41.91018093, -87.77525207], [41.99133296, -87.65825591], [41.88393885, -87.68313278], [41.78150037, -87.61444002], [41.79470562, -87.62189459], [41.81230004, -87.62291777], [41.97076227, -87.72447326], [41.96663751, -87.70759071], [41.99774223, -87.68909417], [41.88679893, -87.64692257], [41.75804705, -87.56392897], [41.85592419, -87.72237386], [41.7474706, -87.61436173], [41.94347507, -87.74203828], [41.7445135, -87.56208251], [41.89272302, -87.71745432], [41.75356967, -87.56453584], [41.99440289, -87.67226121], [41.83379249, -87.65225583], [42.02145568, -87.66667419], [41.8797725, -87.76974422], [41.92516036, -87.66739469], [41.99217504, -87.70107978], [41.74886944, -87.55284325], [41.79324445, -87.66699806], [41.85916142, -87.64551492], [41.77864604, -87.6714791], [41.87974704, -87.774643], [41.87279572, -87.70404944], [41.85691683, -87.66460124], [41.74648565, -87.61484177], [41.90785318, -87.64333933], [41.92494489, -87.69863891], [41.87434259, -87.67453165], [41.78654022, -87.64375799], [41.74929632, -87.65977169], [41.74760046, -87.60708254], [42.00413615, -87.66934218], [41.75495199, -87.55342191], [41.87214747, -87.63419559], [42.00370512, -87.65942021], [41.80621041, -87.66733688], [41.99137684, -87.65685394], [41.83756882, -87.64722139], [41.99313915, -87.68112863], [41.80903583, -87.70864632], [41.76470801, -87.56319327], [41.80781055, -87.66737533], [41.91815722, -87.72013454], [41.8811725, -87.76815656], [41.81421223, -87.61972721], [41.9346044, -87.70259324], [41.98214305, -87.71127134], [41.91536641, -87.72479065], [42.01504461, -87.66326002], [41.70182952, -87.68147718], [41.93412814, -87.75713044], [41.80118769, -87.67819359], [41.95350035, -87.65528412], [41.93412814, -87.75713044], [41.80431182, -87.66363743], [41.77742006, -87.63497977], [41.90319518, -87.7522328], [41.94904617, -87.72012901], [41.96883229, -87.72071149], [41.89342753, -87.61922809], [41.765444, -87.62690618], [41.89045184, -87.72227634], [41.78255836, -87.70652381], [41.83608584, -87.61166809], [41.77622049, -87.70377725], [41.81917728, -87.62783106], [41.85091857, -87.71009988], [41.9532855, -87.75821522], [41.65584094, -87.59583732], [41.89925237, -87.62124956], [41.92828152, -87.7563011], [41.91190998, -87.70918361], [41.91105187, -87.64270237], [41.68836473, -87.61324822], [41.99402597, -87.69537061], [41.77624505, -87.6009706], [41.70021533, -87.52697518], [41.75473292, -87.57605548], [41.81080062, -87.60392245], [41.89453891, -87.71018652], [41.76509733, -87.59704333], [41.95797203, -87.74832357], [41.67528873, -87.62618716], [42.0009109, -87.67157577], [41.8558638, -87.72237077], [41.96557197, -87.7222172], [41.75817186, -87.56003879], [41.76469494, -87.56452034], [41.77958661, -87.7055775], [41.78284273, -87.62377468], [41.85498184, -87.67165804], [41.83031448, -87.68188515], [41.6823841, -87.63854163], [41.9097978, -87.73302509], [41.80929417, -87.62233108], [41.67059607, -87.63609532], [41.69810796, -87.5281879], [41.97431106, -87.8464959], [41.95876711, -87.71061635], [41.90132405, -87.62833071], [41.96571272, -87.69217472], [41.81679288, -87.60806218], [41.85830746, -87.72003488], [41.96828488, -87.72407398], [41.8085009, -87.61656276], [41.8245467, -87.63302967], [41.75683643, -87.65026634], [41.75121488, -87.57109815], [41.95271458, -87.71286632], [41.91978078, -87.73030435], [41.85093773, -87.70155128], [41.76166838, -87.61153857], [41.85093773, -87.70155128], [41.76381336, -87.56647354], [41.85646026, -87.63311843], [41.89891863, -87.73230787], [41.8098378, -87.63399687], [41.92128759, -87.73401606], [41.83705957, -87.65203037], [41.85345018, -87.72832538], [41.75970444, -87.57921875], [41.8007726, -87.67327595], [41.80127484, -87.66994797], [41.9133091, -87.69463198], [41.87392849, -87.75618074], [42.00782266, -87.67095223], [41.9013788, -87.71651526], [41.8818059, -87.74617289], [41.69708688, -87.62084041], [41.9119118, -87.70901459], [41.75055104, -87.61369703], [41.77622563, -87.60829213], [41.76526524, -87.56649658], [41.85519055, -87.6238712], [41.91258509, -87.72763866], [41.75447615, -87.56507476], [41.97575263, -87.84154591], [41.77900024, -87.70123863], [41.75447615, -87.56507476], [41.79396123, -87.64429087], [41.98003985, -87.65580073], [41.77251642, -87.57280361], [42.00298144, -87.6722975], [41.82926056, -87.6460736], [41.90929604, -87.77218115], [41.76636436, -87.64929653], [41.99498787, -87.68242673], [41.86442366, -87.71886773], [41.75974645, -87.61270365], [41.77595774, -87.59296703], [41.86436734, -87.68515937], [42.00910985, -87.66671481], [41.84769598, -87.69151204], [41.77147262, -87.59026919], [41.93202978, -87.70801361], [41.90266965, -87.64248047], [41.89469297, -87.64215874], [41.73195742, -87.6131096], [41.97099189, -87.71710542], [41.9419397, -87.78892796], [41.84729007, -87.70999196], [41.90842161, -87.73015411], [41.87274258, -87.70939959], [41.85587596, -87.72362604], [41.73506955, -87.54578166], [41.7770823, -87.65929405], [41.92982251, -87.65376362], [41.96528242, -87.71938134], [41.96528242, -87.71938134], [41.8775491, -87.75636848], [41.75473491, -87.65546717], [41.95419909, -87.75817024], [41.96761206, -87.77808623], [41.88843814, -87.76514712], [41.99232737, -87.65749498], [41.7744976, -87.59293983], [41.87157398, -87.73369496], [41.95428518, -87.78415762], [41.86142334, -87.73481769], [41.75287908, -87.561407], [41.86390688, -87.70803172], [41.74907247, -87.55770005], [42.00910985, -87.66671481], [42.02114802, -87.66993438], [41.96179254, -87.76482312], [41.88191771, -87.73645523], [41.99479298, -87.68241768], [41.82636322, -87.63299886], [41.90381433, -87.73125543], [41.85034837, -87.67671588], [42.01035047, -87.69574105], [41.76841353, -87.62337652], [41.97240296, -87.65490716], [41.81081849, -87.71248788], [41.90380416, -87.72879799], [41.97412993, -87.84519912], [41.81865214, -87.60567864], [41.85776468, -87.648283], [41.78298864, -87.61326477], [41.87105141, -87.69726312], [42.01158602, -87.66451428], [41.90969294, -87.75811072], [41.98733882, -87.6650624], [41.78584811, -87.60758238], [41.75963392, -87.61270125], [41.8761036, -87.73137973], [41.93527079, -87.74009268], [41.76584338, -87.5762914], [41.7819884, -87.69225572], [41.87290396, -87.63359254], [41.77968872, -87.60956567], [41.80320736, -87.59449825], [41.75430746, -87.60403836], [41.76337018, -87.64513509], [41.87178962, -87.6335643], [41.84719545, -87.72097049], [42.01658514, -87.6752993], [41.80010071, -87.62098038], [41.91872769, -87.65703022], [41.77536147, -87.66537581], [41.8511588, -87.70033419], [41.96220604, -87.72296267], [41.90648594, -87.68223913], [41.85593263, -87.71881319], [41.87765289, -87.74813502], [41.69387967, -87.61218713], [41.91804098, -87.71026657], [41.94874572, -87.73233264], [41.69548813, -87.61223141], [41.75236624, -87.63434254], [41.75080025, -87.6027441], [41.81135407, -87.66748902], [41.8098378, -87.63399687], [41.70182952, -87.68147718], [41.88096206, -87.70696212], [41.76354979, -87.57930935], [42.01294668, -87.68890027], [41.87434259, -87.67453165], [41.76702306, -87.64379842], [41.76315171, -87.62900961], [41.94272602, -87.7886603], [41.7809464, -87.62199537], [41.90132556, -87.75207711], [41.95782963, -87.72773984], [41.93585417, -87.64912018], [41.95609693, -87.70807986], [41.85837214, -87.66616455], [41.76682032, -87.58634935], [41.94451212, -87.65049425], [41.96236103, -87.65475632], [41.87477927, -87.76057923], [41.7686078, -87.61533545], [41.88841335, -87.75414064], [41.93081153, -87.8017418], [41.75704822, -87.63122408], [41.87963215, -87.73653158], [42.01987868, -87.66824735], [41.93457471, -87.70870909], [41.76939584, -87.63725527], [41.9342644, -87.74076722], [41.76066292, -87.64307481], [41.81953466, -87.69948644], [41.99843552, -87.68259394], [41.67716733, -87.63225039], [41.75648782, -87.56632253], [41.75610772, -87.64221837], [41.97118038, -87.69633409], [41.92788087, -87.66946105], [41.76558894, -87.58058674], [42.00260595, -87.67237865], [41.81673094, -87.69568787], [41.83469081, -87.61370565], [41.87321477, -87.71807856], [41.94845262, -87.64586454], [41.74670567, -87.6639946], [41.87480811, -87.75811153], [41.7063177, -87.61977901], [41.98374748, -87.76953436], [41.7534944, -87.64897143], [41.94845262, -87.64586454], [41.89012893, -87.76521294], [41.86284846, -87.71579908], [41.81567137, -87.62625177], [41.78442269, -87.62900419], [41.75834641, -87.56151008], [41.91006563, -87.71066008], [41.8024127, -87.67453913], [41.78661586, -87.6157799], [41.76137452, -87.56004799], [41.69332027, -87.66917643], [41.93091637, -87.75148513], [41.88104777, -87.7718188], [41.89398359, -87.63467738], [41.90111288, -87.75452178], [41.81673094, -87.69568787], [41.9733392, -87.65313205], [41.8476261, -87.70267759], [41.89132035, -87.75376547], [41.86250082, -87.70633836], [41.92628126, -87.77579895], [41.87145065, -87.71969997], [41.87610778, -87.73113001], [41.92594912, -87.75743188], [41.91135339, -87.7543264], [41.92920235, -87.71088193], [41.92048753, -87.65344747], [41.86515021, -87.69460123], [41.85519055, -87.6238712], [41.95675911, -87.65273486], [41.69184287, -87.61825478], [41.81224853, -87.66133183], [41.81673094, -87.69568787], [41.84179522, -87.70983978], [41.87177949, -87.71398746], [41.83469081, -87.61370565], [41.84536217, -87.7087188], [41.75543159, -87.56063609], [41.97835911, -87.66967255], [41.7555007, -87.63441848], [41.89666404, -87.62917534], [41.97028143, -87.65765453], [41.85572509, -87.7272688], [41.76206472, -87.56886584], [41.95249762, -87.73244077], [41.8032911, -87.71455578], [41.91143088, -87.74795885], [41.86958421, -87.71963338], [41.89666404, -87.62917534], [41.93148809, -87.750043], [41.87922585, -87.64663642], [41.80263529, -87.66603521], [41.77539632, -87.66287882], [41.91913772, -87.71465775], [41.6897912, -87.62909647], [41.76660695, -87.62014138], [41.89837134, -87.62522266], [41.75373766, -87.65018925], [41.77825534, -87.60465433], [41.84281917, -87.64639828], [41.89702176, -87.62978114], [41.77825534, -87.60465433], [41.85491725, -87.65633742], [41.77271904, -87.5764745], [41.89670237, -87.76209136], [41.93575564, -87.69589287], [41.86729348, -87.71160399], [41.85519055, -87.6238712], [41.89132288, -87.75372137], [41.85034611, -87.67680032], [41.9862937, -87.65809949], [41.7711039, -87.61822197], [41.93757969, -87.83434885], [41.78345318, -87.70204554], [41.88415232, -87.67293258], [41.8615174, -87.66245348], [41.7711039, -87.61822197], [41.84269583, -87.61721984], [41.89236432, -87.63600254], [41.88889807, -87.71245593], [41.79655702, -87.69754185], [41.8990483, -87.72307228], [41.77501422, -87.68719265], [41.90931588, -87.68965342], [41.79841738, -87.61859687], [41.85954501, -87.65093275], [41.79473381, -87.62024403], [41.75177175, -87.56324531], [41.85731153, -87.65376831], [41.90898774, -87.63221036], [41.80410122, -87.66094017], [41.75440065, -87.55063593], [41.80075754, -87.65747261], [42.00996802, -87.66234558], [41.78406702, -87.60540618], [41.97418701, -87.65635555], [41.80837326, -87.62118952], [41.949854, -87.66288081], [41.74696629, -87.60142439], [41.82175634, -87.60185735], [41.84766454, -87.70268089], [41.81258389, -87.59567805], [41.79513022, -87.64886972], [41.77787397, -87.61556573], [41.871089, -87.73647521], [41.73209621, -87.66468118], [41.96926243, -87.7420352], [41.7521905, -87.66240573], [41.7658855, -87.63222741], [41.86434173, -87.71536252], [41.88681656, -87.63167795], [41.88628078, -87.76175086], [41.93621094, -87.76150737], [41.80388101, -87.61900195], [41.7783996, -87.69337302], [41.76744941, -87.57388984], [41.79434769, -87.6234791], [41.77923279, -87.68534647], [41.85581018, -87.72727167], [41.97425886, -87.72456132], [41.93520362, -87.74517251], [41.77019118, -87.6417153], [41.9584742, -87.65087832], [41.99887264, -87.66553036], [42.0211262, -87.66711557], [41.75320841, -87.73017288], [41.80859869, -87.60896525], [41.9023882, -87.71898507], [41.99159517, -87.70793855], [41.87710731, -87.68633786], [41.88838341, -87.64755932], [41.87591176, -87.7108375], [41.87926823, -87.74364405], [41.75986929, -87.56434337], [41.76652936, -87.68242086], [41.8643023, -87.72805421], [41.96464293, -87.7234836], [41.98207598, -87.76836113], [41.75449139, -87.57605099], [41.7688712, -87.57392806], [41.80230783, -87.66966957], [41.86289733, -87.71112528], [41.90619481, -87.73306251], [41.75274734, -87.56140491], [41.85150166, -87.72778583], [41.81541834, -87.70299366], [41.77314788, -87.60503474], [41.96161898, -87.72662298], [41.75644712, -87.56147419], [41.67434093, -87.61672085], [41.92505969, -87.73536244], [41.96729694, -87.65367436], [41.69097541, -87.53407635], [41.97692069, -87.65783075], [41.94806847, -87.64312638], [41.94142498, -87.75766756], [41.77591916, -87.61192139], [41.86014483, -87.72133886], [41.78672656, -87.62388219], [42.00376717, -87.67054911], [41.93570703, -87.70349384], [41.77447837, -87.59293638], [41.87597105, -87.74125093], [41.75600731, -87.65067095], [41.76182877, -87.62763858], [41.77274407, -87.57402901], [41.75126853, -87.60604805], [41.7207354, -87.53891278], [41.89926911, -87.69850387], [41.91590799, -87.73384227], [41.82636308, -87.63297685], [41.76958146, -87.66152072], [41.93076771, -87.73536793], [41.8921658, -87.68308241], [41.93860407, -87.82143633], [41.92494858, -87.68408353], [41.84986813, -87.71173238], [41.79358397, -87.67113476], [41.80040382, -87.66597034], [41.77724747, -87.6964201], [42.00925828, -87.70922266], [41.9733392, -87.65313205], [41.74603004, -87.65362026], [41.98546806, -87.69559215], [41.76870453, -87.61412835], [41.89381521, -87.77375278], [41.79638763, -87.73550386], [41.84644018, -87.69614166], [41.88635374, -87.62069138], [41.8887783, -87.63251219], [41.78012899, -87.68611105], [41.70110453, -87.62216194], [41.80365357, -87.60377245], [41.88087088, -87.76320917], [41.78126068, -87.62222655], [41.77601854, -87.61552043], [41.9543851, -87.72763642], [41.75591365, -87.65757314], [41.74859618, -87.60268115], [41.87966198, -87.73382866], [41.78213298, -87.70201083], [41.75514487, -87.58405489], [41.79381249, -87.6871689], [41.90626246, -87.72765435], [41.86000405, -87.71401667], [41.89266778, -87.61621016], [41.87525309, -87.7267245], [41.73876978, -87.67407614], [41.70375603, -87.53649249], [41.84534279, -87.72091842], [42.00883022, -87.68496798], [41.86634674, -87.77293137], [41.83375954, -87.65225251], [41.87741035, -87.65701071], [41.90299923, -87.68877648], [41.96643056, -87.65103242], [41.88496366, -87.6497883], [41.78449598, -87.69905068], [41.90111288, -87.75452178], [41.97303502, -87.65089206], [41.76952857, -87.66515772], [41.90111288, -87.75452178], [41.72709677, -87.6030347], [41.87183446, -87.70944146], [41.77401218, -87.61065965], [41.97051898, -87.76479334], [41.79735063, -87.60387695], [41.99957328, -87.6882369], [41.85844782, -87.71397295], [41.92386948, -87.69622065], [41.95929316, -87.77332], [41.78033202, -87.68367086], [41.76807056, -87.65055407], [41.77253239, -87.57646936], [41.91190998, -87.70918361], [41.98132321, -87.69341941], [41.77796137, -87.59301364], [41.9100415, -87.71279113], [41.68637745, -87.61318618], [41.97059982, -87.72076075], [41.82426619, -87.63248239], [41.7834525, -87.58789062], [41.90118413, -87.73364575], [41.76348261, -87.63782868], [41.90556106, -87.68465103], [41.97588383, -87.69040676], [41.93079073, -87.8031789], [41.91839234, -87.68743848], [41.88325423, -87.73488574], [41.74078614, -87.64861538], [41.97707531, -87.84153942], [41.98277774, -87.65659189], [41.94103187, -87.7178571], [41.81258389, -87.59567805], [41.87772609, -87.62873702], [41.79920435, -87.5840443], [41.75450785, -87.5760508], [41.81505686, -87.6883017], [41.79811728, -87.69880635], [41.80226773, -87.69159149], [41.74494062, -87.660158], [42.02157919, -87.67189513], [41.77284345, -87.56832728], [41.74696629, -87.60142439], [41.74696629, -87.60142439], [41.9026809, -87.72551355], [41.90684421, -87.75588069], [42.00996802, -87.66234558], [41.65857823, -87.54836474], [41.76312342, -87.5762354], [41.89362301, -87.76534725], [41.78213298, -87.70201083], [41.75102823, -87.57109303], [41.89113107, -87.68548385], [41.73601439, -87.64779773], [41.96431322, -87.66100108], [41.90446147, -87.63293948], [41.97265105, -87.72203554], [41.77270562, -87.5740258], [41.77542973, -87.64075349], [41.73415751, -87.58928891], [41.97265105, -87.72203554], [41.87847801, -87.65703617], [41.74624234, -87.66454541], [41.80675822, -87.60650648], [41.76128785, -87.61518981], [41.90895381, -87.72284936], [41.80612449, -87.65639287], [41.72893612, -87.63132145], [41.99993544, -87.68142346], [41.88587446, -87.62528356], [41.74780136, -87.66458786], [41.96245707, -87.6547553], [41.81135407, -87.66748902], [41.81596885, -87.61977374], [41.85662359, -87.66372699], [41.89729745, -87.6399158], [41.8230146, -87.61996701], [41.9334458, -87.74007651], [41.72804261, -87.60461391], [41.80878533, -87.60897048], [41.77238569, -87.59014868], [41.65438658, -87.6036005], [41.83554126, -87.66924194], [41.91978078, -87.73030435], [42.00996802, -87.66234558], [41.74708539, -87.55280622], [41.93664996, -87.65885498], [41.70399593, -87.56445653], [42.01158602, -87.66451428], [41.67859363, -87.62052829], [41.75559233, -87.6368547], [41.72445717, -87.61179036], [41.88376011, -87.74784426], [41.91864645, -87.77066259], [41.91024918, -87.76677228], [42.01714195, -87.67765242], [41.92101142, -87.76831221], [41.86466343, -87.71293275], [41.77542973, -87.64075349], [41.87594643, -87.7433992], [41.96649063, -87.72157965], [41.86327875, -87.73119901], [41.72819243, -87.60098543], [41.76800351, -87.66387589], [41.81111077, -87.68784609], [41.80841808, -87.61956777], [41.80977793, -87.67350997], [41.96374769, -87.7156677], [41.90144625, -87.72504406], [41.80705286, -87.72109249], [41.69259636, -87.66927907], [41.88681234, -87.62517772], [41.76797654, -87.64812838], [41.74789899, -87.66580348], [41.76800351, -87.66387589], [41.76667667, -87.63596871], [41.74683316, -87.65531577], [41.96897015, -87.66334964], [41.7412787, -87.60077447], [41.76708984, -87.57387942], [41.73962209, -87.63802759], [41.88300749, -87.7718861], [41.9072215, -87.69447224], [41.90154333, -87.66641693], [41.92594912, -87.75743188], [41.79832738, -87.69759403], [41.83045064, -87.66971653], [41.87981407, -87.72155882], [41.87851576, -87.75160821], [41.88302552, -87.76495271], [41.79473127, -87.62027706], [41.8849166, -87.76334948], [41.78151751, -87.61323356], [41.7697067, -87.58541042], [41.85253411, -87.72842211], [41.79221051, -87.62402341], [41.86562, -87.70313958], [41.75292296, -87.61602702], [41.85998762, -87.72377053], [41.7720271, -87.59113895], [41.94157229, -87.66529057], [41.82464283, -87.69324659], [41.95314029, -87.76988506], [41.90810056, -87.73382716], [41.93409142, -87.76021059], [41.9703078, -87.70431143], [41.81448971, -87.60447853], [41.88173451, -87.75155698], [41.7449779, -87.65762553], [41.88144179, -87.66783781], [41.75491339, -87.55218363], [41.92594912, -87.75743188], [41.74518661, -87.60379713], [41.87796731, -87.70481021], [41.76818239, -87.64813352], [41.7529526, -87.55846693], [41.76544878, -87.58475609], [41.89891092, -87.67103945], [41.84394669, -87.70379638], [41.98367081, -87.65726287], [41.89384038, -87.75556076], [41.80991458, -87.66865203], [41.7451168, -87.60015919], [41.78655395, -87.64375784], [41.78663238, -87.62063816], [41.87978301, -87.77301228], [42.02011466, -87.66824489], [41.69227398, -87.61214648], [41.87756569, -87.68489383], [41.76260081, -87.56818505], [41.97889593, -87.69415352], [41.77693141, -87.59033083], [41.82661506, -87.61118008], [41.76922254, -87.57393858], [41.80394839, -87.66484791], [41.98546806, -87.69559215], [41.77596364, -87.61551737], [41.86878023, -87.62745848], [41.77238748, -87.59000202], [41.91150743, -87.77772774], [41.75150324, -87.58406426], [41.90715332, -87.63968057], [41.7477541, -87.65002548], [41.98085374, -87.6579363], [41.92924166, -87.64470746], [41.92441974, -87.73210534], [41.99481219, -87.68241748], [41.74773489, -87.65002569], [41.77864604, -87.6714791], [41.76001959, -87.57125052], [41.94463171, -87.7947312], [41.78757826, -87.64984476], [41.98222622, -87.69542221], [41.8121804, -87.61823113], [41.85266143, -87.71624578], [41.99868452, -87.67716502], [41.89739743, -87.75566093], [41.83366747, -87.68519033], [41.82636308, -87.63297685], [41.80854435, -87.6138553], [41.89036711, -87.62667363], [41.9012464, -87.71894827], [41.90112392, -87.69498484], [41.80518847, -87.62273225], [41.86703942, -87.72826336], [41.8228175, -87.69317672], [41.94832138, -87.71801857], [41.8069634, -87.72232943], [41.83474882, -87.71456844], [41.87957532, -87.71235523], [41.90857495, -87.63562409], [41.8095154, -87.66985928], [41.86020106, -87.71645963], [41.79299402, -87.67305506], [41.74816769, -87.65731357], [41.87470967, -87.68502551], [42.00041323, -87.67045515], [41.74305334, -87.6114686], [41.95879489, -87.75583104], [41.97928097, -87.78447618], [41.812412, -87.60443239], [41.79015753, -87.64748151], [41.96386131, -87.71689469], [41.74580706, -87.60426649], [41.76678817, -87.57142335], [41.76274828, -87.63214793], [41.87978264, -87.72390558], [41.89981954, -87.6918756], [41.94918347, -87.71401073], [41.8527795, -87.7101589], [41.81934732, -87.61585117], [41.78474033, -87.6222101], [41.79059851, -87.6207409], [41.98298542, -87.71531629], [41.756874, -87.55762444], [41.90209901, -87.63479463], [42.01158602, -87.66451428], [41.93501653, -87.80908678], [41.89022224, -87.76521578], [41.89328168, -87.62759645], [41.96067735, -87.64988048], [41.81437718, -87.60447613], [41.9100068, -87.71551743], [41.95417639, -87.71985558], [41.75167119, -87.57079957], [41.7618533, -87.69173044], [41.89928509, -87.69593982], [41.73666405, -87.55141557], [41.87674863, -87.74786053], [41.78282724, -87.62215791], [41.76802259, -87.57217487], [41.90209473, -87.63499303], [41.96435164, -87.66100068], [41.95118788, -87.65034213], [41.7466851, -87.60511037], [41.77281236, -87.57647707], [41.9441648, -87.68090388], [41.87962157, -87.6962491], [41.8926526, -87.70646961], [41.74808142, -87.56705291], [41.89274592, -87.70647237], [41.90345329, -87.7610063], [41.78162165, -87.608411], [41.80010071, -87.62098038], [41.85262974, -87.7205773], [41.78289679, -87.61568937], [41.74934346, -87.61193317], [41.89342753, -87.61922809], [41.89616199, -87.72733842], [41.97076537, -87.66109136], [41.76629111, -87.56191338], [41.88560703, -87.77259783], [41.75722987, -87.63446203], [41.86250106, -87.70638241], [41.89107235, -87.61648509], [41.83791979, -87.71583697], [41.80493169, -87.61673825], [41.84738672, -87.71365391], [41.74402514, -87.55639767], [41.86180477, -87.72748672], [41.80764926, -87.67223336], [41.80811331, -87.65765939], [41.68565807, -87.66869876], [41.8809622, -87.70698782], [41.77168612, -87.57091815], [41.99239956, -87.67847292], [41.98996595, -87.66616787], [41.88210227, -87.68495446], [41.88210227, -87.68495446], [41.78261839, -87.70244972], [41.75463832, -87.56265398], [41.78131585, -87.615652], [41.81499747, -87.66636911], [41.77168612, -87.57091815], [41.93705252, -87.72554011], [41.77374887, -87.68666278], [41.80102609, -87.69186428], [41.76578358, -87.66627059], [41.77556666, -87.68685349], [41.87418615, -87.73890647], [41.95388599, -87.71077048], [41.76264267, -87.56458882], [41.86694152, -87.71299884], [41.75629611, -87.58342578], [41.87689175, -87.74151783], [41.87632691, -87.74267601], [41.80617233, -87.6697654], [41.97586295, -87.83911785], [41.880194, -87.6651481], [41.75808248, -87.56635486], [41.92485376, -87.69260602], [41.79310605, -87.66821331], [41.88636993, -87.70979584], [41.91002662, -87.77399329], [41.86990137, -87.71838937], [41.77450719, -87.60214884], [41.94717642, -87.65739496], [41.92233562, -87.77931674], [41.85172774, -87.70851373], [41.87002813, -87.70882386], [41.8085009, -87.61656276], [41.76665566, -87.63838824], [41.99134938, -87.65685055], [41.91189174, -87.77154855], [41.99134938, -87.65685055], [41.98367081, -87.65726287], [41.75402747, -87.66117352], [41.74487094, -87.60378605], [41.88573061, -87.62554222], [41.82459127, -87.69581902], [41.90386645, -87.69074407], [41.87691301, -87.73978816], [41.75260168, -87.58333318], [41.87725876, -87.71227852], [41.9580984, -87.75977126], [41.89820476, -87.72494259], [41.86003231, -87.72133626], [41.74953183, -87.65735057], [41.90453686, -87.63450356], [41.76786939, -87.58730859], [41.85574981, -87.72727224], [41.76480209, -87.57694143], [41.74679732, -87.65761744], [41.8774702, -87.67822288], [41.73303621, -87.55547864], [42.00562954, -87.68189147], [41.80658276, -87.62276453], [41.87716006, -87.76475132], [41.79051708, -87.61911734], [41.77349679, -87.66893651], [41.84325758, -87.63989405], [41.87855709, -87.7483985], [41.88229321, -87.76116579], [41.93438663, -87.69103318], [41.76472968, -87.64439846], [41.9323992, -87.7500494], [41.70182952, -87.68147718], [41.81925884, -87.62147981], [41.75171416, -87.64040747], [41.77810527, -87.70067915], [41.76817784, -87.64324719], [41.70736962, -87.53166133], [41.9444437, -87.75932759], [41.98055458, -87.65792843], [41.70961515, -87.62356972], [41.7692999, -87.56822642], [41.89547044, -87.71549226], [42.01421603, -87.66422914], [41.79848802, -87.66592053], [41.88233138, -87.75836721], [41.87695484, -87.73621133], [41.89927978, -87.6974569], [41.87695267, -87.69007375], [41.78148116, -87.61444023], [41.78188541, -87.59467341], [41.76698814, -87.57510127], [41.75718448, -87.6405612], [41.87619437, -87.72413428], [41.99139587, -87.65542649], [41.97490037, -87.69022174], [41.70578503, -87.66870392], [41.67443174, -87.61632086], [41.89895481, -87.74834829], [41.9532166, -87.71844573], [41.75986929, -87.56434337], [41.73645017, -87.54581608], [41.79310257, -87.65727433], [41.93943357, -87.69108913], [41.81231216, -87.618237], [41.85101946, -87.7064505], [41.9065191, -87.75835963], [41.78067402, -87.66909341], [41.97377831, -87.84189943], [41.88285225, -87.76821153], [41.92297174, -87.79888928], [41.87978081, -87.72407818], [41.96672051, -87.69673152], [41.88285803, -87.76659936], [41.89375937, -87.75800763], [41.77912527, -87.7678766], [41.71281498, -87.53648683], [41.74421676, -87.66449681], [41.90954329, -87.75236994], [41.88307898, -87.65127729], [41.85350583, -87.69549893], [41.82965153, -87.6144519], [41.89362301, -87.76534725], [41.88302546, -87.77331813], [41.87750248, -87.64252026], [41.76154001, -87.61032679], [41.97377831, -87.84189943], [41.89880393, -87.68938066], [41.75121488, -87.57109815], [41.78015035, -87.6982979], [41.72631123, -87.6567185], [41.97098679, -87.70854469], [41.72929138, -87.6310758], [41.75450785, -87.5760508], [41.92062601, -87.74298049], [41.73321353, -87.66663701], [41.97077536, -87.69259096], [41.72929138, -87.6310758], [41.88194441, -87.73420392], [41.79942665, -87.59934974], [41.88482857, -87.74910882], [41.87646182, -87.66044658], [41.75113362, -87.55894689], [41.65438165, -87.60368838], [41.7687411, -87.59054632], [42.00055586, -87.67330123], [41.82219993, -87.6021348], [41.98543341, -87.6630189], [41.96690311, -87.76499463], [41.6573235, -87.60627165], [41.86810754, -87.63277839], [41.97303502, -87.65089206], [41.75056351, -87.5978984], [41.90715332, -87.63968057], [41.82261447, -87.7031102], [41.97722513, -87.65501044], [41.89701226, -87.63271602], [41.79229374, -87.61753178], [41.69564696, -87.61832615], [41.82833596, -87.69116243], [41.90261354, -87.69687282], [41.78169576, -87.60841383], [41.77813885, -87.69336461], [41.80986306, -87.63273845], [41.74409049, -87.54304411], [41.75529484, -87.63441338], [41.84203675, -87.70984478], [41.91870717, -87.77919748], [41.80603724, -87.65882191], [42.01569267, -87.68047874], [42.02025525, -87.67072753], [41.79477292, -87.68084431], [41.86298411, -87.70388501], [41.78487569, -87.58814546], [41.74268429, -87.69074508], [41.75659795, -87.6143295], [41.96905968, -87.7170505], [41.96557197, -87.7222172], [41.77193522, -87.68623375], [41.97040489, -87.65625218], [41.76837243, -87.61412106], [41.85618825, -87.65315618], [42.02117342, -87.67338982], [41.73209621, -87.66468118], [41.76969056, -87.58714819], [41.76528604, -87.57708604], [41.75571637, -87.60898113], [41.77800895, -87.59614407], [41.81243121, -87.60443217], [41.98194214, -87.71370073], [41.7809464, -87.62199537], [41.947942, -87.71076583], [41.84697419, -87.682241], [41.86453663, -87.70877818], [41.86453663, -87.70877818], [41.76317863, -87.6103707], [41.9004248, -87.64246793], [41.87378825, -87.69691654], [41.79954532, -87.61772247], [41.75069046, -87.60274169], [41.90457843, -87.71495629], [41.96831937, -87.76504456], [41.79472944, -87.62042377], [41.77615028, -87.61552262], [41.85406834, -87.72482147], [41.98091941, -87.65511099], [41.90531972, -87.72998126], [41.90050637, -87.74694196], [41.95626846, -87.73092373], [41.9354396, -87.65001035], [41.99498787, -87.68242673], [41.7676459, -87.65903726], [41.79980985, -87.74295011], [41.75468389, -87.58448538], [41.87661908, -87.75806592], [41.85215711, -87.63309195], [41.74375564, -87.54303722], [41.77527305, -87.76469892], [41.87939193, -87.75392834], [41.78561084, -87.69967036], [41.8171222, -87.61680781], [41.76020036, -87.57492828], [41.88537261, -87.7080685], [41.89859066, -87.75501472], [41.77497534, -87.7795969], [41.6961347, -87.63111073], [41.75634965, -87.5527343], [41.82111765, -87.6097707], [41.74697125, -87.60263361], [41.80240044, -87.67575325], [41.76949036, -87.68337336], [41.76104193, -87.63089832], [41.80583902, -87.66246249], [41.86556857, -87.70930047], [41.88360511, -87.70752754], [41.78177622, -87.59947407], [41.84513763, -87.72673014], [41.83970727, -87.72320706], [41.87610739, -87.73105657], [41.77907344, -87.61560001], [41.92088044, -87.75850998], [41.91931957, -87.72662333], [41.77471776, -87.68962256], [41.94503885, -87.7077799], [41.7692807, -87.56822665], [41.78264236, -87.63632005], [41.84986813, -87.71173238], [41.77119856, -87.66399297], [41.94503885, -87.7077799], [41.76941777, -87.56985628], [41.75680076, -87.65026671], [41.75269086, -87.57600985], [41.88290423, -87.76985258], [41.74669243, -87.66502079], [41.90000158, -87.72378316], [41.80239615, -87.5942435], [41.74851212, -87.60025615], [41.81749397, -87.62142965], [41.97856769, -87.69730863], [41.90282149, -87.70774768], [41.90047896, -87.74964206], [41.75740583, -87.64177196], [41.88952563, -87.75540132], [41.91213075, -87.68757141], [41.93959856, -87.75791186], [41.77868024, -87.64599065], [41.75450785, -87.5760508], [41.79149364, -87.6693741], [41.89677401, -87.64094257], [41.85183299, -87.7006689], [41.8104162, -87.62449019], [41.87504316, -87.74331938], [41.87528806, -87.72399968], [41.95997067, -87.70086879], [41.7809464, -87.62199537], [41.85588212, -87.73365803], [41.90619481, -87.73306251], [41.90368488, -87.64519889], [41.89328576, -87.65653841], [41.71583472, -87.64952126], [41.83069725, -87.61447689], [41.77287567, -87.69689227], [41.85607878, -87.71997174], [41.78584811, -87.60758238], [41.78567601, -87.68869529], [41.80239615, -87.5942435], [41.84919737, -87.69353039], [41.7809464, -87.62199537], [41.94042395, -87.76495049], [41.92280518, -87.7143651], [41.96528242, -87.71938134], [41.91784434, -87.75340428], [41.85981528, -87.62397793], [41.76503321, -87.59945964], [41.74942814, -87.66826859], [41.9581365, -87.68154817], [41.75674621, -87.60605584], [42.00663614, -87.66887466], [41.87519639, -87.73107247], [41.96761206, -87.77808623], [41.80089668, -87.59920827], [41.76546085, -87.58365996], [41.95156542, -87.74800718], [41.81114936, -87.6854394], [41.8133552, -87.66995538], [41.77703483, -87.65078895], [41.75676539, -87.56269084], [41.93998506, -87.75673222], [41.86028017, -87.71280626], [41.99268056, -87.70068853], [41.78584811, -87.60758238], [41.87504131, -87.74349197], [41.92494902, -87.68416069], [41.87632691, -87.74267601], [41.81188274, -87.70783733], [41.79974123, -87.74294707], [41.76206056, -87.68806669], [41.94154684, -87.7481172], [41.81917958, -87.62775766], [41.84919737, -87.69353039], [41.9405184, -87.65776668], [41.88191366, -87.73673068], [41.8860127, -87.72092679], [41.91779649, -87.69720698], [41.87290396, -87.63359254], [41.90682774, -87.75588083], [41.75836562, -87.56150984], [41.92167252, -87.69940623], [41.73591138, -87.65494703], [41.88285803, -87.76659936], [41.90590045, -87.71177691], [41.76987753, -87.56924964], [41.90663298, -87.73131711], [41.67851361, -87.62267428], [41.77216931, -87.66575352], [41.86009453, -87.70792569], [41.80130794, -87.58469096], [42.01854499, -87.69383758], [41.76651359, -87.64808896], [41.84916133, -87.69642664], [41.85519055, -87.6238712], [41.95114678, -87.70916492], [41.82634032, -87.67029465], [41.94591731, -87.72004504], [41.73870907, -87.65098609], [41.96741345, -87.7145549], [41.96741345, -87.7145549], [41.73330075, -87.54436709], [41.76893868, -87.59522885], [41.75303118, -87.60965267], [41.9032402, -87.67418324], [41.80065516, -87.60394216], [41.86370984, -87.71778423], [41.98543341, -87.6630189], [41.89817672, -87.7176223], [41.85144726, -87.73153388], [41.90527699, -87.7509392], [41.74526501, -87.60016117], [41.93324799, -87.75509499], [41.77479227, -87.61514916], [41.9341908, -87.72460071], [41.99139587, -87.65542649], [41.67320797, -87.61767411], [41.7385385, -87.55022035], [41.94680911, -87.68264136], [41.78299076, -87.61447837], [41.94321028, -87.67905738], [41.89368501, -87.71060986], [41.93580351, -87.74549409], [41.71461219, -87.56218371], [41.7984508, -87.61691315], [41.86774595, -87.70448813], [41.88480954, -87.76334309], [41.90166641, -87.74840436], [41.79359029, -87.69950009], [41.78120331, -87.61564959], [41.92370878, -87.78353065], [41.88457397, -87.73484038], [41.70736962, -87.53166133], [41.98935064, -87.69206263], [41.77730987, -87.64080292], [41.85833088, -87.71518913], [41.9904025, -87.65822528], [41.77764942, -87.60951895], [41.76989329, -87.65667128], [41.79036878, -87.6661111], [41.80034619, -87.66597094], [41.75324301, -87.6570331], [41.87385276, -87.76244173], [41.82312577, -87.60272595], [41.93990196, -87.73829285], [41.77177979, -87.69623224], [41.78059717, -87.66909054], [42.01856391, -87.66583222], [41.9764962, -87.83452327], [41.9017292, -87.72873675], [41.89785493, -87.72005332], [41.90606842, -87.62737114], [41.96234, -87.66097771], [41.84554934, -87.71848683], [41.85024294, -87.68375308], [41.99038878, -87.65822542], [41.87279297, -87.70454881], [41.77052973, -87.62343383], [41.87973209, -87.66925461], [41.72264582, -87.63216651], [41.7591454, -87.65274884], [41.97924109, -87.84040102], [41.88093395, -87.7093603], [42.00842557, -87.6618393], [41.77346156, -87.57587921], [41.88044331, -87.74965919], [41.77497534, -87.7795969], [41.78943764, -87.68757586], [41.72807566, -87.62883604], [41.78837711, -87.62230558], [41.882362, -87.73798608], [41.96525285, -87.71693643], [41.92442018, -87.73218985], [41.77800895, -87.59614407], [41.78499545, -87.61206898], [41.96729694, -87.65367436], [41.76503321, -87.59945964], [41.74498778, -87.60015333], [41.89953144, -87.72620827], [41.93834635, -87.78407387], [41.88559097, -87.77380619], [41.84015087, -87.65316825], [41.79908333, -87.64771275], [41.89282769, -87.77383486], [41.92303979, -87.75734413], [42.00259061, -87.66687852], [42.02117399, -87.67348918], [41.97521362, -87.83745326], [41.90271805, -87.72062759], [41.89266778, -87.61621016], [41.79677416, -87.69266215], [41.75310285, -87.55027056], [41.72925029, -87.63288601], [41.76469494, -87.56452034], [42.01252322, -87.68097479], [41.81306934, -87.69803153], [41.85833088, -87.71518913], [41.77142955, -87.68464784], [41.92019797, -87.73398584], [41.84603509, -87.72830716], [41.76949036, -87.68337336], [41.78187455, -87.65941618], [41.80881783, -87.59681799], [41.75401031, -87.60651552], [41.89635174, -87.69548782], [41.77703899, -87.63866477], [41.69932315, -87.622112], [41.97160425, -87.75407525], [41.87854766, -87.687245], [41.85069523, -87.69541307], [41.78899997, -87.70465329], [41.98569037, -87.69559729], [41.97160425, -87.75407525], [41.86364823, -87.72631658], [41.73188227, -87.55325775], [41.87513113, -87.73644494], [41.73677915, -87.65457883], [41.78502763, -87.6189766], [41.77615028, -87.61552262], [41.77515045, -87.66166058], [41.7809464, -87.62199537], [41.74872302, -87.61364782], [42.01848129, -87.68298945], [41.91178738, -87.77773633], [41.86167006, -87.714063], [41.88120574, -87.76322089], [41.7724091, -87.58783154], [41.79651378, -87.70364103], [41.82497726, -87.60821564], [41.73003064, -87.55499102], [41.75222812, -87.59429158], [41.7690002, -87.5739302], [41.84381529, -87.71598947], [42.01731715, -87.6804658], [41.89152559, -87.670462], [41.87765289, -87.74813502], [41.96655438, -87.71605978], [41.78170211, -87.59947125], [41.75672427, -87.60736085], [41.87700562, -87.68875133], [41.77832877, -87.70189782], [41.77082378, -87.58501253], [41.83517843, -87.67294824], [41.87746989, -87.76248298], [41.89264958, -87.62968221], [41.947942, -87.71076583], [41.89014813, -87.76521277], [41.93980774, -87.71986835], [41.81326591, -87.63227952], [41.96026414, -87.7834408], [41.91349449, -87.67021269], [41.99679284, -87.66416888], [41.74766815, -87.65730049], [41.92798436, -87.80517552], [41.77804107, -87.76228773], [41.96068502, -87.75081731], [41.86361729, -87.73243668], [41.86009453, -87.70792569], [41.86209513, -87.65755025], [41.76740918, -87.62116987], [41.90094744, -87.76925318], [41.79088248, -87.63210176], [41.92137256, -87.73768973], [41.86337575, -87.65645745], [41.87392849, -87.75618074], [41.74582913, -87.60212621], [41.89132288, -87.75372137], [41.86409643, -87.71414605], [41.76514115, -87.64849944], [42.01814451, -87.66969695], [41.79765243, -87.62091948], [41.86168161, -87.71162899], [41.81237358, -87.60443282], [41.84059931, -87.63416112], [41.89567118, -87.62881895], [41.98729633, -87.69078482], [41.92440653, -87.79526881], [41.74082766, -87.65469009], [41.77481229, -87.69328037], [41.77712815, -87.65079163], [41.76651359, -87.64808896], [42.01538808, -87.68048185], [41.7809464, -87.62199537], [41.97100601, -87.70854818], [41.99859476, -87.68746685], [41.94442173, -87.65794602], [41.93991589, -87.82516018], [41.79227829, -87.62078464], [41.92515695, -87.71334286], [41.78210992, -87.61273929], [41.90206262, -87.77113881], [41.8160834, -87.61833445], [41.7690002, -87.5739302], [41.92209928, -87.78784364], [41.86010615, -87.71158185], [41.93202333, -87.70834075], [41.90192435, -87.71897115], [41.74578283, -87.66575211], [41.89928509, -87.69593982], [41.76522974, -87.57812404], [41.84603509, -87.72830716], [41.79374015, -87.65882984], [41.81302034, -87.66994417], [41.81762669, -87.61982137], [41.7863185, -87.69910605], [41.89949004, -87.61886669], [41.82492161, -87.60896473], [41.77785071, -87.77210766], [41.87978053, -87.7713819], [41.90708641, -87.72157036], [41.91944198, -87.71357455], [41.89081276, -87.71129517], [41.78464701, -87.62220746], [41.81224459, -87.60443062], [41.76202649, -87.57927587], [41.84483713, -87.6342728], [41.91507536, -87.70690055], [41.85019897, -87.62702415], [41.75670895, -87.5600087], [41.87991923, -87.68228856], [41.9071955, -87.69325285], [42.01715648, -87.68164872], [41.9993116, -87.70387871], [41.84555573, -87.69649176], [41.87047503, -87.74352294], [41.99219773, -87.68110146], [41.95177929, -87.65567366], [41.77211329, -87.63871426], [41.93141057, -87.79426179], [41.8977574, -87.72493214], [41.75842028, -87.55496692], [41.82550551, -87.66782671], [41.90018823, -87.77449791], [41.77743381, -87.63498329], [41.89922725, -87.6229542], [41.84752814, -87.72625979], [41.86566271, -87.70442411], [41.89020304, -87.76521595], [41.90086572, -87.72424512], [41.75836562, -87.56150984], [41.86008618, -87.720117], [41.7761514, -87.64165127], [41.77240964, -87.58791585], [41.74335668, -87.60258299], [41.88614849, -87.76996729], [41.75614791, -87.58342384], [41.7844408, -87.70248685], [41.77232781, -87.61865562], [41.8944588, -87.71262245], [41.90268041, -87.72542172], [41.99078075, -87.67372593], [41.77094392, -87.56990417], [41.89393866, -87.76535915], [41.65244056, -87.61796258], [41.83234339, -87.62057529], [41.9742441, -87.69211122], [41.87808569, -87.74155455], [41.85903108, -87.69322314], [41.89795521, -87.66334681], [41.74922339, -87.54800167], [41.76711724, -87.57097225], [41.75941571, -87.58838512], [41.8039851, -87.67213899], [41.77486343, -87.66656512], [41.85597449, -87.71996907], [41.90142145, -87.74718705], [41.7934683, -87.6816203], [41.91981416, -87.73458468], [41.83441273, -87.64535431], [41.78305777, -87.60724353], [41.73115851, -87.60608809], [41.75310665, -87.56383039], [41.8917532, -87.71930001], [41.76434194, -87.575411], [41.87245935, -87.73349943], [41.76196399, -87.58356504], [41.80590975, -87.60512963], [41.76533124, -87.63630218], [41.87516543, -87.73354756], [41.99485359, -87.69467443], [41.87854766, -87.687245], [41.77875382, -87.71648922], [41.89045184, -87.72227634], [41.75397491, -87.55017933], [41.80119924, -87.63316658], [41.77679744, -87.60411357], [41.96435164, -87.66100068], [41.97835911, -87.66967255], [41.69315761, -87.68247644], [41.75945771, -87.55822741], [41.92653767, -87.7648496], [41.76528604, -87.57708604], [41.87588981, -87.71083772], [41.86778617, -87.66026221], [41.76742639, -87.69310086], [41.85273379, -87.70129135], [41.8942312, -87.72237621], [41.96545532, -87.65316812], [41.97578729, -87.75261779], [41.88285803, -87.76659936], [41.78039036, -87.69952011], [41.81567137, -87.62625177], [41.89864498, -87.74947878], [41.76323624, -87.55980204], [41.90316534, -87.62921044], [41.99499644, -87.68734505], [41.76262954, -87.56549799], [41.74456497, -87.55831128], [41.90268041, -87.72542172], [41.89988201, -87.72867703], [41.84638925, -87.70082897], [41.80515278, -87.62272898], [41.76068304, -87.64185773], [41.81305717, -87.6845618], [42.00054616, -87.6692397], [41.97114118, -87.71221682], [41.86160602, -87.72260245], [41.7692999, -87.56822642], [41.71882357, -87.64314179], [41.85822022, -87.72738107], [41.77647174, -87.58631069], [41.90106209, -87.75207215], [41.75255301, -87.57966895], [41.89454876, -87.70896702], [41.75840673, -87.55620957], [41.9368598, -87.75790708], [41.88568485, -87.7496629], [41.96392774, -87.71444891], [41.74596514, -87.66454096], [41.89109231, -87.76579938], [41.81386561, -87.64202699], [41.86390688, -87.70803172], [41.78475493, -87.5881432], [41.88251926, -87.72817241], [41.96273442, -87.65108288], [41.89550709, -87.7568423], [41.78317529, -87.61327001], [41.99458848, -87.65747841], [41.98692676, -87.66546028], [41.94380771, -87.72120474], [41.84828302, -87.67882905], [41.80341202, -87.60376418], [42.0171828, -87.66428268], [41.74700853, -87.55280349], [41.69096054, -87.67210046], [41.88061239, -87.66678151], [41.83030436, -87.68300437], [41.86133518, -87.62569018], [41.87692822, -87.73848449], [41.84723309, -87.72340348], [41.86384789, -87.69333663], [41.89589956, -87.75684979], [41.77755833, -87.61555825], [41.89899508, -87.77405651], [41.76935498, -87.61457564], [41.88002606, -87.65197808], [41.8036812, -87.72958971], [41.76179511, -87.58966978], [41.76562151, -87.61966111], [41.75543132, -87.56059578], [41.89958312, -87.74724794], [41.76629348, -87.56185837], [41.765444, -87.62690618], [42.01265998, -87.67321657], [41.90206262, -87.77113881], [41.77497534, -87.7795969], [41.87597105, -87.74125093], [41.88061239, -87.66678151], [41.8021749, -87.61079807], [41.85582153, -87.6769095], [41.94315645, -87.78626374], [41.74684906, -87.65428955], [41.95842257, -87.65513268], [41.77601754, -87.71644945], [41.76807056, -87.65055407], [41.79319294, -87.66333147], [41.76706256, -87.64123938], [41.96236103, -87.65475632], [41.91638178, -87.71350496], [41.89771233, -87.74955706], [41.75980638, -87.64028743], [41.6948357, -87.68125488], [41.7603944, -87.68313528], [42.01793034, -87.68116609], [41.85124766, -87.6770517], [41.87756569, -87.68489383], [41.81125242, -87.69551845], [41.69866071, -87.56196053], [41.87695523, -87.73628476], [41.75182522, -87.65255864], [41.80407625, -87.6660716], [41.96902143, -87.73052044], [41.88061239, -87.66678151], [41.74821589, -87.68715362], [41.88061239, -87.66678151], [41.92482572, -87.77331652], [41.76159467, -87.57704141], [41.89680703, -87.70040151], [41.84986813, -87.71173238], [41.79733595, -87.59813037], [41.77615028, -87.61552262], [41.86819959, -87.62853691], [41.89393866, -87.76535915], [41.73503388, -87.54578209], [41.88457616, -87.73473386], [41.80661281, -87.68296526], [41.85830746, -87.72003488], [41.8561864, -87.64181735], [41.76845624, -87.59105547], [42.02252504, -87.67221655], [41.84110344, -87.62685262], [41.94282577, -87.75682057], [41.78463053, -87.62220398], [41.74888385, -87.60390186], [41.97425886, -87.72456132], [41.80186422, -87.59346108], [41.78523116, -87.72539216], [41.79528976, -87.64114481], [41.88122431, -87.66441395], [41.77437023, -87.6082507], [41.77680352, -87.70550932], [41.93999151, -87.72812551], [41.92655078, -87.76361844], [41.85124766, -87.6770517], [41.81437718, -87.60447613], [41.78311636, -87.61569426], [41.86010615, -87.71158185], [41.85316822, -87.73211605], [41.83069725, -87.61447689], [41.81759301, -87.61837635], [41.85519055, -87.6238712], [41.76560805, -87.69182866], [41.77601854, -87.61552043], [41.76562099, -87.6195768], [41.76531811, -87.58365429], [41.744514, -87.56215579], [41.90843054, -87.63850953], [41.81378808, -87.69107666], [41.86390688, -87.70803172], [41.9168068, -87.65332487], [41.80663604, -87.61808372], [41.77151665, -87.58521343], [41.85995941, -87.64358647], [41.7568733, -87.55549139], [41.83797212, -87.65181152], [41.7568733, -87.55549139], [41.97843566, -87.70874771], [41.72746426, -87.54686366], [41.73645017, -87.54581608], [41.88465045, -87.7650191], [41.86453663, -87.70877818], [41.86284846, -87.71579908], [41.75842028, -87.55496692], [41.88108866, -87.72076449], [41.76916816, -87.56822432], [41.75217488, -87.55182471], [41.90182232, -87.63307118], [41.88319604, -87.73953538], [41.69016204, -87.6496065], [41.93972075, -87.66684626], [41.93186019, -87.72135941], [41.7610737, -87.64065132], [41.7807214, -87.64086521], [41.94716659, -87.70293994], [41.77905969, -87.6155965], [41.81150781, -87.6456068], [41.91166182, -87.77279234], [41.85783427, -87.73332043], [42.01753207, -87.66819085], [41.96604791, -87.66106006], [41.87180944, -87.71140602], [41.77655903, -87.69698417], [41.90942904, -87.76131662], [41.89710003, -87.73141767], [41.91608856, -87.66939589], [41.87046297, -87.72026015], [41.88222405, -87.7660321], [41.74810658, -87.63787741], [41.9206013, -87.67103567], [41.88291303, -87.66129696], [41.75420115, -87.64967857], [41.75138565, -87.56501267], [41.77196482, -87.68418421], [41.98608785, -87.65809431], [41.86697714, -87.62254404], [42.02156013, -87.66670254], [41.84784193, -87.69851708], [41.77759813, -87.72517462], [41.75156694, -87.57911978], [41.8092705, -87.6238279], [41.74678209, -87.61484946], [41.749288, -87.57228263], [41.72193855, -87.57899016], [41.74963248, -87.66706448], [41.79058841, -87.62398629], [41.87076413, -87.72167082], [41.96785255, -87.66275831], [41.79847779, -87.70247756], [41.97246707, -87.84652465], [41.82176974, -87.70020916], [41.86694407, -87.65985985], [41.97584826, -87.69484964], [41.86347239, -87.72265444], [41.76511008, -87.61685532], [41.98443824, -87.65663683], [41.75815437, -87.59321568], [41.70757132, -87.55501295], [41.95912345, -87.65346341], [41.93123536, -87.76921425], [41.72298661, -87.61054303], [41.75088078, -87.56379467], [41.8567346, -87.67725623], [41.91243509, -87.72885616], [41.76968446, -87.65059561], [41.89608313, -87.62976573], [41.87761306, -87.64723385], [41.7641875, -87.59254521], [41.84622281, -87.71409822], [41.89100162, -87.71374304], [41.76411422, -87.56263223], [41.80204756, -87.68269968], [41.82390354, -87.61158844], [41.75538174, -87.56466081], [41.76606057, -87.57718324], [41.75540493, -87.64537778], [41.99866679, -87.66552516], [41.81034689, -87.6129071], [41.74711406, -87.63576637], [41.76427486, -87.58191067], [41.87846055, -87.75589393], [41.94225793, -87.66995149], [42.02009991, -87.66948893], [41.77337351, -87.58295194], [41.69178912, -87.67974056], [41.75804705, -87.56392897], [41.78868268, -87.62068878], [41.885729, -87.62572585], [42.00222574, -87.6924374], [42.02011466, -87.66824489], [41.788376, -87.66320929], [41.88483975, -87.76334649], [41.9677318, -87.69254792], [41.89820554, -87.72250362], [41.82015526, -87.62265485], [41.88378473, -87.73557853], [41.99062399, -87.77788629], [41.80170938, -87.59669769], [41.90380416, -87.72879799], [41.87367466, -87.75482081], [41.88225713, -87.76384316], [41.75481899, -87.55850678], [41.77543492, -87.64710681], [41.91924562, -87.74618254], [41.77543492, -87.64710681], [41.78583127, -87.73304991], [41.96761981, -87.77798688], [42.02117323, -87.6733567], [41.749288, -87.57228263], [41.72943144, -87.66044451], [41.83036383, -87.62174939], [41.74840098, -87.6348363], [41.78033202, -87.68367086], [41.76519993, -87.60799474], [41.99156055, -87.6554321], [41.75463564, -87.55088962], [41.76826995, -87.68740696], [41.85643233, -87.65638017], [41.81306934, -87.69803153], [41.96833138, -87.71992202], [41.93571702, -87.72055441], [41.72885291, -87.55411868], [41.80966876, -87.66743311], [41.86970721, -87.63049562], [41.74490445, -87.60258009], [41.72885291, -87.55411868], [41.788376, -87.66320929], [41.76438802, -87.64006585], [41.76670768, -87.6116617], [41.77601854, -87.61552043], [41.89685368, -87.70040105], [42.00647287, -87.67866711], [41.81484926, -87.69931988], [41.75215166, -87.66515839], [41.89869152, -87.69431117], [41.87566109, -87.76241463], [41.92906542, -87.70941697], [41.97200769, -87.66471153], [41.97009802, -87.72496131], [41.77497534, -87.7795969], [41.7769894, -87.64593172], [41.78311365, -87.62054879], [41.94528036, -87.80618333], [41.92119097, -87.7152736], [41.79699128, -87.59659036], [41.70293906, -87.6281657], [41.85188763, -87.69665285], [41.75373766, -87.65018925], [41.77069505, -87.60816012], [41.83623635, -87.7279848], [41.80774075, -87.66859014], [41.87046297, -87.72026015], [41.90838809, -87.67652554], [41.78345318, -87.70204554], [41.73210248, -87.60391223], [41.95922975, -87.71957916], [41.81126853, -87.70041529], [41.7769974, -87.64957217], [41.81651834, -87.68955265], [41.76449084, -87.64301179], [41.77281236, -87.57647707], [41.83794888, -87.71461468], [41.88225903, -87.76367422], [41.75953427, -87.60907381], [41.75877414, -87.58509756], [41.95721992, -87.76466891], [41.75472442, -87.55466708], [41.95923957, -87.71885109], [41.81072902, -87.60172605], [41.74680381, -87.60262818], [41.69994976, -87.61783541], [41.96232354, -87.66097788], [41.99355232, -87.68236779], [41.96232354, -87.66097788], [41.77723665, -87.69250102], [41.98378723, -87.77317161], [41.86651732, -87.6951787], [41.86776302, -87.69960502], [41.90088388, -87.7219822], [41.87396879, -87.62598777], [41.77071035, -87.57275529], [41.82117951, -87.61350108], [41.90047896, -87.74964206], [41.93275652, -87.69397493], [41.75168784, -87.66185759], [41.75535249, -87.63441642], [41.691009, -87.60563982], [41.84370062, -87.71355002], [41.82113884, -87.61489565], [41.75914485, -87.63572773], [41.87632691, -87.74267601], [41.76411422, -87.56263223], [41.93391467, -87.74053157], [41.86252895, -87.70395555], [41.80892854, -87.60168785], [41.79161712, -87.66087997], [41.75228695, -87.65592537], [41.89274222, -87.71745413], [41.85605711, -87.72363166], [41.8250356, -87.60572377], [41.91985586, -87.73153824], [41.86100894, -87.70551595], [41.86566271, -87.70442411], [41.87239985, -87.7034218], [41.89919649, -87.75325347], [41.76335891, -87.64600391], [41.85274355, -87.70406984], [41.7523905, -87.60036228], [41.78475493, -87.5881432], [41.84471536, -87.69341723], [41.74663425, -87.61359053], [41.74935879, -87.66341734], [41.85078189, -87.7137496], [41.75322763, -87.66472211], [41.77039353, -87.62182237], [41.89255254, -87.70523285], [41.87047503, -87.74352294], [41.93812184, -87.73161646], [41.87047503, -87.74352294], [41.80020652, -87.68909614], [41.89934679, -87.77527662], [41.8841545, -87.6728334], [41.97780084, -87.68288865], [41.95970822, -87.75573455], [41.89976891, -87.73696122], [41.93928202, -87.74687721], [41.92699439, -87.72440087], [41.9121271, -87.68789843], [42.00562954, -87.68189147], [41.749288, -87.57228263], [41.77921341, -87.61560212], [41.96236103, -87.65475632], [41.73639365, -87.55971388], [41.83679247, -87.7325042], [41.77168394, -87.57100249], [41.77596364, -87.61551737], [41.86566271, -87.70442411], [41.69264028, -87.61894528], [41.80986306, -87.63273845], [41.75425691, -87.55048375], [41.98642816, -87.65670036], [41.78880653, -87.71400572], [41.97843566, -87.70874771], [41.96885791, -87.80601841], [41.95358561, -87.77679261], [41.88829541, -87.76514104], [41.82318145, -87.70441441], [41.76689756, -87.57509867], [41.76469494, -87.56452034], [41.8116221, -87.67112874], [41.909789, -87.75811353], [41.82381448, -87.61840987], [41.86690826, -87.66218051], [41.76347567, -87.57930655], [41.82454692, -87.63306635], [41.81778208, -87.61043923], [41.97144621, -87.7770527], [41.77771519, -87.70310637], [41.91345748, -87.7741103], [41.87219418, -87.68374383], [41.76816234, -87.64203768], [41.74808142, -87.56705291], [41.9395905, -87.63839556], [41.88674918, -87.65146962], [41.72162082, -87.63149266], [41.74935839, -87.6108153], [41.87926823, -87.74364405], [41.76410987, -87.72155223], [41.94918347, -87.71401073], [41.90986054, -87.6385528], [41.90161665, -87.72873046], [41.88173873, -87.75130723], [41.74772219, -87.59689011], [41.96575581, -87.65479016], [41.749288, -87.57228263], [41.90380335, -87.73125553], [41.79959746, -87.61772189], [41.96795914, -87.75337284], [41.73455913, -87.73774459], [41.90363971, -87.68215784], [41.88225903, -87.76367422], [41.79088248, -87.63210176], [41.95460708, -87.64710719], [41.75054312, -87.60763938], [41.92458345, -87.76478243], [41.85827658, -87.71887885], [41.77198384, -87.68269565], [41.83973746, -87.72320677], [41.97843566, -87.70874771], [41.76106531, -87.58842835], [41.75856041, -87.562728], [41.77588725, -87.60339432], [41.95997067, -87.70086879], [41.96435164, -87.66100068], [41.75646444, -87.57853834], [41.77885457, -87.65083565], [41.80140899, -87.65811859], [41.99074096, -87.67587823], [41.77163894, -87.65671892], [41.75289555, -87.5614068], [41.85809318, -87.71030554], [41.80512673, -87.60889432], [41.69737983, -87.61105685], [41.91245908, -87.71176105], [41.78308408, -87.61448099], [41.89782171, -87.77036425], [41.99244219, -87.68355991], [41.78635296, -87.696902], [41.96374769, -87.7156677], [41.71399218, -87.66096084], [41.79004596, -87.64626161], [41.74552008, -87.55144004], [41.90930999, -87.77110462], [41.90372689, -87.64259764], [41.90372689, -87.64259764], [41.77255209, -87.57280319], [41.74494286, -87.60257966], [41.79639731, -87.72325128], [41.89892268, -87.73203234], [41.9014535, -87.72382445], [42.02252493, -87.67219815], [41.79038534, -87.61911513], [41.88115055, -87.76815676], [42.00441626, -87.67127822], [41.85487617, -87.67956204], [41.86244525, -87.71125816], [41.74888197, -87.60880878], [41.90027053, -87.76888079], [41.96865418, -87.65953237], [41.76390668, -87.5664761], [41.90004, -87.72378279], [41.86539366, -87.72270958], [41.70409563, -87.53165806], [41.86237969, -87.71691225], [41.73188227, -87.55325775], [41.78353675, -87.60965073], [41.99810114, -87.70332777], [41.76904929, -87.57637834], [41.749288, -87.57228263], [41.77853134, -87.69337537], [41.89366206, -87.71296072], [41.90067149, -87.73690874], [41.75022458, -87.62297597], [41.80128243, -87.66888795], [41.84402694, -87.62210081], [41.89007403, -87.76520975], [41.86461129, -87.71293326], [41.77316168, -87.66039823], [41.75398804, -87.55372311], [41.90718583, -87.6944726], [41.87876876, -87.73409772], [42.00228231, -87.67050566], [41.92653767, -87.7648496], [41.84165243, -87.72569512], [42.01843464, -87.68298992], [41.87799981, -87.64308039], [41.97236456, -87.65630497], [41.7832838, -87.61569972], [41.65269958, -87.54591863], [41.74853632, -87.60146885], [42.0018717, -87.69242991], [41.9350472, -87.64909205], [41.89404684, -87.74648685], [41.749288, -87.57228263], [41.86521884, -87.69460422], [41.88360569, -87.70763403], [41.72117179, -87.61654509], [41.96731629, -87.71333137], [41.69567477, -87.61223665], [41.93853465, -87.69573288], [41.76231419, -87.59783388], [41.86495811, -87.62577505], [41.99611887, -87.67193444], [41.78443814, -87.70250154], [41.78158598, -87.6084114], [41.75030085, -87.62823027], [41.87138519, -87.72028805], [41.75856041, -87.562728], [41.99672153, -87.6886299], [41.72241041, -87.57980151], [41.76494144, -87.6232865], [41.93289261, -87.64033523], [41.75095581, -87.57841231], [41.89012893, -87.76521294], [41.86508659, -87.73003295], [41.86643656, -87.70241566], [41.92942067, -87.66951123], [41.91509852, -87.74661001], [41.85510333, -87.66467887], [41.86861786, -87.68364419], [41.76786915, -87.58727193], [41.885729, -87.62572585], [41.80055169, -87.65746744], [41.84402377, -87.62692325], [41.7560709, -87.61826427], [41.74920261, -87.73823957], [41.7815766, -87.6156601], [41.88031679, -87.75940245], [41.75469373, -87.65546394], [41.82898819, -87.62651619], [41.80798226, -87.64391689], [41.90528961, -87.73209016], [41.76469494, -87.56452034], [41.93575515, -87.69580467], [41.82123602, -87.61992071], [41.80620026, -87.6576098], [41.7573913, -87.63123134], [41.75587852, -87.60165665], [41.80277466, -87.61629283], [41.85235131, -87.63478927], [41.7525627, -87.6373199], [41.94454934, -87.75196035], [41.91795546, -87.73758556], [41.89412906, -87.77226986], [41.81136418, -87.60580882], [42.01980371, -87.66620567], [41.79705501, -87.6743923], [41.7580913, -87.55461172], [41.76617713, -87.63595579], [41.81603252, -87.61677593], [41.97418428, -87.6577567], [42.01294668, -87.68890027], [41.96721896, -87.65813182], [42.01041188, -87.66128855], [41.97066895, -87.72447047], [41.8772271, -87.71454808], [41.82110858, -87.62638273], [41.80700782, -87.60432126], [41.92653767, -87.7648496], [41.86379011, -87.71945016], [41.98606613, -87.72852058], [41.749288, -87.57228263], [41.94612787, -87.67005473], [41.87364119, -87.75744272], [41.77338193, -87.58214166], [41.86766516, -87.70326635], [41.90535678, -87.69078056], [41.92895162, -87.73495493], [41.98944373, -87.79394531], [41.84028077, -87.71345825], [41.84759563, -87.70512961], [41.82529665, -87.63135579], [41.89775225, -87.66856106], [41.75815419, -87.5627182], [41.90075756, -87.77532311], [41.95723003, -87.68091034], [41.86237969, -87.71691225], [41.6813928, -87.61522955], [41.79639731, -87.72325128], [41.9541797, -87.75594623], [41.78320968, -87.61569688], [41.9933473, -87.67337571], [41.8087103, -87.61143622], [41.73686762, -87.54306305], [41.91175912, -87.77530445], [41.74145726, -87.6493301], [41.7809464, -87.62199537], [41.79206229, -87.62401771], [41.65373533, -87.59530148], [41.8636928, -87.70802646], [41.80700782, -87.60432126], [41.89414643, -87.71017565], [41.7207354, -87.53891278], [41.88285803, -87.76659936], [41.98858605, -87.69767606], [41.93774275, -87.72373996], [41.9371119, -87.78589274], [41.80253253, -87.66724293], [41.80436042, -87.58608585], [41.92722434, -87.79691716], [41.78033202, -87.68367086], [41.88545225, -87.71212572], [41.89296325, -87.76014502], [41.97507371, -87.84579136], [41.84738442, -87.69321814], [41.87002813, -87.70882386], [41.74760687, -87.66701214], [41.91027394, -87.76180137], [41.74935839, -87.6108153], [41.76948838, -87.60655344], [41.79535391, -87.66826342], [41.90469007, -87.75973156], [41.77400463, -87.66470434], [41.70961515, -87.62356972], [41.85998923, -87.62237548], [41.80547053, -87.60381052], [41.79818543, -87.73187842], [41.96643056, -87.65103242], [41.76173042, -87.71741834], [41.96643056, -87.65103242], [41.86289568, -87.71132721], [41.81969705, -87.62311116], [41.90193135, -87.71059219], [41.74669233, -87.66500247], [41.76323624, -87.55980204], [41.89546027, -87.76784696], [41.76528604, -87.57708604], [41.80664041, -87.62276756], [41.89053763, -87.71983685], [41.83069725, -87.61447689], [41.90715332, -87.63968057], [41.78584811, -87.60758238], [41.98932284, -87.69692938], [41.89955929, -87.7495733], [41.9801514, -87.84022115], [41.80683071, -87.62114791], [41.86773704, -87.69837903], [41.88222891, -87.76590353], [41.78503214, -87.70573338], [41.7718661, -87.63732021], [41.75637023, -87.58342858], [41.78993119, -87.66448019], [41.87929076, -87.74162054], [41.86871825, -87.62585841], [41.75449139, -87.57605099], [41.8069035, -87.61652555], [41.84301696, -87.61722727], [41.75267748, -87.58443541], [41.84471323, -87.69352736], [41.86641507, -87.70500414], [41.88332292, -87.72913798], [41.85682932, -87.66985868], [41.76893868, -87.59522885], [41.90173346, -87.7238328], [41.77597284, -87.60217986], [41.92987124, -87.65133764], [41.74475713, -87.60748102], [41.77582492, -87.66484674], [41.96284395, -87.7216513], [41.77411611, -87.59849092], [41.75210431, -87.60889348], [41.77730987, -87.64080292], [41.91420175, -87.73134887], [41.96793515, -87.66941672], [41.78934705, -87.68513461], [41.68690166, -87.6070883], [41.84571277, -87.70507463], [42.00789393, -87.66667231], [41.84715701, -87.72096718], [41.80962764, -87.69302195], [41.93722042, -87.73084208], [41.75210431, -87.60889348], [41.88469019, -87.74297724], [41.89983415, -87.7237774], [41.77905612, -87.69743977], [41.75304641, -87.56262172], [41.97092249, -87.70732078], [41.95085798, -87.75953473], [41.76807056, -87.65055407], [41.93156477, -87.79671542], [42.01923476, -87.66699547], [41.75339506, -87.6619021], [41.92653767, -87.7648496], [41.77667175, -87.69454871], [41.90343269, -87.76570113], [41.90054693, -87.63363243], [41.83509523, -87.66567611], [41.80860623, -87.60278825], [41.765444, -87.62690618], [41.79483982, -87.7011527], [41.83838464, -87.62031376], [41.78584811, -87.60758238], [41.74748313, -87.61329522], [41.87293257, -87.75623009], [41.86752362, -87.7044793], [41.87190654, -87.70204244], [41.96343982, -87.77222842], [41.7832838, -87.61569972], [41.80383488, -87.65997834], [41.94722765, -87.65538001], [41.81590353, -87.6167737], [41.8392246, -87.64784591], [41.89616199, -87.72733842], [41.84353044, -87.71354432], [41.7523905, -87.60036228], [41.87293257, -87.75623009], [41.90759773, -87.69205856], [41.73488565, -87.54577658], [41.88628078, -87.76175086], [41.816013, -87.60451261], [41.85993756, -87.71645115], [41.87874193, -87.73632321], [41.90640806, -87.71277856], [41.97236456, -87.65630497], [41.90843054, -87.63850953], [41.77338193, -87.58214166], [41.84411271, -87.62844534], [41.89135317, -87.7488694], [41.87450131, -87.71389876], [41.89542265, -87.75806249], [41.88090903, -87.75875085], [41.76544878, -87.58475609], [41.8773914, -87.70038382], [41.87979173, -87.76974773], [41.77338193, -87.58214166], [41.76172759, -87.564816], [41.85163287, -87.63850058], [41.82915532, -87.62825721], [41.99820228, -87.68989888], [41.75815003, -87.58956893], [41.93803026, -87.71489785], [41.74872302, -87.61364782], [42.01617355, -87.68300928], [41.74498778, -87.60015333], [41.84624586, -87.62813932], [41.73488565, -87.54577658], [41.84558448, -87.70872398], [41.95555825, -87.72168421], [41.74700853, -87.55280349], [41.75108113, -87.56379595], [41.84558448, -87.70872398], [41.79959659, -87.6193466], [41.7493333, -87.66705658], [41.82898819, -87.62651619], [41.96976262, -87.65483589], [41.92136721, -87.76589128], [41.86898014, -87.65796237], [41.80501164, -87.61503918], [41.80329092, -87.71452277], [41.92957666, -87.75736618], [41.8640073, -87.70681925], [41.83790599, -87.70972708], [41.78883399, -87.63369717], [41.77347287, -87.6531253], [41.94690211, -87.76309909], [41.74744912, -87.57225304], [41.76569997, -87.69305571], [41.88298826, -87.7718826], [41.8027334, -87.61627862], [41.8144705, -87.60447875], [41.93161773, -87.77841321], [41.85498055, -87.67191133], [41.93834195, -87.72185611], [41.77531394, -87.76242924], [41.88090556, -87.7477418], [41.98423772, -87.65520819], [41.75228122, -87.65635055], [41.76339662, -87.64359533], [42.00939545, -87.69820851], [41.79629671, -87.68777106], [41.83719925, -87.65013535], [41.7809464, -87.62199537], [41.7809464, -87.62199537], [41.87960348, -87.73894072], [41.76015578, -87.55675291], [41.7523905, -87.60036228], [41.88301647, -87.75435096], [41.7675774, -87.69065802], [41.9643681, -87.66100051], [41.92821511, -87.7201889], [41.97318875, -87.8465118], [41.83465008, -87.61684718], [41.96938944, -87.70048881], [41.90132405, -87.62833071], [41.98606613, -87.72852058], [41.90878638, -87.72284361], [41.93936758, -87.70195087], [41.96179638, -87.65347544], [41.7022809, -87.68025685], [41.749288, -87.57228263], [41.81410035, -87.59935831], [41.765444, -87.62690618], [41.71864364, -87.53407791], [41.90124805, -87.75575112], [41.78427904, -87.66797455], [41.7523905, -87.60036228], [41.75842028, -87.55496692], [41.925809, -87.7055682], [41.83981113, -87.61714191], [41.75075187, -87.56257587], [41.92209928, -87.78784364], [42.0047909, -87.67057528], [41.78856921, -87.61744487], [41.93488857, -87.68173348], [41.99459959, -87.6958799], [41.99782437, -87.68418943], [41.74051428, -87.54538536], [41.75429413, -87.58447525], [41.99625416, -87.70080764], [41.88613521, -87.77342318], [41.86616104, -87.65550658], [41.89035315, -87.7633893], [41.87701459, -87.73136017], [42.00376717, -87.67054911], [41.74876941, -87.60880271], [41.74700074, -87.6051178], [42.00372421, -87.65799984], [41.80131387, -87.62101096], [41.99837906, -87.69600773], [41.67009548, -87.64044895], [41.77070227, -87.57153467], [41.88360173, -87.73679944], [41.96304245, -87.70404831], [41.87661676, -87.75815039], [41.74668633, -87.60141657], [41.77542973, -87.64075349], [41.749288, -87.57228263], [41.89910576, -87.76919225], [41.94612787, -87.67005473], [41.82219993, -87.6021348], [41.80770436, -87.65764902], [41.90239471, -87.72020457], [41.96202239, -87.71683888], [41.94612787, -87.67005473], [41.88015594, -87.69710307], [41.7757899, -87.66732175], [41.97190124, -87.72656954], [41.77372944, -87.64827245], [42.01406472, -87.68666639], [41.74917613, -87.5661897], [41.9038812, -87.69535778], [41.97410483, -87.65128149], [41.76578321, -87.57258256], [41.77778556, -87.6547552], [41.85776468, -87.648283], [41.74866035, -87.60026179], [41.76584338, -87.5762914], [41.85286537, -87.69186045], [41.79468509, -87.58539513], [41.76740997, -87.69065236], [41.78667888, -87.6290675], [41.97074837, -87.69562868], [41.8937276, -87.76208848], [41.78990775, -87.65719423], [41.96392774, -87.71444891], [41.87434259, -87.67453165], [41.7269647, -87.57668573], [41.97418428, -87.6577567], [41.97252603, -87.75347851], [41.85691844, -87.73346481], [41.96766578, -87.66273085], [41.86007752, -87.7298818], [41.93936098, -87.70324838], [41.77622563, -87.60829213], [41.79258059, -87.77011997], [41.96649088, -87.72162745], [41.96766578, -87.66273085], [41.92310635, -87.72917802], [41.80380307, -87.62369384], [41.89381739, -87.77363523], [41.79868131, -87.65256172], [41.87607905, -87.73350597], [41.75802483, -87.56635188], [41.77531557, -87.63549386], [41.7740969, -87.59849114], [41.76166094, -87.69661824], [41.99647402, -87.69838115], [41.99481219, -87.68241748], [41.77094295, -87.59111479], [41.74858235, -87.66016393], [41.7812582, -87.61564898], [41.86155927, -87.65976218], [41.77439466, -87.60214646], [41.92982251, -87.65376362], [41.76542517, -87.58366037], [41.97928097, -87.78447618], [41.76944782, -87.56653841], [41.84728507, -87.70755866], [41.75500855, -87.7301487], [41.91509852, -87.74661001], [41.75791679, -87.60412944], [41.96909302, -87.70849701], [41.89149784, -87.67998571], [41.8095187, -87.6073336], [41.85262974, -87.7205773], [41.88293336, -87.76021264], [41.98966909, -87.77790195], [41.74979448, -87.63518766], [41.88471084, -87.76502223], [41.87973388, -87.77138231], [42.01220712, -87.69355886], [41.96392774, -87.71444891], [41.81457643, -87.69317442], [41.98003985, -87.65580073], [41.79669675, -87.6050579], [41.87462157, -87.75484899], [41.96392774, -87.71444891], [41.90997285, -87.71839435], [41.88573045, -87.6349289], [41.76904929, -87.57637834], [41.99077853, -87.67381791], [41.85114135, -87.70766789], [41.78129325, -87.60595085], [41.87856076, -87.74804228], [41.90567647, -87.69545379], [41.95833426, -87.70571233], [41.9230644, -87.71205865], [41.76149113, -87.58722853], [41.79920435, -87.5840443], [41.76015578, -87.55675291], [41.86566201, -87.72882336], [41.82410694, -87.69954408], [41.75634526, -87.56511111], [41.98277774, -87.65659189], [41.79033408, -87.62235363], [41.78132662, -87.64751696], [41.88045815, -87.74825998], [41.78299224, -87.61208777], [41.78443814, -87.70250154], [41.92928854, -87.72078498], [41.87250716, -87.686197], [41.76010409, -87.56211577], [41.765444, -87.62690618], [41.74758176, -87.5637388], [41.80762578, -87.67101584], [41.89624508, -87.72488773], [41.75395235, -87.66664965], [42.02114844, -87.67000797], [41.74688447, -87.60021237], [41.98195342, -87.77078598], [41.85759274, -87.68193508], [41.79381249, -87.6871689], [41.90319541, -87.69688908], [41.88225903, -87.76367422], [41.76302478, -87.63338749], [41.90157026, -87.71895618], [41.78698092, -87.6157905], [41.8818476, -87.64177207], [41.75313708, -87.56141124], [41.76887695, -87.57147928], [41.75834641, -87.56151008], [41.80891809, -87.60436196], [41.80605206, -87.65760769], [41.9444437, -87.75932759], [41.9047891, -87.69281403], [41.88667597, -87.76341096], [41.90894534, -87.69702668], [41.80151304, -87.61773359], [41.95386239, -87.64510423], [41.74847169, -87.61646502], [41.77982248, -87.60165584], [41.88321011, -87.63429166], [41.86023885, -87.70671287], [41.95992892, -87.70576286], [41.99866679, -87.66552516], [41.82965153, -87.6144519], [41.76524878, -87.56649677], [41.89559008, -87.75806833], [41.79400581, -87.66625674], [41.94320009, -87.73346538], [41.98729633, -87.69078482], [41.94776805, -87.80709286], [42.01106485, -87.68706842], [41.87545787, -87.71012957], [41.75074174, -87.63707571], [41.9049508, -87.75973658], [41.79236152, -87.61916287], [41.85477087, -87.63014895], [41.80589405, -87.64303332], [41.88362642, -87.73679921], [41.78468734, -87.6870992], [41.82859628, -87.62171026], [42.01396344, -87.66279667], [41.9029578, -87.69314457], [41.86521884, -87.69460422], [41.75314561, -87.60215312], [41.77173164, -87.69893816], [41.88093423, -87.70941171], [41.85393075, -87.62384107], [41.91259962, -87.70681821], [41.67354828, -87.61679552], [41.69184131, -87.67685854], [41.83481046, -87.6476178], [41.75088078, -87.56379467], [41.79738316, -87.58546277], [41.97572785, -87.65985131], [42.01280627, -87.66482899], [41.89385275, -87.76352714], [41.74440774, -87.66571872], [41.86330164, -87.73242495], [41.7812582, -87.61564898], [41.94320009, -87.73346538], [41.97572785, -87.65985131], [41.99508395, -87.68243311], [41.84182518, -87.62329222], [41.87082547, -87.71672097], [41.80215823, -87.61207459], [41.99563636, -87.67106389], [41.78967542, -87.6462509], [41.69564696, -87.61832615], [41.76443982, -87.66501625], [41.74786137, -87.64638546], [41.7405691, -87.63897371], [41.96231105, -87.72052394], [41.79330151, -87.59380159], [41.93713487, -87.79073301], [41.95444153, -87.74055094], [41.71059507, -87.66243191], [42.02252631, -87.67243736], [41.78373808, -87.6935216], [41.87855709, -87.7483985], [41.75550177, -87.63685568], [41.90707214, -87.73133136], [41.75054102, -87.59910068], [41.89702176, -87.62978114], [41.90715332, -87.63968057], [41.80232582, -87.66237444], [41.75147623, -87.56501525], [41.90405601, -87.75641642], [41.76068652, -87.57707407], [41.96335777, -87.7556832], [41.89055166, -87.72350206], [41.8558638, -87.72237077], [41.81122067, -87.61527427], [41.75938577, -87.61514504], [41.87421894, -87.73623312], [41.79805664, -87.70124578], [41.88302546, -87.77331813], [41.93994496, -87.76409467], [41.96381554, -87.6547703], [41.91743529, -87.70286888], [41.77542973, -87.64075349], [41.95400048, -87.77070099], [41.75449139, -87.57605099], [41.89616199, -87.72733842], [41.69381381, -87.61218787], [41.74668303, -87.61965102], [41.86517525, -87.72758707], [41.85593448, -87.65386365], [41.88399429, -87.67792121], [41.94966759, -87.75527746], [41.99826679, -87.68624142], [41.96058494, -87.75873051], [41.79407457, -87.75378426], [41.87862256, -87.72559838], [41.87862256, -87.72559838], [41.77681998, -87.69455457], [41.87064016, -87.70581457], [41.68825887, -87.66524149], [41.68258157, -87.61750436], [41.88090289, -87.75752441], [42.00800025, -87.66043823], [41.99477357, -87.6995458], [41.7809464, -87.62199537], [41.84647706, -87.69339601], [41.809329, -87.68576586], [41.77874847, -87.66546898], [41.90229217, -87.7516606], [41.67320797, -87.61767411], [41.76711646, -87.57085496], [41.92462073, -87.77574358], [41.75080025, -87.6027441], [41.79359029, -87.69950009], [41.85761996, -87.70907307], [41.94629984, -87.73323415], [41.93676339, -87.76555267], [41.88108866, -87.72076449], [41.7448727, -87.66497736], [41.87683815, -87.63432072], [41.75285116, -87.56625222], [41.779598, -87.63752259], [41.80912255, -87.70642998], [41.80119289, -87.67766174], [41.75281102, -87.57967692], [41.75368341, -87.65260864], [41.99414909, -87.6864781], [41.80245432, -87.68426166], [41.90894534, -87.69702668], [41.97311152, -87.66955419], [41.76918708, -87.58442304], [41.85519055, -87.6238712], [41.77869133, -87.63870927], [41.88749312, -87.76328251], [41.7385385, -87.55022035], [41.91766911, -87.73634633], [41.92348073, -87.69737834], [41.85477087, -87.63014895], [41.76337364, -87.59700072], [41.9953237, -87.65697401], [41.90598803, -87.67864776], [41.76305278, -87.58052108], [41.92525954, -87.74483024], [41.6823841, -87.63854163], [41.84546722, -87.70383286], [41.85776468, -87.648283], [41.79576025, -87.65005855], [41.96058656, -87.75850621], [41.95011387, -87.64557466], [41.75545893, -87.64294366], [41.75982395, -87.61149693], [41.87114971, -87.68734153], [41.77150193, -87.58759276], [41.7692999, -87.56822642], [41.97192033, -87.72499177], [41.85019897, -87.62702415], [41.79397726, -87.64330423], [41.86692722, -87.71543675], [41.85465411, -87.71021044], [41.80318162, -87.58543202], [41.76904574, -87.59523496], [41.75442765, -87.57971298], [41.86255942, -87.72178574], [41.96164826, -87.76728049], [41.90216057, -87.76428346], [41.7523905, -87.60036228], [41.9159004, -87.71025065], [41.80318162, -87.58543202], [41.9548652, -87.64529932], [41.8811207, -87.7648888], [41.70199763, -87.56398232], [41.96231105, -87.72052394], [41.7547878, -87.57605484], [42.01860531, -87.68453748], [41.89702176, -87.62978114], [41.85023464, -87.68422664], [41.80857911, -87.62119457], [41.98532225, -87.66986506], [41.77148239, -87.5892353], [41.9323992, -87.7500494], [41.83788861, -87.72802427], [41.92341332, -87.72184802], [41.87955276, -87.71427594], [41.92118025, -87.75974558], [41.95879674, -87.75565454], [42.01403499, -87.67948007], [41.88553823, -87.61576842], [41.87701681, -87.73126101], [41.68076853, -87.63235407], [41.80139399, -87.60577124], [41.7843382, -87.66918759], [41.85683875, -87.6620362], [41.90889258, -87.72527462], [41.84085918, -87.62684797], [41.76154674, -87.58186553], [41.92595309, -87.75713052], [41.90630771, -87.72324193], [41.86164106, -87.72870705], [41.85393075, -87.62384107], [41.92239722, -87.70093868], [41.95460708, -87.64710719], [41.74261069, -87.6559538], [41.96230872, -87.66927659], [41.79693332, -87.66709188], [41.78183401, -87.59138151], [41.8992157, -87.7532533], [41.93792543, -87.6648545], [42.01259639, -87.67696317], [41.90112053, -87.69536323], [41.79617355, -87.73549852], [41.79501906, -87.66825588], [41.87855709, -87.7483985], [41.99469252, -87.67490686], [41.76545733, -87.59583692], [41.95224369, -87.68525136], [41.78475493, -87.5881432], [41.85591135, -87.719966], [41.93486408, -87.64508434], [41.86718161, -87.71681473], [41.96752813, -87.71089507], [41.79396123, -87.64429087], [41.78352126, -87.5947133], [41.90854326, -87.64997765], [41.95879674, -87.75565454], [41.83465008, -87.61684718], [41.91312087, -87.75873391], [41.99842597, -87.68868259], [41.7039578, -87.56573138], [41.74946072, -87.66584227], [41.78504412, -87.61898008], [41.86006697, -87.72011718], [41.88199935, -87.72949931], [41.91643774, -87.70863981], [41.75634526, -87.56511111], [41.85998231, -87.62081541], [41.76534435, -87.59704784], [41.7565429, -87.61737942], [41.88790498, -87.74644023], [41.96558769, -87.71694424], [41.73966732, -87.58410294], [41.7943292, -87.62448412], [41.85741737, -87.627187], [41.95149451, -87.78362647], [41.86385228, -87.72754082], [41.8085009, -87.61656276], [41.9072511, -87.72157613], [41.94477839, -87.83575202], [41.97577311, -87.7051035], [41.93567038, -87.75657997], [41.76650758, -87.68390565], [41.6723308, -87.64342273], [42.00713784, -87.66500976], [41.70366384, -87.56445317], [41.91743265, -87.75339331], [41.93810933, -87.71735594], [41.99982867, -87.70459101], [41.92598078, -87.75499525], [41.85053049, -87.71496693], [41.85665403, -87.68432692], [41.88566463, -87.7532547], [41.73324471, -87.54700198], [41.8069145, -87.60431865], [41.65221844, -87.6188725], [41.81135749, -87.66382816], [41.85519055, -87.6238712], [41.74145726, -87.6493301], [41.77440626, -87.63578967], [41.77338036, -87.58232131], [42.01878915, -87.66823295], [41.88237994, -87.6658818], [41.85373269, -87.69681808], [41.87874193, -87.73632321], [41.7685973, -87.66076119], [41.90953394, -87.75323336], [41.77867852, -87.72139545], [41.72084766, -87.53649748], [41.77404455, -87.61188007], [41.9031259, -87.63218266], [41.83765805, -87.72801544], [41.93691476, -87.64429414], [41.77907344, -87.61560001], [41.85727922, -87.62391786], [41.74700607, -87.72182824], [41.78146261, -87.61323051], [41.8796893, -87.73170594], [41.7980119, -87.61606353], [41.98765818, -87.66665543], [41.80892854, -87.60168785], [41.95767047, -87.65463697], [41.81470546, -87.69072634], [41.85622725, -87.69435232], [41.86751042, -87.68726803], [41.78878607, -87.62231573], [41.88188884, -87.73882406], [41.78939753, -87.66567748], [41.87658178, -87.76048603], [41.80351263, -87.68554568], [41.75593947, -87.65729799], [41.87963608, -87.73623043], [41.87638457, -87.62925113], [41.78698092, -87.6157905], [41.77175797, -87.64579695], [41.65790511, -87.60019411], [42.01403499, -87.67948007], [41.98627709, -87.65528218], [41.81567137, -87.62625177], [41.69567477, -87.61223665], [41.7615465, -87.58182888], [41.87933444, -87.75832431], [41.93213406, -87.69209216], [41.81788468, -87.61982584], [41.77152474, -87.58224764], [41.75215432, -87.66514371], [41.76470801, -87.56319327], [41.84540926, -87.64037729], [41.8544822, -87.71241816], [41.8032982, -87.65319504], [41.9372572, -87.72792349], [41.90484946, -87.76696329], [41.77255209, -87.57280319], [41.79470542, -87.62186158], [41.84928691, -87.70027924], [41.80776179, -87.67223587], [41.85491725, -87.65633742], [41.76159678, -87.57694609], [41.81815961, -87.63554251], [41.8464993, -87.69147996], [41.90981292, -87.73172074], [41.93201262, -87.64094012], [41.78328588, -87.60599433], [41.91405001, -87.7141668], [41.77881849, -87.63750168], [41.99139587, -87.65542649], [41.86517525, -87.72758707], [41.85598732, -87.72237693], [41.87827876, -87.67901144], [41.87190806, -87.70181845], [41.81582701, -87.62301085], [41.83608584, -87.61166809], [41.8878985, -87.63720429], [41.73478507, -87.55275366], [41.74951669, -87.59942018], [41.87519839, -87.71747939], [41.75050077, -87.61006222], [41.80526119, -87.72840851], [41.9712385, -87.70488697], [41.98808322, -87.65675272], [41.76344283, -87.56646696], [41.99223586, -87.69372947], [41.83608584, -87.61166809], [42.00103274, -87.66560343], [41.75972367, -87.57922219], [41.7479789, -87.57517842], [41.72792294, -87.65918904], [41.77917161, -87.72277664], [41.88228139, -87.76209864], [41.75690947, -87.58997175], [41.75656275, -87.61616241], [41.76945295, -87.6087643], [41.94612787, -87.67005473], [41.77393476, -87.61187764], [41.96876469, -87.72192929], [41.75614791, -87.58342384], [41.87799875, -87.64290415], [41.749288, -87.57228263], [41.9118807, -87.7777392], [41.79396123, -87.64429087], [41.78328588, -87.60599433], [41.74501698, -87.60258248], [41.76601133, -87.64807965], [41.75447615, -87.56507476], [41.9795209, -87.68960519], [41.87452002, -87.75484623], [41.77188696, -87.64579924], [41.82807441, -87.66550691], [41.90352942, -87.72978139], [41.8959115, -87.72979802], [41.78312398, -87.61208996], [41.71710969, -87.53528], [41.93968424, -87.66954446], [41.79330151, -87.59380159], [41.75634965, -87.5527343], [41.75480835, -87.56386504], [41.72628822, -87.65793863], [42.00768735, -87.67893797], [41.92480576, -87.76478781], [41.90536493, -87.6883192], [41.75171416, -87.64040747], [41.93464347, -87.74671757], [42.00713784, -87.66500976], [41.81498404, -87.6919598], [41.85594606, -87.66755527], [41.83509523, -87.66567611], [41.85519055, -87.6238712], [41.7432409, -87.60379717], [41.74700853, -87.55280349], [41.75319353, -87.73099761], [41.8989196, -87.77040236], [41.81440267, -87.70544674], [41.77497534, -87.7795969], [41.84742079, -87.72464223], [41.74509759, -87.60015941], [41.75167288, -87.64770811], [41.86630458, -87.62162265], [41.87489012, -87.75151257], [41.92507886, -87.75463593], [41.78229355, -87.60055346], [41.96892871, -87.70604225], [41.9292719, -87.70001453], [41.83367977, -87.6126455], [41.76616187, -87.56269203], [41.90282011, -87.70799748], [41.69314009, -87.65291785], [42.00264701, -87.66808468], [41.7170248, -87.53649343], [41.96388038, -87.64997127], [41.80720881, -87.71129764], [41.74223278, -87.56001021], [41.87287398, -87.69683749], [41.91905027, -87.76739623], [41.77770147, -87.70310651], [41.77251318, -87.57646959], [41.93182782, -87.76748175], [41.78430828, -87.67161154], [41.78843199, -87.62230497], [41.82876229, -87.61443616], [41.8922326, -87.7750484], [41.86519446, -87.72758689], [41.95556519, -87.7209268], [41.94573783, -87.77977216], [41.76678817, -87.57142335], [41.93973818, -87.739522], [41.87896255, -87.68880143], [41.77423367, -87.58819534], [41.81188274, -87.70783733], [41.78123963, -87.6144356], [41.78856921, -87.61744487], [41.78324208, -87.59312156], [41.84026338, -87.63172436], [41.90442104, -87.72973258], [41.87788222, -87.73354419], [41.70003572, -87.61183273], [41.81228301, -87.60443018], [41.77289937, -87.69079553], [41.94307265, -87.77231146], [41.86408726, -87.70437714], [42.00782266, -87.67095223], [41.69737157, -87.62205294], [41.93936758, -87.70195087], [41.99842101, -87.70211058], [41.94612787, -87.67005473], [41.89705404, -87.70040641], [41.74866877, -87.61243545], [41.84554777, -87.71359825], [41.99848085, -87.68868204], [41.64963698, -87.54593032], [41.88057943, -87.62773256], [41.94227997, -87.64068937], [41.99853016, -87.68137894], [41.7701557, -87.68261881], [41.99414909, -87.6864781], [41.88393885, -87.68313278], [41.88613521, -87.77342318], [41.92516036, -87.66739469], [41.75663374, -87.56147562], [41.90857207, -87.75841468], [41.79330151, -87.59380159], [41.83644649, -87.66775374], [41.81421223, -87.61972721], [41.8835787, -87.70973485], [41.75987103, -87.56419307], [41.80060913, -87.633151], [42.00842557, -87.6618393], [41.77754186, -87.61555843], [41.86133518, -87.62569018], [41.75275331, -87.55699607], [41.69916767, -87.61476453], [41.7649009, -87.57694394], [41.73695521, -87.54582823], [41.76338174, -87.61037575], [41.83548695, -87.65107829], [41.74676005, -87.66014999], [41.83048184, -87.62175175], [41.745394, -87.60016337], [41.80345613, -87.72958082], [41.80284288, -87.59671404], [41.77788012, -87.6143558], [41.7812582, -87.61564898], [41.77028818, -87.6234255], [41.87933516, -87.75846751], [41.85380625, -87.69178865], [41.65676886, -87.60233309], [41.8818476, -87.64177207], [41.80276809, -87.61130121], [41.90212049, -87.7672776], [42.00916791, -87.66301998], [41.77746674, -87.63498293], [41.77874847, -87.66546898], [41.97598189, -87.84511143], [41.79921325, -87.62258189], [41.749288, -87.57228263], [41.9611583, -87.65230934], [41.87880053, -87.73125161], [41.88790216, -87.6369031], [41.73682621, -87.54582615], [41.91804437, -87.73148177], [41.70729847, -87.61466301], [41.96263179, -87.74031693], [41.70752395, -87.66900829], [41.82488922, -87.64109391], [41.79774545, -87.58546956], [41.88920232, -87.61761146], [41.87281629, -87.70229785], [41.78852441, -87.61906612], [41.8992157, -87.7532533], [41.98905661, -87.696921], [41.8684223, -87.68692108], [41.89982839, -87.72011892], [41.80933804, -87.69423895], [41.89412906, -87.77226986], [41.75227923, -87.65647884], [41.76068604, -87.57700077], [41.75417238, -87.5525811], [41.86525586, -87.73248375], [41.95574168, -87.70734804], [41.88895519, -87.714905], [41.79124229, -87.68640631], [41.85380393, -87.69186575], [41.75873988, -87.58911863], [41.92957666, -87.75736618], [41.66876128, -87.63764868], [41.94307265, -87.77231146], [41.76661193, -87.6747589], [41.81759979, -87.63239], [41.8122138, -87.70413655], [41.76937926, -87.57149533], [41.86181335, -87.71163139], [41.6687607, -87.63755352], [41.83837359, -87.62118727], [41.84538248, -87.61766332], [41.77985874, -87.63798173], [41.88110113, -87.69287072], [42.01417293, -87.67242081], [41.86343395, -87.72265113], [41.75043349, -87.60031125], [41.90895207, -87.63221075], [41.75651002, -87.56389602], [41.77813885, -87.69336461], [41.78310118, -87.61326717], [41.95045002, -87.76524007], [41.79315441, -87.72860304], [41.75450785, -87.5760508], [41.80692404, -87.62115055], [41.77723722, -87.69260367], [41.97889593, -87.69415352], [41.85160214, -87.72034485], [41.84736799, -87.7173133], [41.80241524, -87.59251949], [41.88010075, -87.75354371], [41.92488321, -87.76602181], [41.91172066, -87.72556006], [41.78487669, -87.61897461], [41.85812658, -87.72368909], [41.77430779, -87.59971319], [41.76215271, -87.56765523], [41.72587306, -87.59320897], [41.94501982, -87.72002056], [41.80066711, -87.68365621], [41.76159678, -87.57694609], [41.92494902, -87.68416069], [41.93094847, -87.78995856], [41.91008853, -87.70881193], [41.85519055, -87.6238712], [42.01998751, -87.66477954], [41.9900914, -87.65619073], [41.76472805, -87.56127231], [41.7566364, -87.56268872], [41.88225464, -87.76389459], [41.68445292, -87.62766469], [41.93547837, -87.72263322], [41.77293404, -87.70299921], [42.0072455, -87.66370613], [41.8905055, -87.75543656], [41.83069725, -87.61447689], [41.76187793, -87.68438851], [41.77776418, -87.61556329], [41.75449139, -87.57605099], [41.76929938, -87.57393767], [41.97079793, -87.72810242], [41.92219209, -87.66520248], [41.82876229, -87.61443616], [41.91863873, -87.75529671], [41.8006258, -87.65747032], [41.76528604, -87.57708604], [41.89012893, -87.76521294], [41.89958312, -87.74724794], [41.77531403, -87.63569185], [41.98738806, -87.69443641], [41.96333446, -87.73400457], [41.76238538, -87.58928544], [41.78478244, -87.6376022], [41.96887088, -87.7535043], [42.0030769, -87.69646489], [41.90928035, -87.77346344], [41.79358338, -87.67103208], [41.76752094, -87.572672], [41.73468662, -87.54998137], [41.9733369, -87.65320563], [41.80883577, -87.6165737], [41.77905969, -87.6155965], [41.88329244, -87.73169418], [41.80315306, -87.6075045], [41.84190613, -87.71106079], [41.77285409, -87.58874287], [41.76752094, -87.572672], [41.87282067, -87.70159651], [41.79227733, -87.62240183], [41.79980985, -87.74295011], [41.89064634, -87.7186128], [41.75652121, -87.5614733], [41.67534691, -87.6187339], [41.765144, -87.61525677], [41.75298769, -87.665934], [41.87088496, -87.68370568], [41.80631884, -87.66004402], [41.75046538, -87.60273324], [41.99866679, -87.66552516], [41.96152933, -87.75607107], [41.97572785, -87.65985131], [41.93275517, -87.64715037], [41.77543953, -87.63331485], [41.97765618, -87.69722944], [41.84392222, -87.6269207], [41.75042696, -87.60273368], [41.88627534, -87.76507815], [41.99159517, -87.70793855], [41.84919765, -87.71005052], [41.77106835, -87.58379996], [41.9032402, -87.67418324], [41.77106835, -87.58379996], [41.89547044, -87.71549226], [41.9062147, -87.73161861], [41.76891264, -87.57148252], [41.9877245, -87.69079891], [41.84400018, -87.6284429], [41.69928276, -87.66806415], [41.73645017, -87.54581608], [41.8857329, -87.74616999], [41.88012367, -87.74940138], [41.93853713, -87.69568508], [41.76806982, -87.56730628], [41.91553606, -87.71087512], [41.77196507, -87.6842282], [41.96454109, -87.67906715], [41.78081279, -87.70147748], [41.74951669, -87.59942018], [41.81168907, -87.74815991], [41.7418623, -87.58067338], [41.83732409, -87.63529767], [41.88192164, -87.73615407], [41.85999683, -87.72498919], [41.75596573, -87.65709614], [41.81419302, -87.61972742], [41.91723389, -87.72092599], [41.90976258, -87.73574402], [41.87448461, -87.63403794], [41.81802412, -87.60921855], [41.91723389, -87.72092599], [41.80614335, -87.66855164], [42.00020348, -87.70338061], [41.84712924, -87.71120469], [41.87073703, -87.72380058], [41.88276424, -87.76984646], [41.72841465, -87.66632394], [41.97460382, -87.66097377], [41.90629995, -87.67560651], [41.81255052, -87.59689262], [41.87574169, -87.75603224], [41.76953923, -87.65666401], [41.90894534, -87.69702668], [42.01265591, -87.67346316], [41.97388512, -87.65774883], [41.88095048, -87.76321214], [41.72430105, -87.65788984], [41.87988689, -87.62935957], [41.88694469, -87.61555436], [41.97418428, -87.6577567], [41.76806609, -87.56757026], [41.92629278, -87.76360971], [41.76202613, -87.68439068], [41.98599984, -87.65526673], [41.88214215, -87.68230272], [41.87290443, -87.75827914], [41.69928276, -87.66806415], [41.86540055, -87.71783042], [41.77157531, -87.63869807], [41.69928276, -87.66806415], [41.88227954, -87.7622786], [41.75557587, -87.63685488], [41.90176188, -87.72505208], [41.98079612, -87.65793691], [41.78029499, -87.68488847], [41.79051554, -87.65555237], [41.97584867, -87.84154518], [41.65801195, -87.59758737], [41.93702832, -87.69775831], [41.82946756, -87.69477995], [41.77921341, -87.61560212], [41.84567294, -87.7123859], [41.8904766, -87.65344628], [41.98556105, -87.66987362], [41.98367081, -87.65726287], [41.88420718, -87.67916028], [41.90182232, -87.63307118], [41.84540926, -87.64037729], [41.97236456, -87.65630497], [41.8649607, -87.6926023], [41.86466343, -87.71293275], [41.88466691, -87.76501895], [41.74422264, -87.6669262], [41.81561054, -87.69014135], [41.92385718, -87.7739166], [41.80833483, -87.69101009], [41.75449139, -87.57605099], [41.65539139, -87.59677556], [41.87745606, -87.76356633], [41.79043923, -87.61587294], [41.89419807, -87.71261763], [41.86803556, -87.72152428], [41.87850659, -87.63521319], [41.73987744, -87.56727503], [41.79899602, -87.65986029], [41.96589316, -87.66936438], [41.96591902, -87.65780358], [41.90004, -87.72378279], [41.96335777, -87.7556832], [41.76421075, -87.6480255], [41.79769722, -87.74948645], [41.84000954, -87.71711232], [41.98808322, -87.65675272], [41.74024245, -87.54296671], [41.91509646, -87.74674229], [41.91920409, -87.75968244], [41.80228398, -87.66602785], [41.78873593, -87.718744], [41.78813302, -87.6992055], [41.74862964, -87.60147145], [41.90715332, -87.63968057], [41.77606978, -87.58780014], [41.8032982, -87.65319504], [41.77487323, -87.66165247], [41.9533968, -87.6614761], [41.72841671, -87.66620669], [41.86709763, -87.72370299], [41.86249155, -87.70715343], [41.96431322, -87.66100108], [41.87261879, -87.72676043], [41.73300177, -87.66419917], [41.96290278, -87.71725691], [41.81459005, -87.69562474], [41.92718494, -87.75379742], [41.86958421, -87.71963338], [41.96097237, -87.72577979], [41.85791754, -87.71030357], [41.99451988, -87.70682104], [41.69574889, -87.61223948], [41.69014612, -87.61329792], [41.7955637, -87.6208656], [41.85019897, -87.62702415], [41.81751688, -87.61981525], [41.90086525, -87.72415696], [42.01814451, -87.66969695], [41.87047713, -87.74339809], [41.65613798, -87.53989375], [41.74920414, -87.55891145], [41.85143391, -87.73212862], [41.87493841, -87.7480533], [41.77021407, -87.62342265], [41.89416285, -87.6728515], [41.81067058, -87.62124844], [41.96607653, -87.77720605], [42.0030769, -87.69646489], [41.83568634, -87.62064461], [41.96335777, -87.7556832], [41.96917167, -87.71338692], [41.80843184, -87.61385656], [41.99314698, -87.65548148], [41.82266136, -87.61568577], [41.7240424, -87.59573926], [41.89228749, -87.77504792], [41.83720476, -87.64967659], [41.86963088, -87.7196366], [41.88325605, -87.73470946], [41.90552651, -87.63931246], [41.73676856, -87.54582319], [41.75754768, -87.60781337], [41.76703601, -87.58280952], [41.79315445, -87.67184326], [41.75872791, -87.59023664], [41.92130859, -87.75852083], [41.84161401, -87.72569548], [41.98072748, -87.65653269], [41.81009089, -87.61147208], [41.9526912, -87.70553609], [41.86900296, -87.68429014], [41.89421454, -87.71261747], [41.82597031, -87.63382133], [41.88681562, -87.63152371], [41.84301696, -87.61722727], [41.98546806, -87.69559215], [41.8554816, -87.66319197], [41.97241942, -87.65490699], [41.90552651, -87.63931246], [41.88895519, -87.714905], [41.73577965, -87.66383693], [41.76488519, -87.62975675], [41.88225903, -87.76367422], [41.84161401, -87.72569548], [41.86718161, -87.71681473], [41.97341432, -87.75658158], [41.92167252, -87.69940623], [41.75012955, -87.61651254], [41.85227684, -87.6689514], [41.77723372, -87.66171949], [41.88210387, -87.68475247], [41.79059182, -87.59023177], [41.75056351, -87.5978984], [41.92954094, -87.76010065], [41.80098441, -87.61613674], [41.90076128, -87.77046332], [41.88088729, -87.76652497], [41.76398079, -87.56647888], [41.81123479, -87.66868974], [41.91191043, -87.70926811], [42.01140471, -87.67492219], [41.8039851, -87.67213899], [41.87333355, -87.66282194], [41.79973775, -87.71109117], [41.81456382, -87.60448136], [41.89740192, -87.66493936], [41.79845782, -87.69637149], [41.76154459, -87.58195719], [41.75395486, -87.66660931], [41.99942682, -87.8116929], [41.87504564, -87.74326795], [41.79926998, -87.61933922], [41.82519443, -87.61702233], [41.76350612, -87.63627429], [41.90687703, -87.72399695], [41.98932284, -87.69692938], [41.79201383, -87.62239374], [41.77098218, -87.68463768], [41.86000405, -87.71401667], [41.97950616, -87.69334934], [41.82785622, -87.69965386], [41.85601081, -87.66452993], [41.76356441, -87.56535855], [41.81224459, -87.60443062], [41.86029202, -87.72012237], [41.8818476, -87.64177207], [41.77975821, -87.73622296], [41.89266778, -87.61621016], [42.0030769, -87.69646489], [41.78584811, -87.60758238], [41.68911519, -87.61257351], [41.77601854, -87.61552043], [41.93522863, -87.72108464], [41.83069725, -87.61447689], [41.95462957, -87.72924436], [41.77142317, -87.63668714], [41.88092426, -87.77181621], [41.75121488, -87.57109815], [41.77532237, -87.64710068], [41.86566201, -87.72882336], [41.74696629, -87.60142439], [41.89702176, -87.62978114], [41.74696131, -87.6002115], [41.92425991, -87.74468876], [41.72435701, -87.64329137], [41.96607653, -87.77720605], [41.8144705, -87.60447875], [41.66015543, -87.63410004], [41.74678458, -87.60262473], [41.77532237, -87.64710068], [41.92581566, -87.76534842], [41.75652121, -87.5614733], [41.75117122, -87.56865796], [41.81679288, -87.60806218], [41.80118769, -87.67819359], [41.76904438, -87.57148463], [41.90270902, -87.77538693], [41.81349232, -87.64201633], [41.7809464, -87.62199537], [41.96472299, -87.70524884], [41.91714333, -87.72817242], [41.91714333, -87.72817242], [41.92190758, -87.80435111], [41.78311636, -87.61569426], [41.9050394, -87.74954542], [41.82965153, -87.6144519], [41.75006628, -87.55491394], [41.85023668, -87.68410183], [41.74810391, -87.64152733], [41.749288, -87.57228263], [41.77598287, -87.61552082], [41.82147327, -87.60351884], [41.7815766, -87.6156601], [41.9548652, -87.64529932], [41.98184713, -87.65700264], [41.96335777, -87.7556832], [41.78878607, -87.62231573], [41.77024407, -87.62829418], [41.88225903, -87.76367422], [41.76434364, -87.57525337], [41.7608004, -87.63089362], [41.84453689, -87.70332817], [41.88567542, -87.64673629], [41.7687411, -87.59054632], [41.92892817, -87.70941096], [41.91769198, -87.73758066], [41.82344314, -87.70811373], [41.89012893, -87.76521294], [41.76488726, -87.61282207], [42.00714882, -87.66500965], [41.75812114, -87.56392809], [41.96592602, -87.70594669], [41.81620715, -87.60917666], [41.89995426, -87.71646285], [41.78118411, -87.61564981], [41.85168437, -87.63477451], [41.80712307, -87.73335737], [41.94877066, -87.7127759], [41.7358169, -87.66128649], [41.93804827, -87.65677834], [41.90548684, -87.71496957], [41.87746777, -87.67827798], [41.87622754, -87.7215967], [41.8414773, -87.71959742], [41.85429126, -87.73328747], [41.80475662, -87.6194727], [41.89134906, -87.74914122], [41.76505937, -87.60920595], [41.80113154, -87.61772683], [41.90086525, -87.72415696], [41.96722269, -87.68886122], [41.97555109, -87.65639259], [41.78584811, -87.60758238], [41.88482857, -87.74910882], [41.90531421, -87.68955035], [41.79340561, -87.5848746], [41.91518726, -87.77542523], [41.96938944, -87.70048881], [41.70305698, -87.60267327], [41.9538503, -87.71330381], [41.75593343, -87.60165969], [41.87756569, -87.68489383], [41.73935725, -87.58790616], [41.87671322, -87.75061111], [41.99941995, -87.69764551], [41.90086525, -87.72415696], [41.7586038, -87.55735072], [41.79821483, -87.69758781], [41.97119304, -87.70610829], [41.81701202, -87.70185915], [41.87076413, -87.72167082], [41.76520694, -87.61041391], [41.77139573, -87.65549707], [41.88225903, -87.76367422], [41.99945076, -87.66067547], [41.97678442, -87.69000419], [41.7918657, -87.64630819], [41.96383537, -87.70955217], [41.96335586, -87.75584868], [41.98030007, -87.69055358], [41.7787203, -87.67389443], [41.75355063, -87.56579312], [41.8485851, -87.6319087], [41.8485851, -87.6319087], [41.78133505, -87.61565179], [41.79328076, -87.65120703], [41.75690947, -87.58997175], [41.749288, -87.57228263], [41.84644018, -87.69614166], [41.75620038, -87.55257484], [41.76599667, -87.59478239], [41.86360981, -87.72631694], [41.74825465, -87.64882553], [41.76525427, -87.5793517], [41.80887363, -87.60168481], [41.988059, -87.66857867], [41.90810056, -87.73382716], [41.87802859, -87.7217521], [41.76920629, -87.58442282], [41.95277547, -87.79450089], [41.85911017, -87.65768446], [41.770891, -87.62862436], [41.79001753, -87.65719674], [41.74152369, -87.58176926], [41.7694739, -87.68337352], [41.97561098, -87.75902941], [41.76519185, -87.58365209], [41.75990276, -87.59325789], [41.87964275, -87.77464023], [41.80991692, -87.66621641], [41.7544266, -87.56628477], [41.87255731, -87.72395953], [41.9041296, -87.74979983], [41.83465008, -87.61684718], [41.90715332, -87.63968057], [41.75320415, -87.73040747], [41.87173011, -87.71858847], [41.77021039, -87.64171509], [41.94511157, -87.7321793], [41.97597841, -87.83662354], [41.93805443, -87.71735279], [41.73468662, -87.54998137], [41.89702176, -87.62978114], [41.97808697, -87.84646714], [41.71629747, -87.62177837], [41.65237196, -87.61796334], [41.6772698, -87.63827818], [41.73746708, -87.64337089], [41.87918974, -87.64886206], [41.78047766, -87.79110242], [41.75303245, -87.56504433], [41.8833302, -87.7649647], [41.75621773, -87.5895216], [41.77615028, -87.61552262], [41.76711724, -87.57097225], [41.97403168, -87.65980667], [41.76806825, -87.56748226], [41.74514597, -87.60258468], [41.97119304, -87.70610829], [41.79535784, -87.62086055], [41.75188012, -87.65256172], [41.91308817, -87.70683181], [41.76502548, -87.57627535], [41.89626986, -87.67706111], [41.74423628, -87.55030868], [41.88995201, -87.7165591], [41.98130595, -87.69772273], [41.79632205, -87.69971522], [41.91766911, -87.73634633], [41.77540242, -87.65317823], [41.97889593, -87.69415352], [41.74238605, -87.65230659], [41.77056635, -87.58257042], [41.79470574, -87.62191292], [41.7139878, -87.66115134], [41.78626055, -87.70253868], [41.78584811, -87.60758238], [41.90131313, -87.73364821], [41.77008917, -87.64575245], [41.87082547, -87.71672097], [41.87157398, -87.73369496], [41.78742937, -87.62170737], [41.90575188, -87.76631979], [41.77958237, -87.60836797], [41.78407589, -87.68621802], [41.8591033, -87.7038056], [41.88099266, -87.70452718], [41.79199736, -87.62239392], [41.94266078, -87.64013022], [41.78217537, -87.60918206], [41.93507141, -87.80908633], [41.78584811, -87.60758238], [41.89044951, -87.74871237], [41.93060283, -87.71715989], [42.00173749, -87.6697755], [41.77750345, -87.61555886], [41.76157203, -87.59209513], [41.76531811, -87.58365429], [41.89587004, -87.75807684], [41.89950183, -87.7544849], [41.76713786, -87.56870665], [41.77527305, -87.76469892], [41.84998354, -87.67578366], [41.8944532, -87.71872322], [41.75643175, -87.5600047], [41.75138151, -87.70122381], [41.85510333, -87.66467887], [41.8767019, -87.75162466], [41.78337614, -87.64560318], [41.85012875, -87.69175566], [41.9633099, -87.73403054], [41.74950024, -87.60114274], [41.69140647, -87.71116971], [41.76733048, -87.58125919], [41.65673859, -87.61494361], [41.91792993, -87.72902476], [41.94612787, -87.67005473], [42.0149119, -87.6711289], [41.78317401, -87.61569728], [41.85484006, -87.70656002], [41.93145957, -87.70862556], [41.84197912, -87.70984534], [41.93843063, -87.63764366], [41.75609493, -87.6446594], [41.78637942, -87.6952407], [41.75456682, -87.56386059], [41.77404202, -87.59849177], [41.95423391, -87.72395783], [41.87862256, -87.72559838], [41.68258157, -87.61750436], [41.96338208, -87.71810533], [41.81437718, -87.60447613], [41.90461115, -87.76816663], [41.76340431, -87.60916591], [41.72945809, -87.5442749], [41.87863354, -87.72559828], [41.95423391, -87.72395783], [41.78211045, -87.61282361], [41.86556857, -87.70930047], [41.87749342, -87.76059539], [41.84203894, -87.71839566], [41.85658105, -87.7199853], [41.88096635, -87.70674175], [41.87882764, -87.72909955], [41.90646338, -87.75219582], [41.8843774, -87.75105193], [41.78044555, -87.66424513], [41.75373766, -87.65018925], [41.78559091, -87.62174236], [41.78663238, -87.62063816], [41.80860623, -87.60278825], [41.86249155, -87.70715343], [41.8682456, -87.77177297], [41.76944782, -87.56653841], [41.69181841, -87.67813658], [41.95866949, -87.6514167], [41.82454686, -87.63305535], [41.74934346, -87.61193317], [41.98546806, -87.69559215], [41.78398389, -87.68499064], [41.75791679, -87.60412944], [41.88294797, -87.69187912], [41.96350901, -87.83669099], [41.74950024, -87.60114274], [41.99049305, -87.65682652], [41.85283164, -87.71015839], [41.75701427, -87.55563996], [41.89246534, -87.72110021], [41.87828506, -87.71430286], [41.87519639, -87.73107247], [41.84426296, -87.72376199], [41.74046751, -87.54297128], [41.9926985, -87.6798861], [41.80265078, -87.65509074], [41.88325605, -87.73470946], [41.76057736, -87.58766429], [41.96832908, -87.72000662], [41.87486344, -87.75383339], [41.88296507, -87.77331498], [41.75340254, -87.57781559], [41.78123143, -87.6206063], [41.80881783, -87.59681799], [41.78663238, -87.62063816], [41.88889207, -87.76150355], [41.77615028, -87.61552262], [41.81465065, -87.6882911], [41.76578321, -87.57258256], [41.79968806, -87.62259131], [41.99049305, -87.65682652], [41.79218401, -87.62239919], [41.77672809, -87.69333098], [41.91344374, -87.77410674], [41.90744812, -87.68837538], [41.87716006, -87.76475132], [41.85519055, -87.6238712], [41.77493544, -87.78214151], [41.87047503, -87.74352294], [41.8832431, -87.73591041], [41.90988098, -87.76556686], [41.95602692, -87.73091497], [41.75722411, -87.5623445], [41.79489261, -87.6938324], [41.9710064, -87.70610276], [41.871089, -87.73647521], [41.78322889, -87.61569667], [41.804126, -87.66849914], [41.77564802, -87.61551356], [41.77615028, -87.61552262], [41.76744704, -87.68943132], [41.90718991, -87.724005], [41.77143167, -87.68211102], [41.65379279, -87.59784397], [41.88144179, -87.66783781], [41.7139878, -87.66115134], [41.83606315, -87.65989749], [41.67716733, -87.63225039], [41.77784884, -87.59301127], [41.78320968, -87.61569688], [41.871089, -87.73647521], [41.77417234, -87.60214165], [41.74206279, -87.55272781], [41.87992109, -87.76647843], [41.93186019, -87.72135941], [41.76344283, -87.56646696], [41.77106835, -87.58379996], [41.81618792, -87.60917321], [41.72243452, -87.6321688], [41.77197328, -87.6283449], [41.94634655, -87.72957987], [41.93713487, -87.79073301], [41.87858654, -87.74610322], [41.92253225, -87.73694404], [41.87980815, -87.72199218], [41.87385276, -87.76244173], [41.7523294, -87.60890194], [41.86560639, -87.71783579], [41.85888765, -87.65438669], [41.86750441, -87.70447948], [41.79234231, -87.61916308], [41.82132742, -87.62315551], [41.86442366, -87.71886773], [41.88318589, -87.77189189], [41.93289261, -87.64033523], [41.78029675, -87.67029255], [41.90756042, -87.76633685], [41.97100601, -87.70854818], [41.76587178, -87.63222756], [41.90932322, -87.64823532], [41.87749785, -87.76038238], [42.02011466, -87.66824489], [41.76881654, -87.58441269], [41.93072844, -87.75885154], [41.81614236, -87.59940103], [41.93871347, -87.65649932], [41.77792296, -87.59301408], [41.81169896, -87.66261777], [41.85807838, -87.71518422], [41.82622073, -87.66907044], [41.89550709, -87.7568423], [41.91612485, -87.73018813], [41.81812008, -87.70274339], [41.75298769, -87.665934], [41.96423913, -87.66100186], [41.79523709, -87.6670471], [41.76159498, -87.57708906], [41.78497793, -87.63274177], [41.90314022, -87.75711894], [41.76925553, -87.6197528], [41.90314022, -87.75711894], [41.76803972, -87.62018049], [41.90314022, -87.75711894], [41.79153872, -87.68641433], [41.84471323, -87.69352736], [41.79914917, -87.62420362], [41.77308501, -87.56833541], [41.98027942, -87.69176748], [41.82938992, -87.60689263], [41.8530508, -87.67900435], [41.88325605, -87.73470946], [41.8718854, -87.70419055], [41.88325596, -87.7346911], [41.78940617, -87.66811222], [41.87449336, -87.71446062], [41.99169448, -87.67180367], [42.02114727, -87.66980558], [41.89840809, -87.69318634], [41.88144179, -87.66783781], [41.77294979, -87.6968952], [41.76193121, -87.58232654], [41.81078493, -87.59374358], [41.87138519, -87.72028805], [41.95574168, -87.70734804], [41.89030099, -87.76338609], [41.87693238, -87.73822742], [41.90212049, -87.7672776], [41.77740587, -87.63174998], [41.76694555, -87.64965692], [41.89740192, -87.66493936], [41.96729694, -87.65367436], [41.78311365, -87.62054879], [41.78475493, -87.5881432], [41.81308594, -87.62131339], [41.85604242, -87.71881581], [42.01710383, -87.66911162], [41.73677777, -87.55280281], [41.88281685, -87.76659605], [41.83069725, -87.61447689], [41.86197913, -87.71285591], [41.91250347, -87.69583037], [41.75982395, -87.61149693], [41.77785214, -87.65024501], [41.97020732, -87.65765163], [41.77416712, -87.60824566], [41.82147327, -87.60351884], [41.75673934, -87.55678311], [41.76693913, -87.64996124], [41.87309633, -87.62735959], [41.85101058, -87.70032831], [41.74938092, -87.60959839], [41.86197529, -87.71163716], [41.88312709, -87.76495915], [41.76528444, -87.60921075], [41.78933292, -87.67780827], [41.80889286, -87.60168826], [41.69580377, -87.61223887], [41.89912123, -87.76676046], [41.78302035, -87.62054983], [41.9548652, -87.64529932], [41.7770582, -87.63866457], [41.88747262, -87.71021113], [41.99865516, -87.68503817], [41.95183948, -87.64962567], [42.0047909, -87.67057528], [41.74627759, -87.66211918], [41.77308501, -87.56833541], [41.89174091, -87.72162499], [41.97598431, -87.84503418], [41.78293249, -87.61569264], [41.97263213, -87.69882394], [41.7385385, -87.55022035], [41.85715549, -87.6409663], [41.91840676, -87.79508038], [41.9341908, -87.72460071], [41.75622793, -87.63622477], [41.86730734, -87.67136575], [41.79595662, -87.70362814], [41.79595662, -87.70362814], [41.95360482, -87.77679244], [41.89479333, -87.769502], [41.87388928, -87.63361483], [41.90372293, -87.7337175], [41.8778092, -87.76173455], [41.88122498, -87.76157191], [41.74947871, -87.55042821], [41.80226477, -87.66602805], [41.72654397, -87.6154743], [41.96184742, -87.76482263], [41.86533363, -87.73371289], [41.8576541, -87.67680634], [41.81425268, -87.61828878], [41.7760899, -87.61070598], [41.76415291, -87.59655562], [41.85598732, -87.72237693], [42.00172012, -87.67104496], [41.95083054, -87.75953497], [41.78109837, -87.62039146], [41.95085798, -87.75953473], [41.90403999, -87.75759942], [41.84193238, -87.72570348], [41.90955216, -87.66143642], [41.78145134, -87.652799], [41.65720862, -87.6028697], [41.76613944, -87.64197875], [41.92524177, -87.73291707], [41.69810796, -87.5281879], [41.76340558, -87.59941954], [41.98315975, -87.69108388], [42.01546492, -87.68048107], [41.87172956, -87.71848567], [41.7648289, -87.62328408], [41.93215403, -87.77356848], [41.75627114, -87.56510833], [41.86181335, -87.71163139], [41.86242087, -87.71334724], [41.69310736, -87.62791794], [41.74678458, -87.60262473], [41.7680105, -87.57324906], [41.87396879, -87.62598777], [41.75039199, -87.62297778], [41.74719371, -87.57346901], [41.87695117, -87.7365602], [41.90457987, -87.6406966], [41.69309361, -87.62791443], [41.96220604, -87.72296267], [41.76613944, -87.64197875], [41.76613944, -87.64197875], [41.88108866, -87.72076449], [41.76344283, -87.56646696], [41.89925347, -87.76797879], [41.76181302, -87.58355947], [41.98822046, -87.65815637], [41.87487707, -87.73772509], [41.76748539, -87.56649946], [41.78841278, -87.62230519], [41.92062601, -87.74298049], [41.95309799, -87.7735801], [41.91101033, -87.78106058], [41.77464395, -87.70303746], [42.00920197, -87.66086711], [42.01856391, -87.66583222], [41.98969435, -87.65680187], [41.90843054, -87.63850953], [41.93928657, -87.75426123], [41.765444, -87.62690618], [41.86933338, -87.68691924], [41.90319541, -87.69688908], [41.79648197, -87.68655532], [41.6687607, -87.63755352], [41.90319541, -87.69688908], [41.7540043, -87.55369359], [41.7694739, -87.68337352], [41.78450988, -87.64611906], [41.82494378, -87.63379215], [41.88222891, -87.76590353], [41.77436349, -87.6106667], [41.87690811, -87.70232369], [41.77289113, -87.61965751], [41.9148022, -87.69467588], [41.84437742, -87.71539686], [41.84190562, -87.71350495], [41.87177481, -87.71413804], [41.69257542, -87.62398042], [41.83763779, -87.72314965], [41.98277774, -87.65659189], [41.94379886, -87.66877398], [41.92594912, -87.75743188], [41.99355232, -87.68236779], [41.81142121, -87.60053336], [41.87655597, -87.65499284], [42.02115883, -87.67133274], [41.96176089, -87.65582896], [41.99841495, -87.68380818], [41.87177688, -87.71401319], [41.99495942, -87.69101676], [41.87886004, -87.72639663], [41.86152336, -87.71893955], [41.82390151, -87.6117022], [41.9038907, -87.63204572], [41.88635374, -87.62069138], [41.75398342, -87.6644394], [41.75284591, -87.56382617], [41.98951987, -87.66969273], [41.74674239, -87.66135212], [41.72041092, -87.55242948], [41.89283722, -87.71013695], [41.7523905, -87.60036228], [41.99858413, -87.66029831], [41.93593122, -87.72574555], [41.88309139, -87.76163606], [41.83358524, -87.64373761], [41.83358524, -87.64373761], [41.81413328, -87.59935793], [41.7614112, -87.6544366], [41.97236456, -87.65630497], [41.9900914, -87.65619073], [41.83619432, -87.64866353], [41.86809735, -87.71665907], [41.88410355, -87.67495286], [41.83619432, -87.64866353], [41.75111441, -87.55894712], [41.88311115, -87.74704963], [41.91092804, -87.78738034], [41.87972331, -87.72877531], [41.74581529, -87.60340159], [41.76944782, -87.56653841], [41.84190476, -87.62953384], [41.75012955, -87.61651254], [41.73790327, -87.60121586], [41.85519055, -87.6238712], [41.74951669, -87.59942018], [41.78309702, -87.76192755], [41.89801308, -87.71883601], [41.90845147, -87.76951408], [41.87830524, -87.69988643], [41.85882988, -87.72798468], [41.765144, -87.61525677], [41.92982251, -87.65376362], [41.77757754, -87.61555804], [41.80383488, -87.65997834], [41.80860838, -87.62281917], [41.78174671, -87.69468533], [41.99626825, -87.70688114], [41.75111394, -87.56500858], [41.96665319, -87.65479535], [41.90810056, -87.73382716], [41.82876229, -87.61443616], [41.76975605, -87.64695105], [41.76427307, -87.58205731], [41.77750345, -87.61555886], [41.7365435, -87.54581861], [41.97418701, -87.65635555], [41.97760948, -87.8464671], [41.88214026, -87.6824533], [41.92107325, -87.77196774], [41.88601293, -87.62950532], [41.76302478, -87.63338749], [41.7485604, -87.66157136], [41.88093205, -87.70951455], [41.88093205, -87.70951455], [41.76524878, -87.56649677], [41.86240588, -87.7146396], [41.91043696, -87.72879419], [41.79397943, -87.64320886], [41.86185968, -87.72748988], [41.80407814, -87.66971366], [41.75533328, -87.63441663], [41.7841878, -87.657049], [41.88309007, -87.68008974], [41.91547348, -87.71605991], [41.84197957, -87.70740484], [41.87695484, -87.73621133], [41.82848375, -87.62170784], [41.97743838, -87.83981546], [41.84400018, -87.6284429], [41.8640337, -87.71779213], [41.79342444, -87.58355421], [41.9031259, -87.63218266], [41.87843142, -87.75829201], [41.76429133, -87.58023536], [41.89702176, -87.62978114], [41.76806982, -87.56730628], [41.85519055, -87.6238712], [41.85041429, -87.73446887], [42.00441405, -87.67137023], [41.85632673, -87.71147529], [41.78161642, -87.70892352], [41.76424935, -87.58430819], [41.84754471, -87.71854113], [41.97236456, -87.65630497], [41.81029, -87.61962035], [41.81337192, -87.67237994], [41.8453617, -87.70260808], [41.8597774, -87.72864752], [41.68079503, -87.62637581], [41.79323141, -87.72137806], [41.99945076, -87.66067547], [41.80700782, -87.60432126], [41.95982814, -87.70942581], [41.88601806, -87.63393788], [41.78701484, -87.61903154], [41.95982814, -87.70942581], [41.75638368, -87.56511065], [41.74944027, -87.55648996], [41.74522503, -87.6037967], [41.79371736, -87.6240618], [41.96330484, -87.67690677], [41.85164273, -87.71664831], [41.77665422, -87.68846302], [42.01293399, -87.68179117], [41.8809334, -87.70925748], [41.85465411, -87.71021044], [42.00441405, -87.67137023], [41.96007813, -87.74749911], [41.80805122, -87.66251644], [41.80113154, -87.61772683], [42.01980904, -87.66949196], [41.93279814, -87.72331296], [41.76338843, -87.60795283], [41.76936427, -87.68826843], [42.00441405, -87.67137023], [41.76604765, -87.57897586], [41.83765394, -87.65601299], [41.77840288, -87.70190076], [41.76293557, -87.5628406], [41.77780449, -87.60713048], [41.89094332, -87.62354548], [41.86515248, -87.7140551], [41.84712657, -87.69127183], [41.75049612, -87.60152721], [41.77840288, -87.70190076], [41.75191615, -87.64892589], [41.76542692, -87.63038497]],\n",
       "                {\n",
       "  &quot;minOpacity&quot;: 0.5,\n",
       "  &quot;maxZoom&quot;: 18,\n",
       "  &quot;radius&quot;: 25,\n",
       "  &quot;blur&quot;: 15,\n",
       "}\n",
       "            );\n",
       "        \n",
       "    \n",
       "            heat_map_5ae0620165a420de5a3bac580efa3f1a.addTo(map_a06f25855cc4dc57c55ee34ccffa941d);\n",
       "        \n",
       "    \n",
       "            tile_layer_17eb69496b9ec2af2abfc99c9f6ea3d0.addTo(map_a06f25855cc4dc57c55ee34ccffa941d);\n",
       "        \n",
       "    \n",
       "            heat_map_5ae0620165a420de5a3bac580efa3f1a.addTo(map_a06f25855cc4dc57c55ee34ccffa941d);\n",
       "        \n",
       "&lt;/script&gt;\n",
       "&lt;/html&gt;\" style=\"position:absolute;width:100%;height:100%;left:0;top:0;border:none !important;\" allowfullscreen webkitallowfullscreen mozallowfullscreen></iframe></div></div>"
      ],
      "text/plain": [
       "<folium.folium.Map at 0x12681d85be0>"
      ]
     },
     "execution_count": 72,
     "metadata": {},
     "output_type": "execute_result"
    }
   ],
   "source": [
    "import folium\n",
    "from folium.plugins import HeatMap\n",
    "\n",
    "\n",
    "locations  = list(zip(primary_df['Latitude'],primary_df['Longitude']))\n",
    "\n",
    "m = folium.Map(location=[primary_df['Latitude'].mean(), primary_df['Longitude'].mean()], zoom_start=10)\n",
    "\n",
    "# Step 3: Add the heatmap layer\n",
    "HeatMap(locations).add_to(m)\n",
    "\n",
    "# Step 4: Save or display the map\n",
    "m.save('arrest_heatmap.html')  # Save the map as an HTML file\n",
    "m  # Display the map in a Jupyter Notebook"
   ]
  },
  {
   "cell_type": "markdown",
   "id": "25927772-27f8-4afd-99d3-2af1002060bd",
   "metadata": {},
   "source": [
    "<h2>INSIGHT 32: The heatmap shows that apartment-related arrests are highly concentrated around the New City and Back of the Yards areas, indicating frequent law enforcement activity in these neighborhoods.</h2>"
   ]
  },
  {
   "cell_type": "markdown",
   "id": "45013bb0-763e-4de5-85cf-a880e26a7e42",
   "metadata": {},
   "source": [
    "<h2>INSIGHT 33: Sherman Park and its surrounding blocks also display noticeable arrest density, suggesting ongoing security or policing focus in that vicinity. </h2>"
   ]
  },
  {
   "cell_type": "markdown",
   "id": "23a3efe9-026e-4d46-8fe1-22df45c15e2c",
   "metadata": {},
   "source": [
    "<H2>INSIGHT 34: The northern and southern edges of the mapped area show fewer heat spots, implying that apartment-related incidents are less common or less reported in those zones. </H2>"
   ]
  },
  {
   "cell_type": "markdown",
   "id": "aec02837-f66f-473f-a093-290d57905ed2",
   "metadata": {},
   "source": [
    "<H2>INSIGHT 35: The clustering of hotspots along major roads like West 47th and West 51st Streets suggests that accessibility and traffic flow may influence where arrests are most frequent.</H2>"
   ]
  },
  {
   "cell_type": "code",
   "execution_count": null,
   "id": "7d3c74db-9a2c-49c2-b34e-32f785b9120e",
   "metadata": {},
   "outputs": [],
   "source": []
  }
 ],
 "metadata": {
  "kernelspec": {
   "display_name": "Python 3 (ipykernel)",
   "language": "python",
   "name": "python3"
  },
  "language_info": {
   "codemirror_mode": {
    "name": "ipython",
    "version": 3
   },
   "file_extension": ".py",
   "mimetype": "text/x-python",
   "name": "python",
   "nbconvert_exporter": "python",
   "pygments_lexer": "ipython3",
   "version": "3.13.0"
  }
 },
 "nbformat": 4,
 "nbformat_minor": 5
}
